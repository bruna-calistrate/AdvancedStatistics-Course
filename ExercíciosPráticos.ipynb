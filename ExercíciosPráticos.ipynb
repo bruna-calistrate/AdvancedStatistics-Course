{
 "cells": [
  {
   "cell_type": "markdown",
   "id": "92fa8c1a-f007-414c-91c5-9af73ae301a4",
   "metadata": {},
   "source": [
    "# 1. Contextualização\n",
    "Robert é um Investidor Anjo e pretende fechar negócio com algumas startups dos Estados Unidos. Ele pretende fazer uma pesquisa entre 50 startups selecionadas e, para isso, irá precisar de uma análise estatística dessas empresas para tomar sua decisão.\n",
    "\n",
    "Você foi contratado por Robert como Consultor de Ciência de Dados para realizar essa análise entre as 50 startups. Através de seus conhecimentos de estatística, faça o tratamento de dados necessário da base dessas empresas e monte um modelo de regressão que auxilie na tomada de decisão do investidor.\n",
    "\n",
    "**Dataset**: https://www.kaggle.com/datasets/karthickveerakumar/startup-logistic-regression"
   ]
  },
  {
   "cell_type": "markdown",
   "id": "9b88e6e0-e050-4920-acf2-6fe9367239cc",
   "metadata": {},
   "source": [
    "# 2. Carregamento de bibliotecas e Funções"
   ]
  },
  {
   "cell_type": "code",
   "execution_count": 1,
   "id": "aadc2b73-be37-4995-b127-cd32694e4ae0",
   "metadata": {},
   "outputs": [],
   "source": [
    "import matplotlib.pyplot as plt\n",
    "import numpy as np\n",
    "import pandas as pd\n",
    "import patsy as pt\n",
    "import scipy as sp\n",
    "import seaborn as sns\n",
    "import statsmodels.api as sm\n",
    "from sklearn import metrics\n",
    "from sklearn.linear_model import Ridge\n",
    "from sklearn.model_selection import train_test_split\n",
    "from statsmodels.stats.outliers_influence import variance_inflation_factor"
   ]
  },
  {
   "cell_type": "code",
   "execution_count": 113,
   "id": "eba9e9cb-59e8-4c17-915d-ccace8e4d6c2",
   "metadata": {},
   "outputs": [],
   "source": [
    "def desc_null(df, percentiles=False):\n",
    "    if percentiles is True:\n",
    "        des = df.describe(include=\"all\", datetime_is_numeric=True,\n",
    "                          percentiles=[0.05, 0.25, 0.5, 0.75, 0.9, 0.99]).T\n",
    "        des[\"nullCount\"] = df.shape[0] - des[\"count\"]\n",
    "        des[\"null%\"] = (des[\"nullCount\"] / df.shape[0]) * 100\n",
    "    else:\n",
    "        des = df.describe(include=\"all\", datetime_is_numeric=True).T\n",
    "        des[\"nullCount\"] = df.shape[0] - des[\"count\"]\n",
    "        des[\"null%\"] = (des[\"nullCount\"] / df.shape[0]) * 100\n",
    "\n",
    "    return des"
   ]
  },
  {
   "cell_type": "code",
   "execution_count": 3,
   "id": "bdc76fde-4fb3-423f-94a1-2f5257fca708",
   "metadata": {},
   "outputs": [],
   "source": [
    "def histplot(\n",
    "    data, title=None, xlabel=None, ylabel=None, x=None, y=None, figsize=(10, 5), bins=10\n",
    "):\n",
    "    import matplotlib.pyplot as plt\n",
    "    import seaborn as sns\n",
    "\n",
    "    plt.figure(figsize=figsize)\n",
    "\n",
    "    sns.histplot(data=data, x=x, y=y, bins=bins)\n",
    "\n",
    "    plt.title(title)\n",
    "    plt.xlabel(xlabel)\n",
    "    plt.ylabel(ylabel)\n",
    "\n",
    "    return plt.show()"
   ]
  },
  {
   "cell_type": "code",
   "execution_count": 4,
   "id": "cc4510b9-d006-4b91-9305-1bc29819f13a",
   "metadata": {},
   "outputs": [],
   "source": [
    "def corrplot(data):\n",
    "    import matplotlib.pyplot as plt\n",
    "    import seaborn as sns\n",
    "\n",
    "    plt.figure(figsize=(10, 7))\n",
    "\n",
    "    sns.heatmap(\n",
    "        data=data.corr(),\n",
    "        cmap=sns.diverging_palette(230, 20, as_cmap=True),\n",
    "        vmin=-1,\n",
    "        vmax=1,\n",
    "        annot=True,\n",
    "    )\n",
    "\n",
    "    return plt.show()"
   ]
  },
  {
   "cell_type": "code",
   "execution_count": 5,
   "id": "9ad65fa9-9601-4e38-aa3f-c184b497da97",
   "metadata": {},
   "outputs": [],
   "source": [
    "def feat_scale(x):\n",
    "    import numpy as np\n",
    "\n",
    "    # Calcular a média da variável\n",
    "    mean = np.mean(x, axis=0)\n",
    "\n",
    "    # Calcular o desvio padrão amostral da variável\n",
    "    sigma = np.std(x, axis=0, ddof=1)\n",
    "\n",
    "    # Realizar o escalonamento\n",
    "    xnorm = (x - mean) / sigma\n",
    "\n",
    "    return xnorm"
   ]
  },
  {
   "cell_type": "code",
   "execution_count": 6,
   "id": "782bf2fb-2fb6-4fc3-9665-64ca05e7e29a",
   "metadata": {},
   "outputs": [],
   "source": [
    "def fit_model(y, x):\n",
    "    import statsmodels.api as sm\n",
    "\n",
    "    reg = sm.OLS(y, x)\n",
    "    regfit = reg.fit()\n",
    "\n",
    "    return regfit"
   ]
  },
  {
   "cell_type": "code",
   "execution_count": 90,
   "id": "92fc53a4-35d8-47e8-a0ee-43aae33ff727",
   "metadata": {},
   "outputs": [],
   "source": [
    "def previsao(y, fit, columns, residuo=False):\n",
    "    import pandas as pd\n",
    "    prev = pd.concat([y, fit], axis=1)\n",
    "    prev.columns = columns\n",
    "\n",
    "    if residuo is True:\n",
    "        prev['Residuo'] = prev[columns[0]] - prev[columns[1]]\n",
    "\n",
    "    return prev"
   ]
  },
  {
   "cell_type": "markdown",
   "id": "1fc52b87-6f39-4fe1-8f3c-8233af26d043",
   "metadata": {},
   "source": [
    "# 3. Carregamento dos dados\n",
    "\n",
    "* **R&D Spend**: Gastos com pesquisa e desenvolvimento pela startup (USD)\n",
    "    * Range: 0,00 - 165.349,20\n",
    "* **Administration**: Gastos administrativos pela startup (USD)\n",
    "    * Range: 51.283,14 - 182.645,56\n",
    "* **Marketing Spend**: Gastos com marketing pela startup (USD)\n",
    "    * Range: 0,00 - 471.784,10\n",
    "* **State**: Estado de origem da startup\n",
    "    * 3 valores únicos: New York (17), California (17), Florida (16)\n",
    "* **Profit**: Lucros da statup\n",
    "    * Range: 14.681,40 - 192.261,83"
   ]
  },
  {
   "cell_type": "code",
   "execution_count": 114,
   "id": "cb7b24d5-7da1-490b-96ba-ad8ca96c03f6",
   "metadata": {},
   "outputs": [],
   "source": [
    "df = pd.read_csv(\n",
    "    \"https://raw.githubusercontent.com/bruna-calistrate/\"\n",
    "    \"AdvancedStatistics-Course/main/data/50_Startups.csv\"\n",
    ")"
   ]
  },
  {
   "cell_type": "code",
   "execution_count": 115,
   "id": "f99c932b-220a-45ef-920f-2410ad1f5b2a",
   "metadata": {},
   "outputs": [
    {
     "data": {
      "text/html": [
       "<div>\n",
       "<style scoped>\n",
       "    .dataframe tbody tr th:only-of-type {\n",
       "        vertical-align: middle;\n",
       "    }\n",
       "\n",
       "    .dataframe tbody tr th {\n",
       "        vertical-align: top;\n",
       "    }\n",
       "\n",
       "    .dataframe thead th {\n",
       "        text-align: right;\n",
       "    }\n",
       "</style>\n",
       "<table border=\"1\" class=\"dataframe\">\n",
       "  <thead>\n",
       "    <tr style=\"text-align: right;\">\n",
       "      <th></th>\n",
       "      <th>R&amp;D Spend</th>\n",
       "      <th>Administration</th>\n",
       "      <th>Marketing Spend</th>\n",
       "      <th>State</th>\n",
       "      <th>Profit</th>\n",
       "    </tr>\n",
       "  </thead>\n",
       "  <tbody>\n",
       "    <tr>\n",
       "      <th>0</th>\n",
       "      <td>165349.20</td>\n",
       "      <td>136897.80</td>\n",
       "      <td>471784.10</td>\n",
       "      <td>New York</td>\n",
       "      <td>192261.83</td>\n",
       "    </tr>\n",
       "    <tr>\n",
       "      <th>1</th>\n",
       "      <td>162597.70</td>\n",
       "      <td>151377.59</td>\n",
       "      <td>443898.53</td>\n",
       "      <td>California</td>\n",
       "      <td>191792.06</td>\n",
       "    </tr>\n",
       "    <tr>\n",
       "      <th>2</th>\n",
       "      <td>153441.51</td>\n",
       "      <td>101145.55</td>\n",
       "      <td>407934.54</td>\n",
       "      <td>Florida</td>\n",
       "      <td>191050.39</td>\n",
       "    </tr>\n",
       "    <tr>\n",
       "      <th>3</th>\n",
       "      <td>144372.41</td>\n",
       "      <td>118671.85</td>\n",
       "      <td>383199.62</td>\n",
       "      <td>New York</td>\n",
       "      <td>182901.99</td>\n",
       "    </tr>\n",
       "    <tr>\n",
       "      <th>4</th>\n",
       "      <td>142107.34</td>\n",
       "      <td>91391.77</td>\n",
       "      <td>366168.42</td>\n",
       "      <td>Florida</td>\n",
       "      <td>166187.94</td>\n",
       "    </tr>\n",
       "  </tbody>\n",
       "</table>\n",
       "</div>"
      ],
      "text/plain": [
       "   R&D Spend  Administration  Marketing Spend       State     Profit\n",
       "0  165349.20       136897.80        471784.10    New York  192261.83\n",
       "1  162597.70       151377.59        443898.53  California  191792.06\n",
       "2  153441.51       101145.55        407934.54     Florida  191050.39\n",
       "3  144372.41       118671.85        383199.62    New York  182901.99\n",
       "4  142107.34        91391.77        366168.42     Florida  166187.94"
      ]
     },
     "execution_count": 115,
     "metadata": {},
     "output_type": "execute_result"
    }
   ],
   "source": [
    "df.head()"
   ]
  },
  {
   "cell_type": "code",
   "execution_count": 116,
   "id": "768a550b-bef4-4e2a-97aa-ce5141558b5a",
   "metadata": {},
   "outputs": [
    {
     "name": "stdout",
     "output_type": "stream",
     "text": [
      "<class 'pandas.core.frame.DataFrame'>\n",
      "RangeIndex: 50 entries, 0 to 49\n",
      "Data columns (total 5 columns):\n",
      " #   Column           Non-Null Count  Dtype  \n",
      "---  ------           --------------  -----  \n",
      " 0   R&D Spend        50 non-null     float64\n",
      " 1   Administration   50 non-null     float64\n",
      " 2   Marketing Spend  50 non-null     float64\n",
      " 3   State            50 non-null     object \n",
      " 4   Profit           50 non-null     float64\n",
      "dtypes: float64(4), object(1)\n",
      "memory usage: 2.1+ KB\n"
     ]
    }
   ],
   "source": [
    "df.info()"
   ]
  },
  {
   "cell_type": "code",
   "execution_count": 117,
   "id": "f56e9f20-6e89-4235-be8f-faceabc864ba",
   "metadata": {},
   "outputs": [
    {
     "data": {
      "text/html": [
       "<div>\n",
       "<style scoped>\n",
       "    .dataframe tbody tr th:only-of-type {\n",
       "        vertical-align: middle;\n",
       "    }\n",
       "\n",
       "    .dataframe tbody tr th {\n",
       "        vertical-align: top;\n",
       "    }\n",
       "\n",
       "    .dataframe thead th {\n",
       "        text-align: right;\n",
       "    }\n",
       "</style>\n",
       "<table border=\"1\" class=\"dataframe\">\n",
       "  <thead>\n",
       "    <tr style=\"text-align: right;\">\n",
       "      <th></th>\n",
       "      <th>count</th>\n",
       "      <th>unique</th>\n",
       "      <th>top</th>\n",
       "      <th>freq</th>\n",
       "      <th>mean</th>\n",
       "      <th>std</th>\n",
       "      <th>min</th>\n",
       "      <th>5%</th>\n",
       "      <th>25%</th>\n",
       "      <th>50%</th>\n",
       "      <th>75%</th>\n",
       "      <th>90%</th>\n",
       "      <th>99%</th>\n",
       "      <th>max</th>\n",
       "      <th>nullCount</th>\n",
       "      <th>null%</th>\n",
       "    </tr>\n",
       "  </thead>\n",
       "  <tbody>\n",
       "    <tr>\n",
       "      <th>R&amp;D Spend</th>\n",
       "      <td>50.0</td>\n",
       "      <td>NaN</td>\n",
       "      <td>NaN</td>\n",
       "      <td>NaN</td>\n",
       "      <td>73721.6156</td>\n",
       "      <td>45902.256482</td>\n",
       "      <td>0.0</td>\n",
       "      <td>748.231</td>\n",
       "      <td>39936.37</td>\n",
       "      <td>73051.08</td>\n",
       "      <td>101602.8</td>\n",
       "      <td>135364.648</td>\n",
       "      <td>164000.965</td>\n",
       "      <td>165349.2</td>\n",
       "      <td>0.0</td>\n",
       "      <td>0.0</td>\n",
       "    </tr>\n",
       "    <tr>\n",
       "      <th>Administration</th>\n",
       "      <td>50.0</td>\n",
       "      <td>NaN</td>\n",
       "      <td>NaN</td>\n",
       "      <td>NaN</td>\n",
       "      <td>121344.6396</td>\n",
       "      <td>28017.802755</td>\n",
       "      <td>51283.14</td>\n",
       "      <td>73613.302</td>\n",
       "      <td>103730.875</td>\n",
       "      <td>122699.795</td>\n",
       "      <td>144842.18</td>\n",
       "      <td>153540.042</td>\n",
       "      <td>170419.2564</td>\n",
       "      <td>182645.56</td>\n",
       "      <td>0.0</td>\n",
       "      <td>0.0</td>\n",
       "    </tr>\n",
       "    <tr>\n",
       "      <th>Marketing Spend</th>\n",
       "      <td>50.0</td>\n",
       "      <td>NaN</td>\n",
       "      <td>NaN</td>\n",
       "      <td>NaN</td>\n",
       "      <td>211025.0978</td>\n",
       "      <td>122290.310726</td>\n",
       "      <td>0.0</td>\n",
       "      <td>856.7685</td>\n",
       "      <td>129300.1325</td>\n",
       "      <td>212716.24</td>\n",
       "      <td>299469.085</td>\n",
       "      <td>363192.066</td>\n",
       "      <td>458120.1707</td>\n",
       "      <td>471784.1</td>\n",
       "      <td>0.0</td>\n",
       "      <td>0.0</td>\n",
       "    </tr>\n",
       "    <tr>\n",
       "      <th>State</th>\n",
       "      <td>50</td>\n",
       "      <td>3</td>\n",
       "      <td>New York</td>\n",
       "      <td>17</td>\n",
       "      <td>NaN</td>\n",
       "      <td>NaN</td>\n",
       "      <td>NaN</td>\n",
       "      <td>NaN</td>\n",
       "      <td>NaN</td>\n",
       "      <td>NaN</td>\n",
       "      <td>NaN</td>\n",
       "      <td>NaN</td>\n",
       "      <td>NaN</td>\n",
       "      <td>NaN</td>\n",
       "      <td>0</td>\n",
       "      <td>0.0</td>\n",
       "    </tr>\n",
       "    <tr>\n",
       "      <th>Profit</th>\n",
       "      <td>50.0</td>\n",
       "      <td>NaN</td>\n",
       "      <td>NaN</td>\n",
       "      <td>NaN</td>\n",
       "      <td>112012.6392</td>\n",
       "      <td>40306.180338</td>\n",
       "      <td>14681.4</td>\n",
       "      <td>45678.689</td>\n",
       "      <td>90138.9025</td>\n",
       "      <td>107978.19</td>\n",
       "      <td>139765.9775</td>\n",
       "      <td>157910.802</td>\n",
       "      <td>192031.6427</td>\n",
       "      <td>192261.83</td>\n",
       "      <td>0.0</td>\n",
       "      <td>0.0</td>\n",
       "    </tr>\n",
       "  </tbody>\n",
       "</table>\n",
       "</div>"
      ],
      "text/plain": [
       "                count unique       top freq         mean            std  \\\n",
       "R&D Spend        50.0    NaN       NaN  NaN   73721.6156   45902.256482   \n",
       "Administration   50.0    NaN       NaN  NaN  121344.6396   28017.802755   \n",
       "Marketing Spend  50.0    NaN       NaN  NaN  211025.0978  122290.310726   \n",
       "State              50      3  New York   17          NaN            NaN   \n",
       "Profit           50.0    NaN       NaN  NaN  112012.6392   40306.180338   \n",
       "\n",
       "                      min         5%          25%         50%          75%  \\\n",
       "R&D Spend             0.0    748.231     39936.37    73051.08     101602.8   \n",
       "Administration   51283.14  73613.302   103730.875  122699.795    144842.18   \n",
       "Marketing Spend       0.0   856.7685  129300.1325   212716.24   299469.085   \n",
       "State                 NaN        NaN          NaN         NaN          NaN   \n",
       "Profit            14681.4  45678.689   90138.9025   107978.19  139765.9775   \n",
       "\n",
       "                        90%          99%        max nullCount null%  \n",
       "R&D Spend        135364.648   164000.965   165349.2       0.0   0.0  \n",
       "Administration   153540.042  170419.2564  182645.56       0.0   0.0  \n",
       "Marketing Spend  363192.066  458120.1707   471784.1       0.0   0.0  \n",
       "State                   NaN          NaN        NaN         0   0.0  \n",
       "Profit           157910.802  192031.6427  192261.83       0.0   0.0  "
      ]
     },
     "execution_count": 117,
     "metadata": {},
     "output_type": "execute_result"
    }
   ],
   "source": [
    "desc_null(df, percentiles=True)"
   ]
  },
  {
   "cell_type": "code",
   "execution_count": 118,
   "id": "f45ff73a-5408-4672-aa53-bb8bfaa55d35",
   "metadata": {},
   "outputs": [
    {
     "data": {
      "text/plain": [
       "New York      17\n",
       "California    17\n",
       "Florida       16\n",
       "Name: State, dtype: int64"
      ]
     },
     "execution_count": 118,
     "metadata": {},
     "output_type": "execute_result"
    }
   ],
   "source": [
    "df[\"State\"].value_counts()"
   ]
  },
  {
   "cell_type": "markdown",
   "id": "83fda3ab-4233-4079-811d-cb075ccbc54c",
   "metadata": {},
   "source": [
    "## (Extra) Remoção de outlier na variável target **Profit** para melhor adequação ao modelo"
   ]
  },
  {
   "cell_type": "code",
   "execution_count": 120,
   "id": "e312367f-2fe6-4d50-8f06-9b966a7dd148",
   "metadata": {},
   "outputs": [
    {
     "data": {
      "text/plain": [
       "(49, 5)"
      ]
     },
     "execution_count": 120,
     "metadata": {},
     "output_type": "execute_result"
    }
   ],
   "source": [
    "df_adj = df.loc[df['Profit'] > 15000]\n",
    "df_adj.shape"
   ]
  },
  {
   "cell_type": "markdown",
   "id": "b0c4f574-a2be-492e-97c2-8874bdc1d723",
   "metadata": {},
   "source": [
    "# 4. Análise Exploratória dos dados\n",
    "\n",
    "Traga os dados estatísticos descritivos apresentados na base para cada propriedade.\n",
    "\n",
    "* Plote histogramas para analisar a distribuição em cada uma das propriedades. \n",
    "    * Plote gráficos de barras que demonstrem a distribuição dos estados. \n",
    "    * Plote também, gráficos de correlação para cada uma das propriedades.\n",
    "* Crie um gráfico box-plot que traga o lucro das startups por estado."
   ]
  },
  {
   "cell_type": "markdown",
   "id": "4ad157c5-37ea-4915-894a-0cc86a93d713",
   "metadata": {},
   "source": [
    "## 4.1. Distribuição "
   ]
  },
  {
   "cell_type": "code",
   "execution_count": 12,
   "id": "9c5e9a86-3ac7-4f85-b285-a8498d40b406",
   "metadata": {},
   "outputs": [
    {
     "data": {
      "image/png": "[encoded data removed]",
      "text/plain": [
       "<Figure size 1800x720 with 6 Axes>"
      ]
     },
     "metadata": {
      "needs_background": "light"
     },
     "output_type": "display_data"
    }
   ],
   "source": [
    "fig, axes = plt.subplots(nrows=2, ncols=3, figsize=(25, 10))\n",
    "\n",
    "c = 0\n",
    "for i in range(2):\n",
    "    for j in range(3):\n",
    "        if i == 1 and j == 2:\n",
    "            sns.boxplot(data=df, y=\"Profit\", x=\"State\", ax=axes[i, j])\n",
    "        else:\n",
    "            sns.histplot(\n",
    "                data=df,\n",
    "                x=[\"R&D Spend\", \"Administration\", \"Marketing Spend\", \"Profit\", \"State\"][\n",
    "                    c\n",
    "                ],\n",
    "                ax=axes[i, j],\n",
    "                bins=10,\n",
    "            ).set_ylabel(\"Frequência\")\n",
    "            c += 1\n",
    "\n",
    "plt.show()"
   ]
  },
  {
   "cell_type": "markdown",
   "id": "0d36ab2e-ec2d-482c-bfdf-fde9899d01ba",
   "metadata": {},
   "source": [
    "### (Extra) Base adequada"
   ]
  },
  {
   "cell_type": "code",
   "execution_count": 122,
   "id": "57aa4513-3ec5-461e-bc4f-3e3f397310ca",
   "metadata": {},
   "outputs": [
    {
     "data": {
      "image/png": "[encoded data removed]",
      "text/plain": [
       "<Figure size 1800x720 with 6 Axes>"
      ]
     },
     "metadata": {
      "needs_background": "light"
     },
     "output_type": "display_data"
    }
   ],
   "source": [
    "fig, axes = plt.subplots(nrows=2, ncols=3, figsize=(25, 10))\n",
    "\n",
    "c = 0\n",
    "for i in range(2):\n",
    "    for j in range(3):\n",
    "        if i == 1 and j == 2:\n",
    "            sns.boxplot(data=df_adj, y=\"Profit\", x=\"State\", ax=axes[i, j])\n",
    "        else:\n",
    "            sns.histplot(\n",
    "                data=df_adj,\n",
    "                x=[\"R&D Spend\", \"Administration\", \"Marketing Spend\", \"Profit\", \"State\"][\n",
    "                    c\n",
    "                ],\n",
    "                ax=axes[i, j],\n",
    "                bins=10,\n",
    "            ).set_ylabel(\"Frequência\")\n",
    "            c += 1\n",
    "\n",
    "plt.show()"
   ]
  },
  {
   "cell_type": "markdown",
   "id": "5ef16cae-ffb4-4485-8321-d084ed797cb9",
   "metadata": {},
   "source": [
    "## 4.2. Correlação\n",
    "\n",
    "Existe uma correlação positiva muito alta entre:\n",
    "* **R&D Spend** e **Profit** de 0,97\n",
    "* **Marketing Spend** e **Profit** de 0,75"
   ]
  },
  {
   "cell_type": "code",
   "execution_count": 13,
   "id": "5e94eade-3045-4bc0-9ebc-c537f0bacdd9",
   "metadata": {},
   "outputs": [
    {
     "data": {
      "image/png": "[encoded data removed]",
      "text/plain": [
       "<Figure size 720x504 with 2 Axes>"
      ]
     },
     "metadata": {
      "needs_background": "light"
     },
     "output_type": "display_data"
    }
   ],
   "source": [
    "corrplot(df)"
   ]
  },
  {
   "cell_type": "code",
   "execution_count": 14,
   "id": "33e3422e-2aa3-454a-8d4d-f373091db174",
   "metadata": {},
   "outputs": [
    {
     "data": {
      "text/plain": [
       "<seaborn.axisgrid.PairGrid at 0x1a7e0414220>"
      ]
     },
     "execution_count": 14,
     "metadata": {},
     "output_type": "execute_result"
    },
    {
     "data": {
      "image/png": "[encoded data removed]",
      "text/plain": [
       "<Figure size 720x720 with 20 Axes>"
      ]
     },
     "metadata": {
      "needs_background": "light"
     },
     "output_type": "display_data"
    }
   ],
   "source": [
    "sns.pairplot(df)"
   ]
  },
  {
   "cell_type": "markdown",
   "id": "77fad9a6-722e-4f06-a01c-786bf8919305",
   "metadata": {},
   "source": [
    "### (Extra) Base adequada"
   ]
  },
  {
   "cell_type": "code",
   "execution_count": 123,
   "id": "e855c0fd-27be-4fa3-80bd-a448d09ae0d7",
   "metadata": {},
   "outputs": [
    {
     "data": {
      "image/png": "[encoded data removed]",
      "text/plain": [
       "<Figure size 720x504 with 2 Axes>"
      ]
     },
     "metadata": {
      "needs_background": "light"
     },
     "output_type": "display_data"
    }
   ],
   "source": [
    "corrplot(df_adj)"
   ]
  },
  {
   "cell_type": "code",
   "execution_count": 124,
   "id": "9bff3ff9-d803-4343-a3fa-41752c329f28",
   "metadata": {},
   "outputs": [
    {
     "data": {
      "text/plain": [
       "<seaborn.axisgrid.PairGrid at 0x1a7e19e9430>"
      ]
     },
     "execution_count": 124,
     "metadata": {},
     "output_type": "execute_result"
    },
    {
     "data": {
      "image/png": "[encoded data removed]",
      "text/plain": [
       "<Figure size 720x720 with 20 Axes>"
      ]
     },
     "metadata": {
      "needs_background": "light"
     },
     "output_type": "display_data"
    }
   ],
   "source": [
    "sns.pairplot(df_adj)"
   ]
  },
  {
   "cell_type": "markdown",
   "id": "35238c5f-20f7-4d6d-9a42-21356da52b5f",
   "metadata": {},
   "source": [
    "# 5. Pré-Processamento de Dados\n",
    "\n",
    "* Separar as variáveis em contínuas, categóricas e resposta;\n",
    "* Realize o pré-tratamento das variáveis;\n",
    "* Aplique o escalonamento das variáveis contínuas, dummyficação das variáveis categóricas e avalia se a resposta precisa de tratamento"
   ]
  },
  {
   "cell_type": "markdown",
   "id": "5491170a-477c-4905-b78a-1df2092adc9a",
   "metadata": {},
   "source": [
    "## 5.1. Separação das variáveis"
   ]
  },
  {
   "cell_type": "code",
   "execution_count": 15,
   "id": "a26b96ed-4e9e-46d2-af60-bb6a31f01f26",
   "metadata": {},
   "outputs": [],
   "source": [
    "resp = df[\"Profit\"]\n",
    "num = list(df.select_dtypes(include=[np.number]).drop(columns=\"Profit\"))\n",
    "cat = list(df.select_dtypes(exclude=[np.number]))"
   ]
  },
  {
   "cell_type": "markdown",
   "id": "8832030c-ca53-4d47-9f9b-2447d5c8db55",
   "metadata": {},
   "source": [
    "### (Extra) Base adequada"
   ]
  },
  {
   "cell_type": "code",
   "execution_count": 125,
   "id": "aab32860-bcc7-46d4-9104-7bf7833f7d2f",
   "metadata": {},
   "outputs": [],
   "source": [
    "resp_adj = df_adj[\"Profit\"]\n",
    "num_adj = list(df.select_dtypes(include=[np.number]).drop(columns=\"Profit\"))\n",
    "cat_adj = list(df.select_dtypes(exclude=[np.number]))"
   ]
  },
  {
   "cell_type": "markdown",
   "id": "0622bd87-6831-4594-92ac-f086057a81c2",
   "metadata": {},
   "source": [
    "## 5.2. Transformação da resposta - **Profit**\n",
    "\n",
    "Ela precisa chegar o mais próximo de uma distribuição normal para ser utilizada no modelo\n",
    "\n",
    "### 5.2.1. Teste de normalidade"
   ]
  },
  {
   "cell_type": "code",
   "execution_count": 16,
   "id": "27edf647-25b8-4839-a343-c0773e7c9f9e",
   "metadata": {},
   "outputs": [
    {
     "data": {
      "image/png": "[encoded data removed]",
      "text/plain": [
       "<Figure size 504x360 with 1 Axes>"
      ]
     },
     "metadata": {
      "needs_background": "light"
     },
     "output_type": "display_data"
    }
   ],
   "source": [
    "histplot(data=resp, figsize=(7, 5), title=\"Profit\")"
   ]
  },
  {
   "cell_type": "code",
   "execution_count": 17,
   "id": "d9005e93-3fa6-4827-bffc-7c66301a0ea5",
   "metadata": {},
   "outputs": [
    {
     "name": "stdout",
     "output_type": "stream",
     "text": [
      "Stat: 1.0 - P Value: 0.0\n"
     ]
    }
   ],
   "source": [
    "kStat, kPvalue = sp.stats.kstest(resp, cdf=\"norm\")\n",
    "\n",
    "print(f\"Stat: {kStat} - P Value: {kPvalue}\")"
   ]
  },
  {
   "cell_type": "code",
   "execution_count": 18,
   "id": "22da4a20-d882-4afa-8bdc-d6ef170316f4",
   "metadata": {},
   "outputs": [
    {
     "data": {
      "image/png": "[encoded data removed]",
      "text/plain": [
       "<Figure size 504x360 with 1 Axes>"
      ]
     },
     "metadata": {
      "needs_background": "light"
     },
     "output_type": "display_data"
    }
   ],
   "source": [
    "histplot(data=np.log(resp), figsize=(7, 5), title=\"log Profit\")"
   ]
  },
  {
   "cell_type": "code",
   "execution_count": 19,
   "id": "7bffef69-68e0-42d7-ab90-7b8c5575744a",
   "metadata": {},
   "outputs": [
    {
     "name": "stdout",
     "output_type": "stream",
     "text": [
      "Stat: 1.0 - P Value: 0.0\n"
     ]
    }
   ],
   "source": [
    "kStat, kPvalue = sp.stats.kstest(np.log(resp), cdf=\"norm\")\n",
    "\n",
    "print(f\"Stat: {kStat} - P Value: {kPvalue}\")"
   ]
  },
  {
   "cell_type": "markdown",
   "id": "c0110f3c-62b7-4e41-af95-62eff5c7e6ae",
   "metadata": {},
   "source": [
    "Como não foi possível normalizar mais a resposta, seguir com a distribuição atual."
   ]
  },
  {
   "cell_type": "markdown",
   "id": "3837591a-47bb-49fa-b13c-f34a3b1e1061",
   "metadata": {},
   "source": [
    "### (Extra) Transformação da resposta adequada"
   ]
  },
  {
   "cell_type": "code",
   "execution_count": 141,
   "id": "1022a6df-142a-4c41-a402-712e01cda131",
   "metadata": {},
   "outputs": [
    {
     "data": {
      "image/png": "[encoded data removed]",
      "text/plain": [
       "<Figure size 504x360 with 1 Axes>"
      ]
     },
     "metadata": {
      "needs_background": "light"
     },
     "output_type": "display_data"
    }
   ],
   "source": [
    "histplot(data=resp_adj, figsize=(7, 5), title=\"Profit Adequado\")"
   ]
  },
  {
   "cell_type": "code",
   "execution_count": 128,
   "id": "504f7fc6-0a11-48c8-973a-52782a2ff356",
   "metadata": {},
   "outputs": [
    {
     "name": "stdout",
     "output_type": "stream",
     "text": [
      "Stat: 1.0 - P Value: 0.0\n"
     ]
    }
   ],
   "source": [
    "kStat, kPvalue = sp.stats.kstest(resp_adj, cdf=\"norm\")\n",
    "\n",
    "print(f\"Stat: {kStat} - P Value: {kPvalue}\")"
   ]
  },
  {
   "cell_type": "markdown",
   "id": "d961eb01-47a2-41b5-a981-19df06873d9d",
   "metadata": {},
   "source": [
    "## 5.3. Escalonamento das variáveis contínuas"
   ]
  },
  {
   "cell_type": "code",
   "execution_count": 20,
   "id": "cd022edb-5f44-45af-b150-d2676e6ee39a",
   "metadata": {},
   "outputs": [
    {
     "name": "stdout",
     "output_type": "stream",
     "text": [
      "R&D Spend - stats = 0.960, p = 0.000\n",
      "Administration - stats = 1.000, p = 0.000\n",
      "Marketing Spend - stats = 0.940, p = 0.000\n"
     ]
    }
   ],
   "source": [
    "for n in num:\n",
    "    nStats, nPvalue = sp.stats.kstest(df[n], cdf=\"norm\")\n",
    "    print(f\"{n} - stats = {nStats:.3f}, p = {nPvalue:.3f}\")"
   ]
  },
  {
   "cell_type": "code",
   "execution_count": 21,
   "id": "803489d9-8d84-4af5-a29a-520531e78d74",
   "metadata": {},
   "outputs": [],
   "source": [
    "dfNum = feat_scale(df[num])"
   ]
  },
  {
   "cell_type": "code",
   "execution_count": 22,
   "id": "60dfe210-848c-47a6-a807-8c3a103cdeb3",
   "metadata": {},
   "outputs": [
    {
     "name": "stdout",
     "output_type": "stream",
     "text": [
      "R&D Spend - stats = 0.080, p = 0.885\n",
      "Administration - stats = 0.077, p = 0.904\n",
      "Marketing Spend - stats = 0.084, p = 0.841\n"
     ]
    }
   ],
   "source": [
    "for n in num:\n",
    "    nStats, nPvalue = sp.stats.kstest(dfNum[n], cdf=\"norm\")\n",
    "    print(f\"{n} - stats = {nStats:.3f}, p = {nPvalue:.3f}\")"
   ]
  },
  {
   "cell_type": "code",
   "execution_count": 23,
   "id": "d354dab0-206c-45e1-8e66-bb8882a1257d",
   "metadata": {},
   "outputs": [
    {
     "data": {
      "image/png": "[encoded data removed]",
      "text/plain": [
       "<Figure size 1440x360 with 3 Axes>"
      ]
     },
     "metadata": {
      "needs_background": "light"
     },
     "output_type": "display_data"
    }
   ],
   "source": [
    "fig, axes = plt.subplots(ncols=3, figsize=(20, 5))\n",
    "\n",
    "for j, n in zip(range(3), num):\n",
    "    sns.histplot(data=dfNum, x=n, ax=axes[j], bins=10).set_ylabel(\"Frequência\")\n",
    "\n",
    "plt.show()"
   ]
  },
  {
   "cell_type": "markdown",
   "id": "4c8ad0c4-e044-4670-a596-dac5de45d4f6",
   "metadata": {},
   "source": [
    "### (Extra) Escalonamento das variáveis adequadas"
   ]
  },
  {
   "cell_type": "code",
   "execution_count": 129,
   "id": "d668513e-2050-4141-9ddb-245faa9c7280",
   "metadata": {},
   "outputs": [
    {
     "name": "stdout",
     "output_type": "stream",
     "text": [
      "R&D Spend - stats = 0.980, p = 0.000\n",
      "Administration - stats = 1.000, p = 0.000\n",
      "Marketing Spend - stats = 0.939, p = 0.000\n"
     ]
    }
   ],
   "source": [
    "for n in num_adj:\n",
    "    nStats, nPvalue = sp.stats.kstest(df_adj[n], cdf=\"norm\")\n",
    "    print(f\"{n} - stats = {nStats:.3f}, p = {nPvalue:.3f}\")"
   ]
  },
  {
   "cell_type": "code",
   "execution_count": 130,
   "id": "d7fb17bc-d5a0-47e2-b0d1-c74b8fc7bb8d",
   "metadata": {},
   "outputs": [
    {
     "name": "stdout",
     "output_type": "stream",
     "text": [
      "R&D Spend - stats = 0.084, p = 0.848\n",
      "Administration - stats = 0.080, p = 0.891\n",
      "Marketing Spend - stats = 0.084, p = 0.850\n"
     ]
    }
   ],
   "source": [
    "dfNum_adj = feat_scale(df_adj[num])\n",
    "\n",
    "for n in num_adj:\n",
    "    nStats, nPvalue = sp.stats.kstest(dfNum_adj[n], cdf=\"norm\")\n",
    "    print(f\"{n} - stats = {nStats:.3f}, p = {nPvalue:.3f}\")"
   ]
  },
  {
   "cell_type": "code",
   "execution_count": 131,
   "id": "d04516fb-d7ba-4814-9690-1ffb54dbd740",
   "metadata": {},
   "outputs": [
    {
     "data": {
      "image/png": "[encoded data removed]",
      "text/plain": [
       "<Figure size 1440x360 with 3 Axes>"
      ]
     },
     "metadata": {
      "needs_background": "light"
     },
     "output_type": "display_data"
    }
   ],
   "source": [
    "fig, axes = plt.subplots(ncols=3, figsize=(20, 5))\n",
    "\n",
    "for j, n in zip(range(3), num_adj):\n",
    "    sns.histplot(data=dfNum_adj, x=n,\n",
    "                 ax=axes[j], bins=10).set_ylabel(\"Frequência\")\n",
    "\n",
    "plt.show()"
   ]
  },
  {
   "cell_type": "markdown",
   "id": "f906bbdf-9788-4572-a542-76e07e111bc6",
   "metadata": {},
   "source": [
    "## 5.4. One-Hot Encoding das variáveis categóricas"
   ]
  },
  {
   "cell_type": "code",
   "execution_count": 24,
   "id": "dc17a52c-e4f7-42be-8ee1-9bdc3d8b48d7",
   "metadata": {},
   "outputs": [
    {
     "data": {
      "text/html": [
       "<div>\n",
       "<style scoped>\n",
       "    .dataframe tbody tr th:only-of-type {\n",
       "        vertical-align: middle;\n",
       "    }\n",
       "\n",
       "    .dataframe tbody tr th {\n",
       "        vertical-align: top;\n",
       "    }\n",
       "\n",
       "    .dataframe thead th {\n",
       "        text-align: right;\n",
       "    }\n",
       "</style>\n",
       "<table border=\"1\" class=\"dataframe\">\n",
       "  <thead>\n",
       "    <tr style=\"text-align: right;\">\n",
       "      <th></th>\n",
       "      <th>State_California</th>\n",
       "      <th>State_Florida</th>\n",
       "      <th>State_New York</th>\n",
       "    </tr>\n",
       "  </thead>\n",
       "  <tbody>\n",
       "    <tr>\n",
       "      <th>0</th>\n",
       "      <td>0</td>\n",
       "      <td>0</td>\n",
       "      <td>1</td>\n",
       "    </tr>\n",
       "    <tr>\n",
       "      <th>1</th>\n",
       "      <td>1</td>\n",
       "      <td>0</td>\n",
       "      <td>0</td>\n",
       "    </tr>\n",
       "    <tr>\n",
       "      <th>2</th>\n",
       "      <td>0</td>\n",
       "      <td>1</td>\n",
       "      <td>0</td>\n",
       "    </tr>\n",
       "    <tr>\n",
       "      <th>3</th>\n",
       "      <td>0</td>\n",
       "      <td>0</td>\n",
       "      <td>1</td>\n",
       "    </tr>\n",
       "    <tr>\n",
       "      <th>4</th>\n",
       "      <td>0</td>\n",
       "      <td>1</td>\n",
       "      <td>0</td>\n",
       "    </tr>\n",
       "  </tbody>\n",
       "</table>\n",
       "</div>"
      ],
      "text/plain": [
       "   State_California  State_Florida  State_New York\n",
       "0                 0              0               1\n",
       "1                 1              0               0\n",
       "2                 0              1               0\n",
       "3                 0              0               1\n",
       "4                 0              1               0"
      ]
     },
     "execution_count": 24,
     "metadata": {},
     "output_type": "execute_result"
    }
   ],
   "source": [
    "dfCat = pd.get_dummies(df[cat], columns=cat)\n",
    "dfCat.head()"
   ]
  },
  {
   "cell_type": "markdown",
   "id": "f8a2bb91-8c22-40e6-aebf-426a1fc8c07e",
   "metadata": {},
   "source": [
    "### (Extra) One-Hot Encoding das variáveis adequadas"
   ]
  },
  {
   "cell_type": "code",
   "execution_count": 136,
   "id": "7d70fce0-e6f8-453b-b047-9b605e447d88",
   "metadata": {},
   "outputs": [],
   "source": [
    "dfCat_adj = pd.get_dummies(df_adj[cat_adj], columns=cat_adj)"
   ]
  },
  {
   "cell_type": "markdown",
   "id": "0d2cda6c-b98f-4999-9cac-0591f19c5cb6",
   "metadata": {},
   "source": [
    "## 5.5. Unificação dos dataframes criados no pré-tratamento"
   ]
  },
  {
   "cell_type": "code",
   "execution_count": 25,
   "id": "bfd32616-39c7-4060-9f7f-7e4174859a93",
   "metadata": {},
   "outputs": [
    {
     "data": {
      "text/html": [
       "<div>\n",
       "<style scoped>\n",
       "    .dataframe tbody tr th:only-of-type {\n",
       "        vertical-align: middle;\n",
       "    }\n",
       "\n",
       "    .dataframe tbody tr th {\n",
       "        vertical-align: top;\n",
       "    }\n",
       "\n",
       "    .dataframe thead th {\n",
       "        text-align: right;\n",
       "    }\n",
       "</style>\n",
       "<table border=\"1\" class=\"dataframe\">\n",
       "  <thead>\n",
       "    <tr style=\"text-align: right;\">\n",
       "      <th></th>\n",
       "      <th>R&amp;D Spend</th>\n",
       "      <th>Administration</th>\n",
       "      <th>Marketing Spend</th>\n",
       "      <th>State_California</th>\n",
       "      <th>State_Florida</th>\n",
       "      <th>State_New York</th>\n",
       "      <th>Profit</th>\n",
       "    </tr>\n",
       "  </thead>\n",
       "  <tbody>\n",
       "    <tr>\n",
       "      <th>0</th>\n",
       "      <td>1.996146</td>\n",
       "      <td>0.555117</td>\n",
       "      <td>2.132295</td>\n",
       "      <td>0</td>\n",
       "      <td>0</td>\n",
       "      <td>1</td>\n",
       "      <td>192261.83</td>\n",
       "    </tr>\n",
       "    <tr>\n",
       "      <th>1</th>\n",
       "      <td>1.936203</td>\n",
       "      <td>1.071924</td>\n",
       "      <td>1.904267</td>\n",
       "      <td>1</td>\n",
       "      <td>0</td>\n",
       "      <td>0</td>\n",
       "      <td>191792.06</td>\n",
       "    </tr>\n",
       "    <tr>\n",
       "      <th>2</th>\n",
       "      <td>1.736731</td>\n",
       "      <td>-0.720938</td>\n",
       "      <td>1.610180</td>\n",
       "      <td>0</td>\n",
       "      <td>1</td>\n",
       "      <td>0</td>\n",
       "      <td>191050.39</td>\n",
       "    </tr>\n",
       "    <tr>\n",
       "      <th>3</th>\n",
       "      <td>1.539157</td>\n",
       "      <td>-0.095396</td>\n",
       "      <td>1.407916</td>\n",
       "      <td>0</td>\n",
       "      <td>0</td>\n",
       "      <td>1</td>\n",
       "      <td>182901.99</td>\n",
       "    </tr>\n",
       "    <tr>\n",
       "      <th>4</th>\n",
       "      <td>1.489812</td>\n",
       "      <td>-1.069066</td>\n",
       "      <td>1.268648</td>\n",
       "      <td>0</td>\n",
       "      <td>1</td>\n",
       "      <td>0</td>\n",
       "      <td>166187.94</td>\n",
       "    </tr>\n",
       "  </tbody>\n",
       "</table>\n",
       "</div>"
      ],
      "text/plain": [
       "   R&D Spend  Administration  Marketing Spend  State_California  \\\n",
       "0   1.996146        0.555117         2.132295                 0   \n",
       "1   1.936203        1.071924         1.904267                 1   \n",
       "2   1.736731       -0.720938         1.610180                 0   \n",
       "3   1.539157       -0.095396         1.407916                 0   \n",
       "4   1.489812       -1.069066         1.268648                 0   \n",
       "\n",
       "   State_Florida  State_New York     Profit  \n",
       "0              0               1  192261.83  \n",
       "1              0               0  191792.06  \n",
       "2              1               0  191050.39  \n",
       "3              0               1  182901.99  \n",
       "4              1               0  166187.94  "
      ]
     },
     "execution_count": 25,
     "metadata": {},
     "output_type": "execute_result"
    }
   ],
   "source": [
    "dfFinal = pd.concat([dfNum, dfCat, resp], axis=1)\n",
    "\n",
    "dfFinal.head()"
   ]
  },
  {
   "cell_type": "markdown",
   "id": "bc1ca39e-08b0-4e38-8da0-606156ed698d",
   "metadata": {},
   "source": [
    "### (Extra) Unificação da base adequada"
   ]
  },
  {
   "cell_type": "code",
   "execution_count": 137,
   "id": "69893624-9008-43fa-94ac-fd1e5c7bbff5",
   "metadata": {},
   "outputs": [],
   "source": [
    "dfFinal_adj = pd.concat([dfNum_adj, dfCat_adj, resp_adj], axis=1)"
   ]
  },
  {
   "cell_type": "markdown",
   "id": "5da05fa5-5ef6-4248-b2b5-a385ba0c8a64",
   "metadata": {},
   "source": [
    "# 6. Ajuste do modelo de regressão\n"
   ]
  },
  {
   "cell_type": "code",
   "execution_count": 26,
   "id": "956011fa-0c44-4091-8468-94cd85d47748",
   "metadata": {},
   "outputs": [
    {
     "name": "stdout",
     "output_type": "stream",
     "text": [
      "<class 'pandas.core.frame.DataFrame'>\n",
      "RangeIndex: 50 entries, 0 to 49\n",
      "Data columns (total 7 columns):\n",
      " #   Column            Non-Null Count  Dtype  \n",
      "---  ------            --------------  -----  \n",
      " 0   R&D Spend         50 non-null     float64\n",
      " 1   Administration    50 non-null     float64\n",
      " 2   Marketing Spend   50 non-null     float64\n",
      " 3   State_California  50 non-null     uint8  \n",
      " 4   State_Florida     50 non-null     uint8  \n",
      " 5   State_New York    50 non-null     uint8  \n",
      " 6   Profit            50 non-null     float64\n",
      "dtypes: float64(4), uint8(3)\n",
      "memory usage: 1.8 KB\n"
     ]
    }
   ],
   "source": [
    "dfFinal.info()"
   ]
  },
  {
   "cell_type": "markdown",
   "id": "72e5f533-bf75-41db-9acf-04ec19604336",
   "metadata": {},
   "source": [
    "## 6.1. Renomear as colunas\n",
    "\n",
    "Ajuste para desenvolver o modelo, não podem haver espaços"
   ]
  },
  {
   "cell_type": "code",
   "execution_count": 27,
   "id": "3c826d23-f8e7-4688-bb11-c60a49e11bd4",
   "metadata": {},
   "outputs": [
    {
     "data": {
      "text/html": [
       "<div>\n",
       "<style scoped>\n",
       "    .dataframe tbody tr th:only-of-type {\n",
       "        vertical-align: middle;\n",
       "    }\n",
       "\n",
       "    .dataframe tbody tr th {\n",
       "        vertical-align: top;\n",
       "    }\n",
       "\n",
       "    .dataframe thead th {\n",
       "        text-align: right;\n",
       "    }\n",
       "</style>\n",
       "<table border=\"1\" class=\"dataframe\">\n",
       "  <thead>\n",
       "    <tr style=\"text-align: right;\">\n",
       "      <th></th>\n",
       "      <th>rd_spend</th>\n",
       "      <th>admin_spend</th>\n",
       "      <th>mkt_spend</th>\n",
       "      <th>ca</th>\n",
       "      <th>fl</th>\n",
       "      <th>ny</th>\n",
       "      <th>Profit</th>\n",
       "    </tr>\n",
       "  </thead>\n",
       "  <tbody>\n",
       "    <tr>\n",
       "      <th>0</th>\n",
       "      <td>1.996146</td>\n",
       "      <td>0.555117</td>\n",
       "      <td>2.132295</td>\n",
       "      <td>0</td>\n",
       "      <td>0</td>\n",
       "      <td>1</td>\n",
       "      <td>192261.83</td>\n",
       "    </tr>\n",
       "    <tr>\n",
       "      <th>1</th>\n",
       "      <td>1.936203</td>\n",
       "      <td>1.071924</td>\n",
       "      <td>1.904267</td>\n",
       "      <td>1</td>\n",
       "      <td>0</td>\n",
       "      <td>0</td>\n",
       "      <td>191792.06</td>\n",
       "    </tr>\n",
       "    <tr>\n",
       "      <th>2</th>\n",
       "      <td>1.736731</td>\n",
       "      <td>-0.720938</td>\n",
       "      <td>1.610180</td>\n",
       "      <td>0</td>\n",
       "      <td>1</td>\n",
       "      <td>0</td>\n",
       "      <td>191050.39</td>\n",
       "    </tr>\n",
       "    <tr>\n",
       "      <th>3</th>\n",
       "      <td>1.539157</td>\n",
       "      <td>-0.095396</td>\n",
       "      <td>1.407916</td>\n",
       "      <td>0</td>\n",
       "      <td>0</td>\n",
       "      <td>1</td>\n",
       "      <td>182901.99</td>\n",
       "    </tr>\n",
       "    <tr>\n",
       "      <th>4</th>\n",
       "      <td>1.489812</td>\n",
       "      <td>-1.069066</td>\n",
       "      <td>1.268648</td>\n",
       "      <td>0</td>\n",
       "      <td>1</td>\n",
       "      <td>0</td>\n",
       "      <td>166187.94</td>\n",
       "    </tr>\n",
       "  </tbody>\n",
       "</table>\n",
       "</div>"
      ],
      "text/plain": [
       "   rd_spend  admin_spend  mkt_spend  ca  fl  ny     Profit\n",
       "0  1.996146     0.555117   2.132295   0   0   1  192261.83\n",
       "1  1.936203     1.071924   1.904267   1   0   0  191792.06\n",
       "2  1.736731    -0.720938   1.610180   0   1   0  191050.39\n",
       "3  1.539157    -0.095396   1.407916   0   0   1  182901.99\n",
       "4  1.489812    -1.069066   1.268648   0   1   0  166187.94"
      ]
     },
     "execution_count": 27,
     "metadata": {},
     "output_type": "execute_result"
    }
   ],
   "source": [
    "dfFull = dfFinal.copy()\n",
    "\n",
    "dfFull.rename(\n",
    "    columns={\n",
    "        \"R&D Spend\": \"rd_spend\",\n",
    "        \"Administration\": \"admin_spend\",\n",
    "        \"Marketing Spend\": \"mkt_spend\",\n",
    "        \"State_Florida\": \"fl\",\n",
    "        \"State_New York\": \"ny\",\n",
    "        \"State_California\": \"ca\",\n",
    "    },\n",
    "    inplace=True,\n",
    ")\n",
    "\n",
    "dfFull.head()"
   ]
  },
  {
   "cell_type": "markdown",
   "id": "17387a70-46db-4c2e-809f-487eb7be014d",
   "metadata": {},
   "source": [
    "### (Extra) Base adequada"
   ]
  },
  {
   "cell_type": "code",
   "execution_count": 138,
   "id": "324775fb-c3a5-4f0e-aa3f-3abefbb4834e",
   "metadata": {},
   "outputs": [],
   "source": [
    "dfFull_adj = dfFinal_adj.copy()\n",
    "\n",
    "dfFull_adj.rename(\n",
    "    columns={\n",
    "        \"R&D Spend\": \"rd_spend\",\n",
    "        \"Administration\": \"admin_spend\",\n",
    "        \"Marketing Spend\": \"mkt_spend\",\n",
    "        \"State_Florida\": \"fl\",\n",
    "        \"State_New York\": \"ny\",\n",
    "        \"State_California\": \"ca\",\n",
    "    },\n",
    "    inplace=True,\n",
    ")"
   ]
  },
  {
   "cell_type": "markdown",
   "id": "a6142aa9-c886-42ce-8a15-687dee73e923",
   "metadata": {
    "tags": []
   },
   "source": [
    "## 6.2. Método mínimos quadrados (ordinary least squares)"
   ]
  },
  {
   "cell_type": "markdown",
   "id": "28adf90e-42cf-47de-94e9-bb6e1ca3c378",
   "metadata": {},
   "source": [
    "### 6.2.1. Função para escrever a fórmula"
   ]
  },
  {
   "cell_type": "code",
   "execution_count": 28,
   "id": "4d705860-a2ea-4245-aafa-9bcaf3b0ab4b",
   "metadata": {},
   "outputs": [],
   "source": [
    "def ols_formula(df, dependent_var, *excluded_rows):\n",
    "\n",
    "    # Listar o nome das colunas do dataframe\n",
    "    cols = list(df.columns)\n",
    "\n",
    "    # Remover a variável dependente\n",
    "    cols.remove(dependent_var)\n",
    "\n",
    "    # Remover as variáveis excluídas\n",
    "    for col in excluded_rows:\n",
    "        cols.remove(col)\n",
    "\n",
    "    # Retornar a fórmula\n",
    "    return dependent_var + \" ~ \" + \" + \".join(cols)"
   ]
  },
  {
   "cell_type": "markdown",
   "id": "45eda0d9-e4bb-4e0e-8d0c-abdfb62f4e0d",
   "metadata": {},
   "source": [
    "### 6.2.2. Matriz do modelo"
   ]
  },
  {
   "cell_type": "code",
   "execution_count": 29,
   "id": "3f46e829-aa07-4ae6-9959-058eb4bfd02b",
   "metadata": {},
   "outputs": [],
   "source": [
    "y, x = pt.dmatrices(ols_formula(dfFull, \"Profit\"),\n",
    "                    data=dfFull, return_type=\"dataframe\")"
   ]
  },
  {
   "cell_type": "markdown",
   "id": "5b404591-3cd6-45f6-9b3d-661b5501cb8d",
   "metadata": {},
   "source": [
    "#### (Extra) Matriz adequada"
   ]
  },
  {
   "cell_type": "code",
   "execution_count": 139,
   "id": "55f5d185-b573-46d0-af2e-941ff8d1cba9",
   "metadata": {},
   "outputs": [],
   "source": [
    "y_adj, x_adj = pt.dmatrices(ols_formula(dfFull_adj, \"Profit\"),\n",
    "                            data=dfFull_adj, return_type=\"dataframe\")"
   ]
  },
  {
   "cell_type": "markdown",
   "id": "bc45d7ac-79f7-4bb8-9812-0300dd4d854e",
   "metadata": {},
   "source": [
    "### 6.2.3. Ajuste da matriz"
   ]
  },
  {
   "cell_type": "code",
   "execution_count": 30,
   "id": "fc5d3b8e-f095-46d8-9ac0-5ecd4f16fdb0",
   "metadata": {},
   "outputs": [],
   "source": [
    "regfit = fit_model(y, x)"
   ]
  },
  {
   "cell_type": "code",
   "execution_count": 31,
   "id": "b1eba21d-1e32-48b0-9b9c-50405eb1a0d7",
   "metadata": {},
   "outputs": [
    {
     "data": {
      "text/html": [
       "<table class=\"simpletable\">\n",
       "<caption>OLS Regression Results</caption>\n",
       "<tr>\n",
       "  <th>Dep. Variable:</th>         <td>Profit</td>      <th>  R-squared:         </th> <td>   0.951</td>\n",
       "</tr>\n",
       "<tr>\n",
       "  <th>Model:</th>                   <td>OLS</td>       <th>  Adj. R-squared:    </th> <td>   0.945</td>\n",
       "</tr>\n",
       "<tr>\n",
       "  <th>Method:</th>             <td>Least Squares</td>  <th>  F-statistic:       </th> <td>   169.9</td>\n",
       "</tr>\n",
       "<tr>\n",
       "  <th>Date:</th>             <td>Fri, 06 May 2022</td> <th>  Prob (F-statistic):</th> <td>1.34e-27</td>\n",
       "</tr>\n",
       "<tr>\n",
       "  <th>Time:</th>                 <td>08:40:39</td>     <th>  Log-Likelihood:    </th> <td> -525.38</td>\n",
       "</tr>\n",
       "<tr>\n",
       "  <th>No. Observations:</th>      <td>    50</td>      <th>  AIC:               </th> <td>   1063.</td>\n",
       "</tr>\n",
       "<tr>\n",
       "  <th>Df Residuals:</th>          <td>    44</td>      <th>  BIC:               </th> <td>   1074.</td>\n",
       "</tr>\n",
       "<tr>\n",
       "  <th>Df Model:</th>              <td>     5</td>      <th>                     </th>     <td> </td>   \n",
       "</tr>\n",
       "<tr>\n",
       "  <th>Covariance Type:</th>      <td>nonrobust</td>    <th>                     </th>     <td> </td>   \n",
       "</tr>\n",
       "</table>\n",
       "<table class=\"simpletable\">\n",
       "<tr>\n",
       "       <td></td>          <th>coef</th>     <th>std err</th>      <th>t</th>      <th>P>|t|</th>  <th>[0.025</th>    <th>0.975]</th>  \n",
       "</tr>\n",
       "<tr>\n",
       "  <th>Intercept</th>   <td> 8.401e+04</td> <td> 1001.609</td> <td>   83.877</td> <td> 0.000</td> <td>  8.2e+04</td> <td>  8.6e+04</td>\n",
       "</tr>\n",
       "<tr>\n",
       "  <th>rd_spend</th>    <td>   3.7e+04</td> <td> 2130.184</td> <td>   17.369</td> <td> 0.000</td> <td> 3.27e+04</td> <td> 4.13e+04</td>\n",
       "</tr>\n",
       "<tr>\n",
       "  <th>admin_spend</th> <td> -756.6017</td> <td> 1463.413</td> <td>   -0.517</td> <td> 0.608</td> <td>-3705.917</td> <td> 2192.714</td>\n",
       "</tr>\n",
       "<tr>\n",
       "  <th>mkt_spend</th>   <td> 3299.3756</td> <td> 2096.320</td> <td>    1.574</td> <td> 0.123</td> <td> -925.479</td> <td> 7524.231</td>\n",
       "</tr>\n",
       "<tr>\n",
       "  <th>ca</th>          <td> 2.795e+04</td> <td> 1932.496</td> <td>   14.464</td> <td> 0.000</td> <td> 2.41e+04</td> <td> 3.18e+04</td>\n",
       "</tr>\n",
       "<tr>\n",
       "  <th>fl</th>          <td> 2.815e+04</td> <td> 1993.572</td> <td>   14.121</td> <td> 0.000</td> <td> 2.41e+04</td> <td> 3.22e+04</td>\n",
       "</tr>\n",
       "<tr>\n",
       "  <th>ny</th>          <td> 2.791e+04</td> <td> 1913.989</td> <td>   14.582</td> <td> 0.000</td> <td> 2.41e+04</td> <td> 3.18e+04</td>\n",
       "</tr>\n",
       "</table>\n",
       "<table class=\"simpletable\">\n",
       "<tr>\n",
       "  <th>Omnibus:</th>       <td>14.782</td> <th>  Durbin-Watson:     </th> <td>   1.283</td>\n",
       "</tr>\n",
       "<tr>\n",
       "  <th>Prob(Omnibus):</th> <td> 0.001</td> <th>  Jarque-Bera (JB):  </th> <td>  21.266</td>\n",
       "</tr>\n",
       "<tr>\n",
       "  <th>Skew:</th>          <td>-0.948</td> <th>  Prob(JB):          </th> <td>2.41e-05</td>\n",
       "</tr>\n",
       "<tr>\n",
       "  <th>Kurtosis:</th>      <td> 5.572</td> <th>  Cond. No.          </th> <td>1.96e+16</td>\n",
       "</tr>\n",
       "</table><br/><br/>Notes:<br/>[1] Standard Errors assume that the covariance matrix of the errors is correctly specified.<br/>[2] The smallest eigenvalue is 2.26e-31. This might indicate that there are<br/>strong multicollinearity problems or that the design matrix is singular."
      ],
      "text/plain": [
       "<class 'statsmodels.iolib.summary.Summary'>\n",
       "\"\"\"\n",
       "                            OLS Regression Results                            \n",
       "==============================================================================\n",
       "Dep. Variable:                 Profit   R-squared:                       0.951\n",
       "Model:                            OLS   Adj. R-squared:                  0.945\n",
       "Method:                 Least Squares   F-statistic:                     169.9\n",
       "Date:                Fri, 06 May 2022   Prob (F-statistic):           1.34e-27\n",
       "Time:                        08:40:39   Log-Likelihood:                -525.38\n",
       "No. Observations:                  50   AIC:                             1063.\n",
       "Df Residuals:                      44   BIC:                             1074.\n",
       "Df Model:                           5                                         \n",
       "Covariance Type:            nonrobust                                         \n",
       "===============================================================================\n",
       "                  coef    std err          t      P>|t|      [0.025      0.975]\n",
       "-------------------------------------------------------------------------------\n",
       "Intercept    8.401e+04   1001.609     83.877      0.000     8.2e+04     8.6e+04\n",
       "rd_spend       3.7e+04   2130.184     17.369      0.000    3.27e+04    4.13e+04\n",
       "admin_spend  -756.6017   1463.413     -0.517      0.608   -3705.917    2192.714\n",
       "mkt_spend    3299.3756   2096.320      1.574      0.123    -925.479    7524.231\n",
       "ca           2.795e+04   1932.496     14.464      0.000    2.41e+04    3.18e+04\n",
       "fl           2.815e+04   1993.572     14.121      0.000    2.41e+04    3.22e+04\n",
       "ny           2.791e+04   1913.989     14.582      0.000    2.41e+04    3.18e+04\n",
       "==============================================================================\n",
       "Omnibus:                       14.782   Durbin-Watson:                   1.283\n",
       "Prob(Omnibus):                  0.001   Jarque-Bera (JB):               21.266\n",
       "Skew:                          -0.948   Prob(JB):                     2.41e-05\n",
       "Kurtosis:                       5.572   Cond. No.                     1.96e+16\n",
       "==============================================================================\n",
       "\n",
       "Notes:\n",
       "[1] Standard Errors assume that the covariance matrix of the errors is correctly specified.\n",
       "[2] The smallest eigenvalue is 2.26e-31. This might indicate that there are\n",
       "strong multicollinearity problems or that the design matrix is singular.\n",
       "\"\"\""
      ]
     },
     "execution_count": 31,
     "metadata": {},
     "output_type": "execute_result"
    }
   ],
   "source": [
    "regfit.summary()"
   ]
  },
  {
   "cell_type": "markdown",
   "id": "d67b74d0-4b90-4d3e-901f-d2bcec63ef72",
   "metadata": {},
   "source": [
    "#### (Extra) Ajuste da matriz adequada"
   ]
  },
  {
   "cell_type": "code",
   "execution_count": 140,
   "id": "51b402d1-92ff-4756-819c-135a4d2b47d4",
   "metadata": {},
   "outputs": [
    {
     "data": {
      "text/html": [
       "<table class=\"simpletable\">\n",
       "<caption>OLS Regression Results</caption>\n",
       "<tr>\n",
       "  <th>Dep. Variable:</th>         <td>Profit</td>      <th>  R-squared:         </th> <td>   0.962</td>\n",
       "</tr>\n",
       "<tr>\n",
       "  <th>Model:</th>                   <td>OLS</td>       <th>  Adj. R-squared:    </th> <td>   0.957</td>\n",
       "</tr>\n",
       "<tr>\n",
       "  <th>Method:</th>             <td>Least Squares</td>  <th>  F-statistic:       </th> <td>   216.6</td>\n",
       "</tr>\n",
       "<tr>\n",
       "  <th>Date:</th>             <td>Fri, 06 May 2022</td> <th>  Prob (F-statistic):</th> <td>2.51e-29</td>\n",
       "</tr>\n",
       "<tr>\n",
       "  <th>Time:</th>                 <td>20:55:19</td>     <th>  Log-Likelihood:    </th> <td> -505.97</td>\n",
       "</tr>\n",
       "<tr>\n",
       "  <th>No. Observations:</th>      <td>    49</td>      <th>  AIC:               </th> <td>   1024.</td>\n",
       "</tr>\n",
       "<tr>\n",
       "  <th>Df Residuals:</th>          <td>    43</td>      <th>  BIC:               </th> <td>   1035.</td>\n",
       "</tr>\n",
       "<tr>\n",
       "  <th>Df Model:</th>              <td>     5</td>      <th>                     </th>     <td> </td>   \n",
       "</tr>\n",
       "<tr>\n",
       "  <th>Covariance Type:</th>      <td>nonrobust</td>    <th>                     </th>     <td> </td>   \n",
       "</tr>\n",
       "</table>\n",
       "<table class=\"simpletable\">\n",
       "<tr>\n",
       "       <td></td>          <th>coef</th>     <th>std err</th>      <th>t</th>      <th>P>|t|</th>  <th>[0.025</th>    <th>0.975]</th>  \n",
       "</tr>\n",
       "<tr>\n",
       "  <th>Intercept</th>   <td> 8.551e+04</td> <td>  844.792</td> <td>  101.222</td> <td> 0.000</td> <td> 8.38e+04</td> <td> 8.72e+04</td>\n",
       "</tr>\n",
       "<tr>\n",
       "  <th>rd_spend</th>    <td> 3.535e+04</td> <td> 1762.652</td> <td>   20.056</td> <td> 0.000</td> <td> 3.18e+04</td> <td> 3.89e+04</td>\n",
       "</tr>\n",
       "<tr>\n",
       "  <th>admin_spend</th> <td> -623.2576</td> <td> 1234.660</td> <td>   -0.505</td> <td> 0.616</td> <td>-3113.187</td> <td> 1866.672</td>\n",
       "</tr>\n",
       "<tr>\n",
       "  <th>mkt_spend</th>   <td> 3128.7022</td> <td> 1734.589</td> <td>    1.804</td> <td> 0.078</td> <td> -369.430</td> <td> 6626.834</td>\n",
       "</tr>\n",
       "<tr>\n",
       "  <th>ca</th>          <td> 2.968e+04</td> <td> 1644.964</td> <td>   18.041</td> <td> 0.000</td> <td> 2.64e+04</td> <td>  3.3e+04</td>\n",
       "</tr>\n",
       "<tr>\n",
       "  <th>fl</th>          <td> 2.811e+04</td> <td> 1665.318</td> <td>   16.881</td> <td> 0.000</td> <td> 2.48e+04</td> <td> 3.15e+04</td>\n",
       "</tr>\n",
       "<tr>\n",
       "  <th>ny</th>          <td> 2.772e+04</td> <td> 1602.032</td> <td>   17.305</td> <td> 0.000</td> <td> 2.45e+04</td> <td>  3.1e+04</td>\n",
       "</tr>\n",
       "</table>\n",
       "<table class=\"simpletable\">\n",
       "<tr>\n",
       "  <th>Omnibus:</th>       <td> 0.051</td> <th>  Durbin-Watson:     </th> <td>   1.667</td>\n",
       "</tr>\n",
       "<tr>\n",
       "  <th>Prob(Omnibus):</th> <td> 0.975</td> <th>  Jarque-Bera (JB):  </th> <td>   0.207</td>\n",
       "</tr>\n",
       "<tr>\n",
       "  <th>Skew:</th>          <td> 0.061</td> <th>  Prob(JB):          </th> <td>   0.902</td>\n",
       "</tr>\n",
       "<tr>\n",
       "  <th>Kurtosis:</th>      <td> 2.705</td> <th>  Cond. No.          </th> <td>2.25e+16</td>\n",
       "</tr>\n",
       "</table><br/><br/>Notes:<br/>[1] Standard Errors assume that the covariance matrix of the errors is correctly specified.<br/>[2] The smallest eigenvalue is 1.67e-31. This might indicate that there are<br/>strong multicollinearity problems or that the design matrix is singular."
      ],
      "text/plain": [
       "<class 'statsmodels.iolib.summary.Summary'>\n",
       "\"\"\"\n",
       "                            OLS Regression Results                            \n",
       "==============================================================================\n",
       "Dep. Variable:                 Profit   R-squared:                       0.962\n",
       "Model:                            OLS   Adj. R-squared:                  0.957\n",
       "Method:                 Least Squares   F-statistic:                     216.6\n",
       "Date:                Fri, 06 May 2022   Prob (F-statistic):           2.51e-29\n",
       "Time:                        20:55:19   Log-Likelihood:                -505.97\n",
       "No. Observations:                  49   AIC:                             1024.\n",
       "Df Residuals:                      43   BIC:                             1035.\n",
       "Df Model:                           5                                         \n",
       "Covariance Type:            nonrobust                                         \n",
       "===============================================================================\n",
       "                  coef    std err          t      P>|t|      [0.025      0.975]\n",
       "-------------------------------------------------------------------------------\n",
       "Intercept    8.551e+04    844.792    101.222      0.000    8.38e+04    8.72e+04\n",
       "rd_spend     3.535e+04   1762.652     20.056      0.000    3.18e+04    3.89e+04\n",
       "admin_spend  -623.2576   1234.660     -0.505      0.616   -3113.187    1866.672\n",
       "mkt_spend    3128.7022   1734.589      1.804      0.078    -369.430    6626.834\n",
       "ca           2.968e+04   1644.964     18.041      0.000    2.64e+04     3.3e+04\n",
       "fl           2.811e+04   1665.318     16.881      0.000    2.48e+04    3.15e+04\n",
       "ny           2.772e+04   1602.032     17.305      0.000    2.45e+04     3.1e+04\n",
       "==============================================================================\n",
       "Omnibus:                        0.051   Durbin-Watson:                   1.667\n",
       "Prob(Omnibus):                  0.975   Jarque-Bera (JB):                0.207\n",
       "Skew:                           0.061   Prob(JB):                        0.902\n",
       "Kurtosis:                       2.705   Cond. No.                     2.25e+16\n",
       "==============================================================================\n",
       "\n",
       "Notes:\n",
       "[1] Standard Errors assume that the covariance matrix of the errors is correctly specified.\n",
       "[2] The smallest eigenvalue is 1.67e-31. This might indicate that there are\n",
       "strong multicollinearity problems or that the design matrix is singular.\n",
       "\"\"\""
      ]
     },
     "execution_count": 140,
     "metadata": {},
     "output_type": "execute_result"
    }
   ],
   "source": [
    "regfit_adj = fit_model(y_adj, x_adj)\n",
    "regfit_adj.summary()"
   ]
  },
  {
   "cell_type": "markdown",
   "id": "ae688e53-c04e-4fa9-84cf-542dfd956c05",
   "metadata": {},
   "source": [
    "## 6.3. Método Gradiente Descendente\n",
    "Apresenta framework de trabalho mais genérico, entender a relação entre as respostas e os preditores\n"
   ]
  },
  {
   "cell_type": "markdown",
   "id": "44e265a1-6c48-4aa0-a2ed-1861be58b7b1",
   "metadata": {},
   "source": [
    "### 6.3.1. Função perda\n",
    "* Previsão da resposta\n",
    "* Calcular os erros de previsão\n",
    "* Calcular o quadrado dos erros\n",
    "* Calcular a perda"
   ]
  },
  {
   "cell_type": "code",
   "execution_count": 32,
   "id": "4b4e3c8f-70ed-4c9b-a03a-f02e9843d86a",
   "metadata": {},
   "outputs": [],
   "source": [
    "def funcao_perda(x, y, beta):\n",
    "    import numpy as np\n",
    "\n",
    "    \"\"\"\n",
    "    x é a matriz com os regressores \n",
    "    y é a série com a resposta\n",
    "    beta é a série dos parâmetros\n",
    "    \"\"\"\n",
    "    m, n = x.shape\n",
    "\n",
    "    # Previsão da resposta: produto escalar entre os vetores de parâmetros e o dataframe com os regressores\n",
    "    pred = x.dot(beta)\n",
    "\n",
    "    # Calcular os erros de previsão: é a diferença entre o valor real da variável y e o valor previsto pelo modelo\n",
    "    res = np.subtract(pred, y.squeeze())\n",
    "\n",
    "    # Calcular o quadrado dos erros\n",
    "    sqrRes = np.square(res)\n",
    "\n",
    "    # Calcular a perda\n",
    "    perda = 1 / (2 * m) * np.sum(sqrRes)\n",
    "\n",
    "    return perda"
   ]
  },
  {
   "cell_type": "markdown",
   "id": "4c1574c5-8e5a-4568-99aa-6c067b9c09f9",
   "metadata": {},
   "source": [
    "### 6.3.2. Função gradiente descendente"
   ]
  },
  {
   "cell_type": "code",
   "execution_count": 33,
   "id": "8bfe481f-ceaf-464a-a07e-a2f8f3eba903",
   "metadata": {},
   "outputs": [],
   "source": [
    "def grad_des(x, y, beta, alpha, itera):\n",
    "    import numpy as np\n",
    "\n",
    "    \"\"\"\n",
    "    x é a matriz dos regressores\n",
    "    y é a série da resposta\n",
    "    beta é a série dos valores iniciais dos parâmetros\n",
    "    alpha é a taxa de aprendizagem (escalar), determina o quanto o algoritmo vai caminhar em direção ao novo beta\n",
    "    itera é o número de iterações do algoritmo\n",
    "    \n",
    "    Resultados\n",
    "    \n",
    "    beta é a série com os valores finais dos parâmetros\n",
    "    hperda é a série histórica das perdas\n",
    "    \"\"\"\n",
    "    m, n = x.shape\n",
    "\n",
    "    # Inicializa a série do histórico de perdas: ajuda a encontrar os melhores valores de alpha para alcançar uma melhor convergência\n",
    "    hPerda = np.zeros(itera)\n",
    "\n",
    "    for i in range(itera):\n",
    "\n",
    "        # Calcula as previsões com os valores atuais dos parâmetros\n",
    "        pred = x.dot(beta)\n",
    "\n",
    "        # Calcula os resíduos de previsão: previsão - resposta\n",
    "        res = np.subtract(pred, y.squeeze())\n",
    "\n",
    "        # Calcula o incremento/decremento valor dos betas - derivada parcial da função perda:\n",
    "        # quanto maior o alpha, maior o passo que o algoritmo dará para o próximo beta\n",
    "        sumDelta = (alpha / m) * x.transpose().dot(res)\n",
    "\n",
    "        # Atualizar os valores dos betas do modelo\n",
    "        beta = beta - sumDelta\n",
    "\n",
    "        # Calcula a nova perda com os novos valores dos betas\n",
    "        hPerda[i] = funcao_perda(x, y, beta)\n",
    "\n",
    "    return beta, hPerda"
   ]
  },
  {
   "cell_type": "markdown",
   "id": "4875eb7b-f607-457f-9f5a-7d0cfe081894",
   "metadata": {},
   "source": [
    "### 6.3.3. Aplicação do algoritmo\n",
    "* Configure o algoritmo\n",
    "* Aplique o algoritmo\n",
    "* Estude a convergência\n",
    "\n",
    "Lembrando que o df x não contempla a feature resposta '**Profit**'"
   ]
  },
  {
   "cell_type": "code",
   "execution_count": 34,
   "id": "d273a19a-e0d5-46f0-8cff-7993029ecde8",
   "metadata": {},
   "outputs": [],
   "source": [
    "# Salva o tamanho do df x com os regressores - incluindo intercept\n",
    "m, n = x.shape\n",
    "\n",
    "# Inicializa a série de betas\n",
    "beta = np.zeros(n)\n",
    "\n",
    "# Quantidade de iterações\n",
    "itera = 1000\n",
    "\n",
    "# Taxa de aprendizagem, quanto maior o valor, mais rápida é a taxa\n",
    "alpha = 0.3"
   ]
  },
  {
   "cell_type": "code",
   "execution_count": 35,
   "id": "3ee1b536-bded-41e7-9426-9ec588ebbb57",
   "metadata": {},
   "outputs": [
    {
     "data": {
      "text/html": [
       "<div>\n",
       "<style scoped>\n",
       "    .dataframe tbody tr th:only-of-type {\n",
       "        vertical-align: middle;\n",
       "    }\n",
       "\n",
       "    .dataframe tbody tr th {\n",
       "        vertical-align: top;\n",
       "    }\n",
       "\n",
       "    .dataframe thead th {\n",
       "        text-align: right;\n",
       "    }\n",
       "</style>\n",
       "<table border=\"1\" class=\"dataframe\">\n",
       "  <thead>\n",
       "    <tr style=\"text-align: right;\">\n",
       "      <th></th>\n",
       "      <th>Intercept</th>\n",
       "      <th>rd_spend</th>\n",
       "      <th>admin_spend</th>\n",
       "      <th>mkt_spend</th>\n",
       "      <th>ca</th>\n",
       "      <th>fl</th>\n",
       "      <th>ny</th>\n",
       "    </tr>\n",
       "  </thead>\n",
       "  <tbody>\n",
       "    <tr>\n",
       "      <th>0</th>\n",
       "      <td>1.0</td>\n",
       "      <td>1.996146</td>\n",
       "      <td>0.555117</td>\n",
       "      <td>2.132295</td>\n",
       "      <td>0.0</td>\n",
       "      <td>0.0</td>\n",
       "      <td>1.0</td>\n",
       "    </tr>\n",
       "    <tr>\n",
       "      <th>1</th>\n",
       "      <td>1.0</td>\n",
       "      <td>1.936203</td>\n",
       "      <td>1.071924</td>\n",
       "      <td>1.904267</td>\n",
       "      <td>1.0</td>\n",
       "      <td>0.0</td>\n",
       "      <td>0.0</td>\n",
       "    </tr>\n",
       "    <tr>\n",
       "      <th>2</th>\n",
       "      <td>1.0</td>\n",
       "      <td>1.736731</td>\n",
       "      <td>-0.720938</td>\n",
       "      <td>1.610180</td>\n",
       "      <td>0.0</td>\n",
       "      <td>1.0</td>\n",
       "      <td>0.0</td>\n",
       "    </tr>\n",
       "    <tr>\n",
       "      <th>3</th>\n",
       "      <td>1.0</td>\n",
       "      <td>1.539157</td>\n",
       "      <td>-0.095396</td>\n",
       "      <td>1.407916</td>\n",
       "      <td>0.0</td>\n",
       "      <td>0.0</td>\n",
       "      <td>1.0</td>\n",
       "    </tr>\n",
       "    <tr>\n",
       "      <th>4</th>\n",
       "      <td>1.0</td>\n",
       "      <td>1.489812</td>\n",
       "      <td>-1.069066</td>\n",
       "      <td>1.268648</td>\n",
       "      <td>0.0</td>\n",
       "      <td>1.0</td>\n",
       "      <td>0.0</td>\n",
       "    </tr>\n",
       "  </tbody>\n",
       "</table>\n",
       "</div>"
      ],
      "text/plain": [
       "   Intercept  rd_spend  admin_spend  mkt_spend   ca   fl   ny\n",
       "0        1.0  1.996146     0.555117   2.132295  0.0  0.0  1.0\n",
       "1        1.0  1.936203     1.071924   1.904267  1.0  0.0  0.0\n",
       "2        1.0  1.736731    -0.720938   1.610180  0.0  1.0  0.0\n",
       "3        1.0  1.539157    -0.095396   1.407916  0.0  0.0  1.0\n",
       "4        1.0  1.489812    -1.069066   1.268648  0.0  1.0  0.0"
      ]
     },
     "execution_count": 35,
     "metadata": {},
     "output_type": "execute_result"
    }
   ],
   "source": [
    "x.head()"
   ]
  },
  {
   "cell_type": "code",
   "execution_count": 36,
   "id": "2c63927a-f7e0-4939-be9b-06aa469956fb",
   "metadata": {},
   "outputs": [
    {
     "data": {
      "text/plain": [
       "array([0., 0., 0., 0., 0., 0., 0.])"
      ]
     },
     "execution_count": 36,
     "metadata": {},
     "output_type": "execute_result"
    }
   ],
   "source": [
    "beta"
   ]
  },
  {
   "cell_type": "code",
   "execution_count": 37,
   "id": "9637504a-1640-4114-9be6-6ace3e6a3b79",
   "metadata": {},
   "outputs": [],
   "source": [
    "beta, hPerda = grad_des(x=x, y=y, beta=beta, alpha=alpha, itera=itera)"
   ]
  },
  {
   "cell_type": "code",
   "execution_count": 38,
   "id": "d8991fcf-39dd-4328-9b9a-3626fddb73e9",
   "metadata": {},
   "outputs": [
    {
     "data": {
      "text/plain": [
       "Intercept      84011.676723\n",
       "rd_spend       36998.279697\n",
       "admin_spend     -756.601699\n",
       "mkt_spend       3299.375589\n",
       "ca             27951.591650\n",
       "fl             28150.380443\n",
       "ny             27909.704631\n",
       "dtype: float64"
      ]
     },
     "execution_count": 38,
     "metadata": {},
     "output_type": "execute_result"
    }
   ],
   "source": [
    "beta"
   ]
  },
  {
   "cell_type": "markdown",
   "id": "c2706147-ec62-43bf-9d74-93bef8eca6b1",
   "metadata": {},
   "source": [
    "### 6.3.4. Estudo de convergência"
   ]
  },
  {
   "cell_type": "code",
   "execution_count": 39,
   "id": "75608bd9-788d-463a-9f2c-c487fc861a29",
   "metadata": {},
   "outputs": [
    {
     "data": {
      "image/png": "[encoded data removed]",
      "text/plain": [
       "<Figure size 504x360 with 1 Axes>"
      ]
     },
     "metadata": {
      "needs_background": "light"
     },
     "output_type": "display_data"
    }
   ],
   "source": [
    "plt.figure(figsize=(7, 5))\n",
    "\n",
    "sns.lineplot(x=range(1, itera + 1), y=hPerda)\n",
    "\n",
    "plt.xlabel(\"Iterações\")\n",
    "plt.ylabel(\"Erro quadrado médio\")\n",
    "plt.title(\"Histórico de perdas\")\n",
    "\n",
    "plt.show()"
   ]
  },
  {
   "cell_type": "markdown",
   "id": "63d5e9b6-596d-49e0-a0fa-b26ed6afa6d3",
   "metadata": {},
   "source": [
    "# 7. Significância estatística\n",
    "* Crie um sumário e analise os dados de significância estatística do modelo;\n",
    "* Reajuste do modelo e criação de matriz\n",
    "* Reajuste o sumário e traga as informações fundamentasi a serem analisadas"
   ]
  },
  {
   "cell_type": "markdown",
   "id": "931a89a8-cbfd-43bd-8152-71cceaa96978",
   "metadata": {},
   "source": [
    "## 7.1. Sumário do modelo"
   ]
  },
  {
   "cell_type": "code",
   "execution_count": 40,
   "id": "77603499-c750-4d7e-bcb0-19da67e47411",
   "metadata": {},
   "outputs": [
    {
     "name": "stdout",
     "output_type": "stream",
     "text": [
      "                            OLS Regression Results                            \n",
      "==============================================================================\n",
      "Dep. Variable:                 Profit   R-squared:                       0.951\n",
      "Model:                            OLS   Adj. R-squared:                  0.945\n",
      "Method:                 Least Squares   F-statistic:                     169.9\n",
      "Date:                Fri, 06 May 2022   Prob (F-statistic):           1.34e-27\n",
      "Time:                        08:40:40   Log-Likelihood:                -525.38\n",
      "No. Observations:                  50   AIC:                             1063.\n",
      "Df Residuals:                      44   BIC:                             1074.\n",
      "Df Model:                           5                                         \n",
      "Covariance Type:            nonrobust                                         \n",
      "===============================================================================\n",
      "                  coef    std err          t      P>|t|      [0.025      0.975]\n",
      "-------------------------------------------------------------------------------\n",
      "Intercept    8.401e+04   1001.609     83.877      0.000     8.2e+04     8.6e+04\n",
      "rd_spend       3.7e+04   2130.184     17.369      0.000    3.27e+04    4.13e+04\n",
      "admin_spend  -756.6017   1463.413     -0.517      0.608   -3705.917    2192.714\n",
      "mkt_spend    3299.3756   2096.320      1.574      0.123    -925.479    7524.231\n",
      "ca           2.795e+04   1932.496     14.464      0.000    2.41e+04    3.18e+04\n",
      "fl           2.815e+04   1993.572     14.121      0.000    2.41e+04    3.22e+04\n",
      "ny           2.791e+04   1913.989     14.582      0.000    2.41e+04    3.18e+04\n",
      "==============================================================================\n",
      "Omnibus:                       14.782   Durbin-Watson:                   1.283\n",
      "Prob(Omnibus):                  0.001   Jarque-Bera (JB):               21.266\n",
      "Skew:                          -0.948   Prob(JB):                     2.41e-05\n",
      "Kurtosis:                       5.572   Cond. No.                     1.96e+16\n",
      "==============================================================================\n",
      "\n",
      "Notes:\n",
      "[1] Standard Errors assume that the covariance matrix of the errors is correctly specified.\n",
      "[2] The smallest eigenvalue is 2.26e-31. This might indicate that there are\n",
      "strong multicollinearity problems or that the design matrix is singular.\n"
     ]
    }
   ],
   "source": [
    "print(regfit.summary())"
   ]
  },
  {
   "cell_type": "markdown",
   "id": "402c2b3e-748e-49e2-a75e-e98a82de837e",
   "metadata": {},
   "source": [
    "## 7.2. Reajuste do modelo\n",
    "\n",
    "Retirando a variável **admin_spend** por ser pouco representativa"
   ]
  },
  {
   "cell_type": "markdown",
   "id": "ca82b04e-36f6-42d5-a472-198ca8e296e6",
   "metadata": {},
   "source": [
    "### 7.2.1. Nova matriz do modelo"
   ]
  },
  {
   "cell_type": "code",
   "execution_count": 41,
   "id": "474c6e48-0e7d-4183-9cba-c5f69dc9828c",
   "metadata": {},
   "outputs": [],
   "source": [
    "y, xRed = pt.dmatrices(\n",
    "    ols_formula(dfFull, \"Profit\", \"admin_spend\"), data=dfFull, return_type=\"dataframe\"\n",
    ")"
   ]
  },
  {
   "cell_type": "markdown",
   "id": "6a867b42-0458-41f5-a64d-2b44fe247eb9",
   "metadata": {},
   "source": [
    "#### (Extra) Nova matriz do modelo ajustado"
   ]
  },
  {
   "cell_type": "code",
   "execution_count": 142,
   "id": "0611134f-2d9e-4ac0-b204-45005b7dc40e",
   "metadata": {},
   "outputs": [],
   "source": [
    "y_adj, xRed_adj = pt.dmatrices(\n",
    "    ols_formula(dfFull_adj, \"Profit\", \"admin_spend\"), data=dfFull_adj, return_type=\"dataframe\"\n",
    ")"
   ]
  },
  {
   "cell_type": "markdown",
   "id": "f798e1ed-e5c4-4f44-9831-ed8eb54ed681",
   "metadata": {},
   "source": [
    "### 7.2.2. Ajuste da matriz\n",
    "Ao remover um fator não significativo do modelo, para ajuste melhor."
   ]
  },
  {
   "cell_type": "code",
   "execution_count": 143,
   "id": "8219fafd-b57b-4913-8fc6-489cc8e189d7",
   "metadata": {},
   "outputs": [],
   "source": [
    "reg2fit = fit_model(y, xRed)"
   ]
  },
  {
   "cell_type": "code",
   "execution_count": 144,
   "id": "ec143f2a-62d8-4ad4-a9b7-d33a95bbb91c",
   "metadata": {},
   "outputs": [
    {
     "name": "stdout",
     "output_type": "stream",
     "text": [
      "                            OLS Regression Results                            \n",
      "==============================================================================\n",
      "Dep. Variable:                 Profit   R-squared:                       0.950\n",
      "Model:                            OLS   Adj. R-squared:                  0.946\n",
      "Method:                 Least Squares   F-statistic:                     215.8\n",
      "Date:                Fri, 06 May 2022   Prob (F-statistic):           9.72e-29\n",
      "Time:                        21:03:26   Log-Likelihood:                -525.53\n",
      "No. Observations:                  50   AIC:                             1061.\n",
      "Df Residuals:                      45   BIC:                             1071.\n",
      "Df Model:                           4                                         \n",
      "Covariance Type:            nonrobust                                         \n",
      "==============================================================================\n",
      "                 coef    std err          t      P>|t|      [0.025      0.975]\n",
      "------------------------------------------------------------------------------\n",
      "Intercept   8.401e+04    993.420     84.567      0.000     8.2e+04     8.6e+04\n",
      "rd_spend    3.657e+04   1948.322     18.771      0.000    3.26e+04    4.05e+04\n",
      "mkt_spend   3638.2094   1974.965      1.842      0.072    -339.575    7615.993\n",
      "ca          2.796e+04   1916.569     14.590      0.000    2.41e+04    3.18e+04\n",
      "fl           2.81e+04   1975.275     14.228      0.000    2.41e+04    3.21e+04\n",
      "ny          2.794e+04   1897.221     14.729      0.000    2.41e+04    3.18e+04\n",
      "==============================================================================\n",
      "Omnibus:                       14.640   Durbin-Watson:                   1.257\n",
      "Prob(Omnibus):                  0.001   Jarque-Bera (JB):               21.037\n",
      "Skew:                          -0.938   Prob(JB):                     2.70e-05\n",
      "Kurtosis:                       5.565   Cond. No.                     2.52e+16\n",
      "==============================================================================\n",
      "\n",
      "Notes:\n",
      "[1] Standard Errors assume that the covariance matrix of the errors is correctly specified.\n",
      "[2] The smallest eigenvalue is 1.34e-31. This might indicate that there are\n",
      "strong multicollinearity problems or that the design matrix is singular.\n"
     ]
    }
   ],
   "source": [
    "print(reg2fit.summary())"
   ]
  },
  {
   "cell_type": "markdown",
   "id": "263850af-e1c5-4782-9687-93088740fc91",
   "metadata": {},
   "source": [
    "#### (Extra) Ajuste da matriz adequada"
   ]
  },
  {
   "cell_type": "code",
   "execution_count": 145,
   "id": "e92868c4-ad77-48fe-a969-95dc7d411c38",
   "metadata": {},
   "outputs": [
    {
     "name": "stdout",
     "output_type": "stream",
     "text": [
      "                            OLS Regression Results                            \n",
      "==============================================================================\n",
      "Dep. Variable:                 Profit   R-squared:                       0.962\n",
      "Model:                            OLS   Adj. R-squared:                  0.958\n",
      "Method:                 Least Squares   F-statistic:                     275.3\n",
      "Date:                Fri, 06 May 2022   Prob (F-statistic):           1.60e-30\n",
      "Time:                        21:03:37   Log-Likelihood:                -506.11\n",
      "No. Observations:                  49   AIC:                             1022.\n",
      "Df Residuals:                      44   BIC:                             1032.\n",
      "Df Model:                           4                                         \n",
      "Covariance Type:            nonrobust                                         \n",
      "==============================================================================\n",
      "                 coef    std err          t      P>|t|      [0.025      0.975]\n",
      "------------------------------------------------------------------------------\n",
      "Intercept   8.551e+04    837.607    102.089      0.000    8.38e+04    8.72e+04\n",
      "rd_spend    3.501e+04   1611.667     21.721      0.000    3.18e+04    3.83e+04\n",
      "mkt_spend   3401.9110   1633.978      2.082      0.043     108.845    6694.977\n",
      "ca          2.969e+04   1630.773     18.206      0.000    2.64e+04     3.3e+04\n",
      "fl          2.807e+04   1649.354     17.021      0.000    2.47e+04    3.14e+04\n",
      "ny          2.775e+04   1587.599     17.478      0.000    2.45e+04    3.09e+04\n",
      "==============================================================================\n",
      "Omnibus:                        0.123   Durbin-Watson:                   1.619\n",
      "Prob(Omnibus):                  0.940   Jarque-Bera (JB):                0.292\n",
      "Skew:                           0.093   Prob(JB):                        0.864\n",
      "Kurtosis:                       2.670   Cond. No.                     2.70e+16\n",
      "==============================================================================\n",
      "\n",
      "Notes:\n",
      "[1] Standard Errors assume that the covariance matrix of the errors is correctly specified.\n",
      "[2] The smallest eigenvalue is 1.13e-31. This might indicate that there are\n",
      "strong multicollinearity problems or that the design matrix is singular.\n"
     ]
    }
   ],
   "source": [
    "reg2fit_adj = fit_model(y_adj, xRed_adj)\n",
    "print(reg2fit_adj.summary())"
   ]
  },
  {
   "cell_type": "markdown",
   "id": "15e423b1-953c-4b44-9886-354da3b1bfc6",
   "metadata": {},
   "source": [
    "# 8. Qualidade de ajuste\n",
    "\n",
    "* Separação dos datasets:\n",
    "    * Ajuste o modelo com todas as variáveis;\n",
    "    * Crie um modelo reduzido, que considera somente as informações relevantes para a análise.\n",
    "* Avaliação de multicolinearidade e da qualidade de ajuste em ambos os métodos (mínimos quadrados e gradiente descendente):\n",
    "    * Ajuste do modelo reduzido;\n",
    "    * Criação da matriz de previsões;\n",
    "    * Calcule as métricas de qualidade do modelo."
   ]
  },
  {
   "cell_type": "markdown",
   "id": "cfab4c8e-4328-410b-9e3b-7350e9d30c68",
   "metadata": {},
   "source": [
    "## 8.1. Separar os datasets\n",
    "Extrair os dados de teste de modo aleatório para não privilegiar nenhum tipo de dado\n",
    "\n",
    "**test_size**: percentual dos dados que será deixado de fora"
   ]
  },
  {
   "cell_type": "code",
   "execution_count": 44,
   "id": "aedca54e-cc18-4c37-a078-535ab1588fec",
   "metadata": {},
   "outputs": [],
   "source": [
    "xTrain, xTest, yTrain, yTest = train_test_split(\n",
    "    x, y, test_size=0.1, random_state=0)"
   ]
  },
  {
   "cell_type": "code",
   "execution_count": 45,
   "id": "3437c8c9-e55c-4305-bf05-90a55719bba9",
   "metadata": {},
   "outputs": [],
   "source": [
    "for d in [xTrain, xTest, yTrain, yTest]:\n",
    "    d.reset_index(drop=True, inplace=True)"
   ]
  },
  {
   "cell_type": "markdown",
   "id": "b3927fc3-f60c-45c0-ac92-632a1a50c24a",
   "metadata": {},
   "source": [
    "### (Extra) Separar os datasets adequados"
   ]
  },
  {
   "cell_type": "code",
   "execution_count": 146,
   "id": "a430e642-d389-4007-8b7f-0890886fa5e1",
   "metadata": {},
   "outputs": [],
   "source": [
    "xTrain_adj, xTest_adj, yTrain_adj, yTest_adj = train_test_split(\n",
    "    x_adj, y_adj, test_size=0.1, random_state=0)"
   ]
  },
  {
   "cell_type": "code",
   "execution_count": 147,
   "id": "7067fac3-8f72-48d1-bb35-f6a237c5983c",
   "metadata": {},
   "outputs": [],
   "source": [
    "for d in [xTrain_adj, xTest_adj, yTrain_adj, yTest_adj]:\n",
    "    d.reset_index(drop=True, inplace=True)"
   ]
  },
  {
   "cell_type": "markdown",
   "id": "fa8ec92b-bd58-4b99-97a1-961da07883fa",
   "metadata": {},
   "source": [
    "## 8.2. Ajuste do modelo (OLS)"
   ]
  },
  {
   "cell_type": "markdown",
   "id": "dad74e3f-ce79-4289-bbad-9a943458f713",
   "metadata": {},
   "source": [
    "### 8.2.1. Modelo Full"
   ]
  },
  {
   "cell_type": "code",
   "execution_count": 46,
   "id": "2e735737-2218-4975-9a49-d82a633099c8",
   "metadata": {},
   "outputs": [],
   "source": [
    "reg3fit = fit_model(yTrain, xTrain)"
   ]
  },
  {
   "cell_type": "code",
   "execution_count": 47,
   "id": "7a6fdc1d-d428-444d-839f-29e91db82d20",
   "metadata": {},
   "outputs": [
    {
     "name": "stdout",
     "output_type": "stream",
     "text": [
      "                            OLS Regression Results                            \n",
      "==============================================================================\n",
      "Dep. Variable:                 Profit   R-squared:                       0.949\n",
      "Model:                            OLS   Adj. R-squared:                  0.942\n",
      "Method:                 Least Squares   F-statistic:                     145.1\n",
      "Date:                Fri, 06 May 2022   Prob (F-statistic):           4.15e-24\n",
      "Time:                        08:40:40   Log-Likelihood:                -473.01\n",
      "No. Observations:                  45   AIC:                             958.0\n",
      "Df Residuals:                      39   BIC:                             968.9\n",
      "Df Model:                           5                                         \n",
      "Covariance Type:            nonrobust                                         \n",
      "===============================================================================\n",
      "                  coef    std err          t      P>|t|      [0.025      0.975]\n",
      "-------------------------------------------------------------------------------\n",
      "Intercept    8.333e+04   1082.962     76.948      0.000    8.11e+04    8.55e+04\n",
      "rd_spend     3.573e+04   2265.524     15.771      0.000    3.11e+04    4.03e+04\n",
      "admin_spend   159.8963   1647.088      0.097      0.923   -3171.653    3491.446\n",
      "mkt_spend    3929.7297   2154.964      1.824      0.076    -429.097    8288.556\n",
      "ca            2.79e+04   2045.226     13.643      0.000    2.38e+04     3.2e+04\n",
      "fl           2.675e+04   2295.676     11.652      0.000    2.21e+04    3.14e+04\n",
      "ny           2.868e+04   1981.012     14.478      0.000    2.47e+04    3.27e+04\n",
      "==============================================================================\n",
      "Omnibus:                       16.046   Durbin-Watson:                   2.488\n",
      "Prob(Omnibus):                  0.000   Jarque-Bera (JB):               25.322\n",
      "Skew:                          -1.020   Prob(JB):                     3.17e-06\n",
      "Kurtosis:                       6.057   Cond. No.                     9.87e+15\n",
      "==============================================================================\n",
      "\n",
      "Notes:\n",
      "[1] Standard Errors assume that the covariance matrix of the errors is correctly specified.\n",
      "[2] The smallest eigenvalue is 8.25e-31. This might indicate that there are\n",
      "strong multicollinearity problems or that the design matrix is singular.\n"
     ]
    }
   ],
   "source": [
    "print(reg3fit.summary())"
   ]
  },
  {
   "cell_type": "markdown",
   "id": "4e3b9d7f-c92b-4bc0-ab22-ecd5fe6acaba",
   "metadata": {},
   "source": [
    "#### (Extra) Modelo Full adequado"
   ]
  },
  {
   "cell_type": "code",
   "execution_count": 148,
   "id": "b7828ae3-f818-4eb0-af44-803cbb5f6280",
   "metadata": {},
   "outputs": [
    {
     "name": "stdout",
     "output_type": "stream",
     "text": [
      "                            OLS Regression Results                            \n",
      "==============================================================================\n",
      "Dep. Variable:                 Profit   R-squared:                       0.961\n",
      "Model:                            OLS   Adj. R-squared:                  0.956\n",
      "Method:                 Least Squares   F-statistic:                     187.7\n",
      "Date:                Fri, 06 May 2022   Prob (F-statistic):           1.05e-25\n",
      "Time:                        21:07:44   Log-Likelihood:                -456.01\n",
      "No. Observations:                  44   AIC:                             924.0\n",
      "Df Residuals:                      38   BIC:                             934.7\n",
      "Df Model:                           5                                         \n",
      "Covariance Type:            nonrobust                                         \n",
      "===============================================================================\n",
      "                  coef    std err          t      P>|t|      [0.025      0.975]\n",
      "-------------------------------------------------------------------------------\n",
      "Intercept    8.583e+04    944.968     90.832      0.000    8.39e+04    8.77e+04\n",
      "rd_spend     3.596e+04   1953.598     18.406      0.000     3.2e+04    3.99e+04\n",
      "admin_spend  -752.3509   1353.538     -0.556      0.582   -3492.446    1987.744\n",
      "mkt_spend    2464.0046   1976.517      1.247      0.220   -1537.245    6465.254\n",
      "ca           2.962e+04   1787.970     16.568      0.000     2.6e+04    3.32e+04\n",
      "fl           2.878e+04   1947.680     14.777      0.000    2.48e+04    3.27e+04\n",
      "ny           2.743e+04   1754.805     15.631      0.000    2.39e+04     3.1e+04\n",
      "==============================================================================\n",
      "Omnibus:                        0.135   Durbin-Watson:                   2.090\n",
      "Prob(Omnibus):                  0.935   Jarque-Bera (JB):                0.313\n",
      "Skew:                          -0.098   Prob(JB):                        0.855\n",
      "Kurtosis:                       2.636   Cond. No.                     3.42e+16\n",
      "==============================================================================\n",
      "\n",
      "Notes:\n",
      "[1] Standard Errors assume that the covariance matrix of the errors is correctly specified.\n",
      "[2] The smallest eigenvalue is 6.79e-32. This might indicate that there are\n",
      "strong multicollinearity problems or that the design matrix is singular.\n"
     ]
    }
   ],
   "source": [
    "reg3fit_adj = fit_model(yTrain_adj, xTrain_adj)\n",
    "print(reg3fit_adj.summary())"
   ]
  },
  {
   "cell_type": "markdown",
   "id": "91b053e5-3c69-4d5a-a19a-32cf15de746d",
   "metadata": {},
   "source": [
    "### 8.2.2. Modelo reduzido\n",
    "Retirando a variável **admin_spend**"
   ]
  },
  {
   "cell_type": "code",
   "execution_count": 48,
   "id": "fa726379-dd45-442c-bf1b-e6cd0976fb3d",
   "metadata": {},
   "outputs": [
    {
     "data": {
      "text/html": [
       "<div>\n",
       "<style scoped>\n",
       "    .dataframe tbody tr th:only-of-type {\n",
       "        vertical-align: middle;\n",
       "    }\n",
       "\n",
       "    .dataframe tbody tr th {\n",
       "        vertical-align: top;\n",
       "    }\n",
       "\n",
       "    .dataframe thead th {\n",
       "        text-align: right;\n",
       "    }\n",
       "</style>\n",
       "<table border=\"1\" class=\"dataframe\">\n",
       "  <thead>\n",
       "    <tr style=\"text-align: right;\">\n",
       "      <th></th>\n",
       "      <th>Intercept</th>\n",
       "      <th>rd_spend</th>\n",
       "      <th>admin_spend</th>\n",
       "      <th>mkt_spend</th>\n",
       "      <th>ca</th>\n",
       "      <th>fl</th>\n",
       "      <th>ny</th>\n",
       "    </tr>\n",
       "  </thead>\n",
       "  <tbody>\n",
       "    <tr>\n",
       "      <th>0</th>\n",
       "      <td>1.0</td>\n",
       "      <td>-0.035162</td>\n",
       "      <td>0.232706</td>\n",
       "      <td>1.162469</td>\n",
       "      <td>0.0</td>\n",
       "      <td>0.0</td>\n",
       "      <td>1.0</td>\n",
       "    </tr>\n",
       "    <tr>\n",
       "      <th>1</th>\n",
       "      <td>1.0</td>\n",
       "      <td>-1.165346</td>\n",
       "      <td>-1.977197</td>\n",
       "      <td>-0.210646</td>\n",
       "      <td>0.0</td>\n",
       "      <td>0.0</td>\n",
       "      <td>1.0</td>\n",
       "    </tr>\n",
       "    <tr>\n",
       "      <th>2</th>\n",
       "      <td>1.0</td>\n",
       "      <td>-0.274175</td>\n",
       "      <td>1.119191</td>\n",
       "      <td>-1.004224</td>\n",
       "      <td>0.0</td>\n",
       "      <td>0.0</td>\n",
       "      <td>1.0</td>\n",
       "    </tr>\n",
       "    <tr>\n",
       "      <th>3</th>\n",
       "      <td>1.0</td>\n",
       "      <td>0.005946</td>\n",
       "      <td>0.051328</td>\n",
       "      <td>0.754714</td>\n",
       "      <td>0.0</td>\n",
       "      <td>1.0</td>\n",
       "      <td>0.0</td>\n",
       "    </tr>\n",
       "    <tr>\n",
       "      <th>4</th>\n",
       "      <td>1.0</td>\n",
       "      <td>1.489812</td>\n",
       "      <td>-1.069066</td>\n",
       "      <td>1.268648</td>\n",
       "      <td>0.0</td>\n",
       "      <td>1.0</td>\n",
       "      <td>0.0</td>\n",
       "    </tr>\n",
       "  </tbody>\n",
       "</table>\n",
       "</div>"
      ],
      "text/plain": [
       "   Intercept  rd_spend  admin_spend  mkt_spend   ca   fl   ny\n",
       "0        1.0 -0.035162     0.232706   1.162469  0.0  0.0  1.0\n",
       "1        1.0 -1.165346    -1.977197  -0.210646  0.0  0.0  1.0\n",
       "2        1.0 -0.274175     1.119191  -1.004224  0.0  0.0  1.0\n",
       "3        1.0  0.005946     0.051328   0.754714  0.0  1.0  0.0\n",
       "4        1.0  1.489812    -1.069066   1.268648  0.0  1.0  0.0"
      ]
     },
     "execution_count": 48,
     "metadata": {},
     "output_type": "execute_result"
    }
   ],
   "source": [
    "xTrain.head()"
   ]
  },
  {
   "cell_type": "code",
   "execution_count": 57,
   "id": "45f0b074-a665-4367-b384-acf7890ff044",
   "metadata": {},
   "outputs": [],
   "source": [
    "xTrainRed = xTrain.drop(columns=[\"admin_spend\"], axis=1)\n",
    "xTestRed = xTest.drop(columns=['admin_spend'], axis=1)"
   ]
  },
  {
   "cell_type": "code",
   "execution_count": 51,
   "id": "9e6b7a89-cacb-4e28-b567-02834395e241",
   "metadata": {},
   "outputs": [],
   "source": [
    "reg4fit = fit_model(yTrain, xTrainRed)"
   ]
  },
  {
   "cell_type": "code",
   "execution_count": 53,
   "id": "bee43cca-74d5-4dc4-94fb-04871139f48b",
   "metadata": {},
   "outputs": [
    {
     "name": "stdout",
     "output_type": "stream",
     "text": [
      "                            OLS Regression Results                            \n",
      "==============================================================================\n",
      "Dep. Variable:                 Profit   R-squared:                       0.949\n",
      "Model:                            OLS   Adj. R-squared:                  0.944\n",
      "Method:                 Least Squares   F-statistic:                     186.0\n",
      "Date:                Fri, 06 May 2022   Prob (F-statistic):           2.85e-25\n",
      "Time:                        10:09:48   Log-Likelihood:                -473.01\n",
      "No. Observations:                  45   AIC:                             956.0\n",
      "Df Residuals:                      40   BIC:                             965.1\n",
      "Df Model:                           4                                         \n",
      "Covariance Type:            nonrobust                                         \n",
      "==============================================================================\n",
      "                 coef    std err          t      P>|t|      [0.025      0.975]\n",
      "------------------------------------------------------------------------------\n",
      "Intercept   8.334e+04   1067.700     78.054      0.000    8.12e+04    8.55e+04\n",
      "rd_spend    3.582e+04   2033.946     17.612      0.000    3.17e+04    3.99e+04\n",
      "mkt_spend   3869.1207   2036.843      1.900      0.065    -247.493    7985.734\n",
      "ca          2.791e+04   2018.394     13.828      0.000    2.38e+04     3.2e+04\n",
      "fl          2.676e+04   2264.078     11.820      0.000    2.22e+04    3.13e+04\n",
      "ny          2.867e+04   1952.084     14.686      0.000    2.47e+04    3.26e+04\n",
      "==============================================================================\n",
      "Omnibus:                       15.966   Durbin-Watson:                   2.492\n",
      "Prob(Omnibus):                  0.000   Jarque-Bera (JB):               25.142\n",
      "Skew:                          -1.016   Prob(JB):                     3.47e-06\n",
      "Kurtosis:                       6.047   Cond. No.                     1.50e+16\n",
      "==============================================================================\n",
      "\n",
      "Notes:\n",
      "[1] Standard Errors assume that the covariance matrix of the errors is correctly specified.\n",
      "[2] The smallest eigenvalue is 3.48e-31. This might indicate that there are\n",
      "strong multicollinearity problems or that the design matrix is singular.\n"
     ]
    }
   ],
   "source": [
    "print(reg4fit.summary())"
   ]
  },
  {
   "cell_type": "markdown",
   "id": "59f7f9ad-f337-4e40-b148-bdb297d2fe18",
   "metadata": {},
   "source": [
    "#### (Extra) Modelo adequado reduzido"
   ]
  },
  {
   "cell_type": "code",
   "execution_count": 149,
   "id": "f427c1a1-1fdc-48a3-8517-a9792bb354e1",
   "metadata": {},
   "outputs": [
    {
     "name": "stdout",
     "output_type": "stream",
     "text": [
      "                            OLS Regression Results                            \n",
      "==============================================================================\n",
      "Dep. Variable:                 Profit   R-squared:                       0.961\n",
      "Model:                            OLS   Adj. R-squared:                  0.957\n",
      "Method:                 Least Squares   F-statistic:                     238.8\n",
      "Date:                Fri, 06 May 2022   Prob (F-statistic):           7.41e-27\n",
      "Time:                        21:09:45   Log-Likelihood:                -456.19\n",
      "No. Observations:                  44   AIC:                             922.4\n",
      "Df Residuals:                      39   BIC:                             931.3\n",
      "Df Model:                           4                                         \n",
      "Covariance Type:            nonrobust                                         \n",
      "==============================================================================\n",
      "                 coef    std err          t      P>|t|      [0.025      0.975]\n",
      "------------------------------------------------------------------------------\n",
      "Intercept   8.582e+04    936.227     91.666      0.000    8.39e+04    8.77e+04\n",
      "rd_spend    3.551e+04   1765.128     20.118      0.000    3.19e+04    3.91e+04\n",
      "mkt_spend   2789.9348   1870.737      1.491      0.144    -993.987    6573.857\n",
      "ca          2.964e+04   1771.825     16.728      0.000    2.61e+04    3.32e+04\n",
      "fl          2.866e+04   1918.944     14.937      0.000    2.48e+04    3.25e+04\n",
      "ny          2.752e+04   1732.195     15.886      0.000     2.4e+04     3.1e+04\n",
      "==============================================================================\n",
      "Omnibus:                        0.145   Durbin-Watson:                   2.110\n",
      "Prob(Omnibus):                  0.930   Jarque-Bera (JB):                0.350\n",
      "Skew:                          -0.055   Prob(JB):                        0.839\n",
      "Kurtosis:                       2.577   Cond. No.                     2.39e+16\n",
      "==============================================================================\n",
      "\n",
      "Notes:\n",
      "[1] Standard Errors assume that the covariance matrix of the errors is correctly specified.\n",
      "[2] The smallest eigenvalue is 1.33e-31. This might indicate that there are\n",
      "strong multicollinearity problems or that the design matrix is singular.\n"
     ]
    }
   ],
   "source": [
    "xTrainRed_adj = xTrain_adj.drop(columns=[\"admin_spend\"], axis=1)\n",
    "xTestRed_adj = xTest_adj.drop(columns=['admin_spend'], axis=1)\n",
    "\n",
    "reg4fit_adj = fit_model(yTrain_adj, xTrainRed_adj)\n",
    "print(reg4fit_adj.summary())"
   ]
  },
  {
   "cell_type": "markdown",
   "id": "4685ce26-e6cc-4ff4-9c1a-0e6862a8a5e9",
   "metadata": {},
   "source": [
    "### 8.2.3. Avaliação de multicolinearidade\n",
    "Ao fazer o gráfico de correlação, parecia haver uma correlação positiva entre os gastos com R&D e os gastos com Marketing\n",
    "\n",
    "**Métrica VIF**: fator de inflação da variância e avalia o quanto de multicolineariedade existe relacionado a cada uma das variáveis\n",
    "* Significa quantas vezes o std err está maior devido à multicolinearidade, quantas vezes ele está inflado\n",
    "* Se houver valores de VIR maiores que 5, remova a variável que tem o maior VIF do modelo"
   ]
  },
  {
   "cell_type": "code",
   "execution_count": 54,
   "id": "eda4fa37-edef-473e-b347-14a91fdcd2f1",
   "metadata": {},
   "outputs": [
    {
     "name": "stderr",
     "output_type": "stream",
     "text": [
      "C:\\Users\\bruna\\anaconda3\\lib\\site-packages\\statsmodels\\stats\\outliers_influence.py:193: RuntimeWarning: divide by zero encountered in double_scalars\n",
      "  vif = 1. / (1. - r_squared_i)\n"
     ]
    },
    {
     "data": {
      "text/html": [
       "<div>\n",
       "<style scoped>\n",
       "    .dataframe tbody tr th:only-of-type {\n",
       "        vertical-align: middle;\n",
       "    }\n",
       "\n",
       "    .dataframe tbody tr th {\n",
       "        vertical-align: top;\n",
       "    }\n",
       "\n",
       "    .dataframe thead th {\n",
       "        text-align: right;\n",
       "    }\n",
       "</style>\n",
       "<table border=\"1\" class=\"dataframe\">\n",
       "  <thead>\n",
       "    <tr style=\"text-align: right;\">\n",
       "      <th></th>\n",
       "      <th>Variáveis</th>\n",
       "      <th>VIF</th>\n",
       "    </tr>\n",
       "  </thead>\n",
       "  <tbody>\n",
       "    <tr>\n",
       "      <th>0</th>\n",
       "      <td>rd_spend</td>\n",
       "      <td>2.055984</td>\n",
       "    </tr>\n",
       "    <tr>\n",
       "      <th>1</th>\n",
       "      <td>mkt_spend</td>\n",
       "      <td>2.126109</td>\n",
       "    </tr>\n",
       "    <tr>\n",
       "      <th>2</th>\n",
       "      <td>ca</td>\n",
       "      <td>inf</td>\n",
       "    </tr>\n",
       "    <tr>\n",
       "      <th>3</th>\n",
       "      <td>fl</td>\n",
       "      <td>inf</td>\n",
       "    </tr>\n",
       "    <tr>\n",
       "      <th>4</th>\n",
       "      <td>ny</td>\n",
       "      <td>inf</td>\n",
       "    </tr>\n",
       "  </tbody>\n",
       "</table>\n",
       "</div>"
      ],
      "text/plain": [
       "   Variáveis       VIF\n",
       "0   rd_spend  2.055984\n",
       "1  mkt_spend  2.126109\n",
       "2         ca       inf\n",
       "3         fl       inf\n",
       "4         ny       inf"
      ]
     },
     "execution_count": 54,
     "metadata": {},
     "output_type": "execute_result"
    }
   ],
   "source": [
    "pd.DataFrame({'Variáveis': xTrainRed.columns[1:],\n",
    "              'VIF': [variance_inflation_factor(xTrainRed.values, i + 1)\n",
    "                      for i in range(len(xTrainRed.columns[1:]))]\n",
    "              })"
   ]
  },
  {
   "cell_type": "markdown",
   "id": "f869a0f7-abd0-402f-b34b-35fa219b9f48",
   "metadata": {},
   "source": [
    "#### (Extra) Avaliação de multicolinearidade adequada"
   ]
  },
  {
   "cell_type": "code",
   "execution_count": 150,
   "id": "b1694142-672d-4dcc-b163-042f117e4732",
   "metadata": {},
   "outputs": [
    {
     "name": "stderr",
     "output_type": "stream",
     "text": [
      "C:\\Users\\bruna\\anaconda3\\lib\\site-packages\\statsmodels\\stats\\outliers_influence.py:193: RuntimeWarning: divide by zero encountered in double_scalars\n",
      "  vif = 1. / (1. - r_squared_i)\n"
     ]
    },
    {
     "data": {
      "text/html": [
       "<div>\n",
       "<style scoped>\n",
       "    .dataframe tbody tr th:only-of-type {\n",
       "        vertical-align: middle;\n",
       "    }\n",
       "\n",
       "    .dataframe tbody tr th {\n",
       "        vertical-align: top;\n",
       "    }\n",
       "\n",
       "    .dataframe thead th {\n",
       "        text-align: right;\n",
       "    }\n",
       "</style>\n",
       "<table border=\"1\" class=\"dataframe\">\n",
       "  <thead>\n",
       "    <tr style=\"text-align: right;\">\n",
       "      <th></th>\n",
       "      <th>Variáveis</th>\n",
       "      <th>VIF</th>\n",
       "    </tr>\n",
       "  </thead>\n",
       "  <tbody>\n",
       "    <tr>\n",
       "      <th>0</th>\n",
       "      <td>rd_spend</td>\n",
       "      <td>2.123537</td>\n",
       "    </tr>\n",
       "    <tr>\n",
       "      <th>1</th>\n",
       "      <td>mkt_spend</td>\n",
       "      <td>2.201404</td>\n",
       "    </tr>\n",
       "    <tr>\n",
       "      <th>2</th>\n",
       "      <td>ca</td>\n",
       "      <td>inf</td>\n",
       "    </tr>\n",
       "    <tr>\n",
       "      <th>3</th>\n",
       "      <td>fl</td>\n",
       "      <td>inf</td>\n",
       "    </tr>\n",
       "    <tr>\n",
       "      <th>4</th>\n",
       "      <td>ny</td>\n",
       "      <td>inf</td>\n",
       "    </tr>\n",
       "  </tbody>\n",
       "</table>\n",
       "</div>"
      ],
      "text/plain": [
       "   Variáveis       VIF\n",
       "0   rd_spend  2.123537\n",
       "1  mkt_spend  2.201404\n",
       "2         ca       inf\n",
       "3         fl       inf\n",
       "4         ny       inf"
      ]
     },
     "execution_count": 150,
     "metadata": {},
     "output_type": "execute_result"
    }
   ],
   "source": [
    "pd.DataFrame({'Variáveis': xTrainRed_adj.columns[1:],\n",
    "              'VIF': [variance_inflation_factor(xTrainRed_adj.values, i + 1)\n",
    "                      for i in range(len(xTrainRed_adj.columns[1:]))]\n",
    "              })"
   ]
  },
  {
   "cell_type": "markdown",
   "id": "394ecbfc-1d21-4bad-94a1-58571ef383ca",
   "metadata": {},
   "source": [
    "### 8.2.4. Matriz com previsões"
   ]
  },
  {
   "cell_type": "code",
   "execution_count": 99,
   "id": "f80e119d-0f7b-416b-8a07-18c1011fd3bc",
   "metadata": {},
   "outputs": [
    {
     "data": {
      "text/html": [
       "<div>\n",
       "<style scoped>\n",
       "    .dataframe tbody tr th:only-of-type {\n",
       "        vertical-align: middle;\n",
       "    }\n",
       "\n",
       "    .dataframe tbody tr th {\n",
       "        vertical-align: top;\n",
       "    }\n",
       "\n",
       "    .dataframe thead th {\n",
       "        text-align: right;\n",
       "    }\n",
       "</style>\n",
       "<table border=\"1\" class=\"dataframe\">\n",
       "  <thead>\n",
       "    <tr style=\"text-align: right;\">\n",
       "      <th></th>\n",
       "      <th>profitReal</th>\n",
       "      <th>profitPrevisto</th>\n",
       "    </tr>\n",
       "  </thead>\n",
       "  <tbody>\n",
       "    <tr>\n",
       "      <th>0</th>\n",
       "      <td>103282.38</td>\n",
       "      <td>101173.929112</td>\n",
       "    </tr>\n",
       "    <tr>\n",
       "      <th>1</th>\n",
       "      <td>144259.40</td>\n",
       "      <td>133503.979045</td>\n",
       "    </tr>\n",
       "    <tr>\n",
       "      <th>2</th>\n",
       "      <td>146121.95</td>\n",
       "      <td>132672.287753</td>\n",
       "    </tr>\n",
       "    <tr>\n",
       "      <th>3</th>\n",
       "      <td>77798.83</td>\n",
       "      <td>72860.882041</td>\n",
       "    </tr>\n",
       "    <tr>\n",
       "      <th>4</th>\n",
       "      <td>191050.39</td>\n",
       "      <td>178540.806994</td>\n",
       "    </tr>\n",
       "  </tbody>\n",
       "</table>\n",
       "</div>"
      ],
      "text/plain": [
       "   profitReal  profitPrevisto\n",
       "0   103282.38   101173.929112\n",
       "1   144259.40   133503.979045\n",
       "2   146121.95   132672.287753\n",
       "3    77798.83    72860.882041\n",
       "4   191050.39   178540.806994"
      ]
     },
     "execution_count": 99,
     "metadata": {},
     "output_type": "execute_result"
    }
   ],
   "source": [
    "previsao_y = previsao(y=yTest,\n",
    "                      fit=reg4fit.predict(xTestRed),\n",
    "                      columns=['profitReal', 'profitPrevisto'])\n",
    "\n",
    "previsao_y"
   ]
  },
  {
   "cell_type": "markdown",
   "id": "6c8f2f54-6af8-4e37-a329-8bc44e9a829d",
   "metadata": {},
   "source": [
    "#### (Extra) Matriz com previsões adequada"
   ]
  },
  {
   "cell_type": "code",
   "execution_count": 152,
   "id": "9017b427-4100-41e8-9f08-26dcc4fe7d4e",
   "metadata": {},
   "outputs": [
    {
     "data": {
      "text/html": [
       "<div>\n",
       "<style scoped>\n",
       "    .dataframe tbody tr th:only-of-type {\n",
       "        vertical-align: middle;\n",
       "    }\n",
       "\n",
       "    .dataframe tbody tr th {\n",
       "        vertical-align: top;\n",
       "    }\n",
       "\n",
       "    .dataframe thead th {\n",
       "        text-align: right;\n",
       "    }\n",
       "</style>\n",
       "<table border=\"1\" class=\"dataframe\">\n",
       "  <thead>\n",
       "    <tr style=\"text-align: right;\">\n",
       "      <th></th>\n",
       "      <th>profitReal</th>\n",
       "      <th>profitPrevisto</th>\n",
       "    </tr>\n",
       "  </thead>\n",
       "  <tbody>\n",
       "    <tr>\n",
       "      <th>0</th>\n",
       "      <td>101004.64</td>\n",
       "      <td>103294.578775</td>\n",
       "    </tr>\n",
       "    <tr>\n",
       "      <th>1</th>\n",
       "      <td>166187.94</td>\n",
       "      <td>170620.722604</td>\n",
       "    </tr>\n",
       "    <tr>\n",
       "      <th>2</th>\n",
       "      <td>105733.54</td>\n",
       "      <td>112713.225676</td>\n",
       "    </tr>\n",
       "    <tr>\n",
       "      <th>3</th>\n",
       "      <td>99937.59</td>\n",
       "      <td>101229.195201</td>\n",
       "    </tr>\n",
       "    <tr>\n",
       "      <th>4</th>\n",
       "      <td>97427.84</td>\n",
       "      <td>102281.582977</td>\n",
       "    </tr>\n",
       "  </tbody>\n",
       "</table>\n",
       "</div>"
      ],
      "text/plain": [
       "   profitReal  profitPrevisto\n",
       "0   101004.64   103294.578775\n",
       "1   166187.94   170620.722604\n",
       "2   105733.54   112713.225676\n",
       "3    99937.59   101229.195201\n",
       "4    97427.84   102281.582977"
      ]
     },
     "execution_count": 152,
     "metadata": {},
     "output_type": "execute_result"
    }
   ],
   "source": [
    "previsao_y_adj = previsao(y=yTest_adj,\n",
    "                      fit=reg4fit_adj.predict(xTestRed_adj),\n",
    "                      columns=['profitReal', 'profitPrevisto'])\n",
    "previsao_y_adj"
   ]
  },
  {
   "cell_type": "markdown",
   "id": "5f73bc8b-ed0b-4b43-ae49-0cd946ec3f92",
   "metadata": {},
   "source": [
    "### 8.2.5. Qualidade de ajuste\n",
    "* R² avalia o quanto as previsões do modelo estão relacionadas com os dados de teste\n",
    "* RMSE (raiz do erro quadrado médio) variação aleatória do erro que o modelo não capturou"
   ]
  },
  {
   "cell_type": "code",
   "execution_count": 70,
   "id": "0379b1d8-c62f-4085-aa41-5eaaaaa4e833",
   "metadata": {},
   "outputs": [
    {
     "name": "stdout",
     "output_type": "stream",
     "text": [
      "R²: 93.66 % \n",
      "RMSE: USD 9817.24\n"
     ]
    }
   ],
   "source": [
    "print(f\"R²: {(metrics.r2_score(previsao_y['profitReal'],previsao_y['profitPrevisto']))*100:.2f} % \\n\"\n",
    "      f\"RMSE: USD {np.sqrt(metrics.mean_squared_error(previsao_y['profitReal'],previsao_y['profitPrevisto'])):.2f}\")"
   ]
  },
  {
   "cell_type": "markdown",
   "id": "67c48693-c28a-4472-8cb9-cce1c7dea084",
   "metadata": {},
   "source": [
    "#### (Extra) Qualidade de ajuste adequado"
   ]
  },
  {
   "cell_type": "code",
   "execution_count": 153,
   "id": "c4f8d48d-5dc5-44af-90df-8917000ac3d2",
   "metadata": {},
   "outputs": [
    {
     "name": "stdout",
     "output_type": "stream",
     "text": [
      "R²: 97.12 % \n",
      "RMSE: USD 4446.04\n"
     ]
    }
   ],
   "source": [
    "print(f\"R²: {(metrics.r2_score(previsao_y_adj['profitReal'],previsao_y_adj['profitPrevisto']))*100:.2f} % \\n\"\n",
    "      f\"RMSE: USD {np.sqrt(metrics.mean_squared_error(previsao_y_adj['profitReal'],previsao_y_adj['profitPrevisto'])):.2f}\")"
   ]
  },
  {
   "cell_type": "markdown",
   "id": "22b9105b-8c88-4a54-a2aa-8a0e4b29ad2e",
   "metadata": {},
   "source": [
    "## 8.3. Ajuste do modelo (Gradiente descendente)"
   ]
  },
  {
   "cell_type": "code",
   "execution_count": 71,
   "id": "48b2ff25-b4ac-47b8-a36f-67b1acc076d9",
   "metadata": {},
   "outputs": [],
   "source": [
    "m, n = xTrainRed.shape\n",
    "beta = np.zeros(n)\n",
    "itera = 1000\n",
    "alpha = 0.3\n",
    "\n",
    "beta, hPerda = grad_des(x=xTrainRed,\n",
    "                        y=yTrain,\n",
    "                        beta=beta,\n",
    "                        alpha=alpha,\n",
    "                        itera=itera)"
   ]
  },
  {
   "cell_type": "markdown",
   "id": "7640daa4-d040-4a59-b5cb-68a1f1f8bc5c",
   "metadata": {},
   "source": [
    "### 8.3.1. Matriz com previsões"
   ]
  },
  {
   "cell_type": "code",
   "execution_count": 97,
   "id": "1a47938a-3e9b-410e-a93f-b681bd824a47",
   "metadata": {},
   "outputs": [
    {
     "data": {
      "text/html": [
       "<div>\n",
       "<style scoped>\n",
       "    .dataframe tbody tr th:only-of-type {\n",
       "        vertical-align: middle;\n",
       "    }\n",
       "\n",
       "    .dataframe tbody tr th {\n",
       "        vertical-align: top;\n",
       "    }\n",
       "\n",
       "    .dataframe thead th {\n",
       "        text-align: right;\n",
       "    }\n",
       "</style>\n",
       "<table border=\"1\" class=\"dataframe\">\n",
       "  <thead>\n",
       "    <tr style=\"text-align: right;\">\n",
       "      <th></th>\n",
       "      <th>profitReal</th>\n",
       "      <th>profitPrevisto</th>\n",
       "    </tr>\n",
       "  </thead>\n",
       "  <tbody>\n",
       "    <tr>\n",
       "      <th>0</th>\n",
       "      <td>103282.38</td>\n",
       "      <td>101173.929112</td>\n",
       "    </tr>\n",
       "    <tr>\n",
       "      <th>1</th>\n",
       "      <td>144259.40</td>\n",
       "      <td>133503.979045</td>\n",
       "    </tr>\n",
       "    <tr>\n",
       "      <th>2</th>\n",
       "      <td>146121.95</td>\n",
       "      <td>132672.287753</td>\n",
       "    </tr>\n",
       "    <tr>\n",
       "      <th>3</th>\n",
       "      <td>77798.83</td>\n",
       "      <td>72860.882041</td>\n",
       "    </tr>\n",
       "    <tr>\n",
       "      <th>4</th>\n",
       "      <td>191050.39</td>\n",
       "      <td>178540.806994</td>\n",
       "    </tr>\n",
       "  </tbody>\n",
       "</table>\n",
       "</div>"
      ],
      "text/plain": [
       "   profitReal  profitPrevisto\n",
       "0   103282.38   101173.929112\n",
       "1   144259.40   133503.979045\n",
       "2   146121.95   132672.287753\n",
       "3    77798.83    72860.882041\n",
       "4   191050.39   178540.806994"
      ]
     },
     "execution_count": 97,
     "metadata": {},
     "output_type": "execute_result"
    }
   ],
   "source": [
    "previsaoGrad_y = previsao(y=yTest,\n",
    "                          fit=xTestRed.dot(beta),\n",
    "                          columns=['profitReal', 'profitPrevisto'])\n",
    "\n",
    "previsaoGrad_y"
   ]
  },
  {
   "cell_type": "markdown",
   "id": "1c7b1994-fa46-48e4-bcd0-17654f808f80",
   "metadata": {},
   "source": [
    "### 8.3.2. Qualidade de ajuste"
   ]
  },
  {
   "cell_type": "code",
   "execution_count": 73,
   "id": "3f57678f-9bd0-4fd9-a3bd-33f56cd46625",
   "metadata": {
    "tags": []
   },
   "outputs": [
    {
     "name": "stdout",
     "output_type": "stream",
     "text": [
      "R²: 93.66 % \n",
      "RMSE: USD 9817.24\n"
     ]
    }
   ],
   "source": [
    "print(f\"R²: {(metrics.r2_score(previsaoGrad_y['profitReal'],previsaoGrad_y['profitPrevisto']))*100:.2f} % \\n\"\n",
    "      f\"RMSE: USD {np.sqrt(metrics.mean_squared_error(previsaoGrad_y['profitReal'],previsaoGrad_y['profitPrevisto'])):.2f}\")"
   ]
  },
  {
   "cell_type": "markdown",
   "id": "ed7550cc-1fb7-4177-b08e-894c906f1206",
   "metadata": {},
   "source": [
    "# 9. Análise de resíduos\n",
    "\n",
    "Erro do modelo, comparação do previsto com o real\n",
    "\n",
    "* Calculo dos resíduos\n",
    "    * Função para produzir df real e previsto\n",
    "    * Ajuste dos nomes no dataframe\n",
    "    * Calcule os resíduos\n",
    "    * Exiba os resíduos\n",
    "* Distribuição dos resíduos\n",
    "    * Plote a distribuição em histograma dos resíduos\n",
    "    * Rode teste estatístico para verificar normalidade e p-value dos dados\n",
    "    * Calcule o resíduo do modelo ajustado e realize sua plotagem\n",
    "    * Rode o teste estatístico da normalidade e pvalue para o modelo ajustado\n",
    "* Homocedasticidade\n",
    "    * Plote o gráfico do resíduo pela previsão\n",
    " "
   ]
  },
  {
   "cell_type": "markdown",
   "id": "b0650c83-0419-499e-98f4-4b04d7c84f0c",
   "metadata": {},
   "source": [
    "## 9.1. Cálculo dos resíduos\n",
    "Realizado com os dados de treino"
   ]
  },
  {
   "cell_type": "code",
   "execution_count": 95,
   "id": "041601f9-3130-48db-9bc9-b2451159140d",
   "metadata": {},
   "outputs": [
    {
     "data": {
      "text/html": [
       "<div>\n",
       "<style scoped>\n",
       "    .dataframe tbody tr th:only-of-type {\n",
       "        vertical-align: middle;\n",
       "    }\n",
       "\n",
       "    .dataframe tbody tr th {\n",
       "        vertical-align: top;\n",
       "    }\n",
       "\n",
       "    .dataframe thead th {\n",
       "        text-align: right;\n",
       "    }\n",
       "</style>\n",
       "<table border=\"1\" class=\"dataframe\">\n",
       "  <thead>\n",
       "    <tr style=\"text-align: right;\">\n",
       "      <th></th>\n",
       "      <th>profitReal</th>\n",
       "      <th>profitPrevisto</th>\n",
       "      <th>Residuo</th>\n",
       "    </tr>\n",
       "  </thead>\n",
       "  <tbody>\n",
       "    <tr>\n",
       "      <th>0</th>\n",
       "      <td>105008.31</td>\n",
       "      <td>115244.039573</td>\n",
       "      <td>-10235.729573</td>\n",
       "    </tr>\n",
       "    <tr>\n",
       "      <th>1</th>\n",
       "      <td>81229.06</td>\n",
       "      <td>69446.146726</td>\n",
       "      <td>11782.913274</td>\n",
       "    </tr>\n",
       "    <tr>\n",
       "      <th>2</th>\n",
       "      <td>97483.56</td>\n",
       "      <td>98298.998430</td>\n",
       "      <td>-815.438430</td>\n",
       "    </tr>\n",
       "    <tr>\n",
       "      <th>3</th>\n",
       "      <td>110352.25</td>\n",
       "      <td>113231.200990</td>\n",
       "      <td>-2878.950990</td>\n",
       "    </tr>\n",
       "    <tr>\n",
       "      <th>4</th>\n",
       "      <td>166187.94</td>\n",
       "      <td>168374.289616</td>\n",
       "      <td>-2186.349616</td>\n",
       "    </tr>\n",
       "  </tbody>\n",
       "</table>\n",
       "</div>"
      ],
      "text/plain": [
       "   profitReal  profitPrevisto       Residuo\n",
       "0   105008.31   115244.039573 -10235.729573\n",
       "1    81229.06    69446.146726  11782.913274\n",
       "2    97483.56    98298.998430   -815.438430\n",
       "3   110352.25   113231.200990  -2878.950990\n",
       "4   166187.94   168374.289616  -2186.349616"
      ]
     },
     "execution_count": 95,
     "metadata": {},
     "output_type": "execute_result"
    }
   ],
   "source": [
    "prevY_treino = previsao(y=yTrain,\n",
    "                        fit=reg4fit.predict(xTrainRed),\n",
    "                        columns=['profitReal', 'profitPrevisto'],\n",
    "                        residuo=True)\n",
    "\n",
    "prevY_treino.head()"
   ]
  },
  {
   "cell_type": "code",
   "execution_count": 100,
   "id": "ae530b80-e175-4031-b573-b71862269ce9",
   "metadata": {},
   "outputs": [
    {
     "data": {
      "text/html": [
       "<div>\n",
       "<style scoped>\n",
       "    .dataframe tbody tr th:only-of-type {\n",
       "        vertical-align: middle;\n",
       "    }\n",
       "\n",
       "    .dataframe tbody tr th {\n",
       "        vertical-align: top;\n",
       "    }\n",
       "\n",
       "    .dataframe thead th {\n",
       "        text-align: right;\n",
       "    }\n",
       "</style>\n",
       "<table border=\"1\" class=\"dataframe\">\n",
       "  <thead>\n",
       "    <tr style=\"text-align: right;\">\n",
       "      <th></th>\n",
       "      <th>profitReal</th>\n",
       "      <th>profitPrevisto</th>\n",
       "      <th>Residuo</th>\n",
       "    </tr>\n",
       "  </thead>\n",
       "  <tbody>\n",
       "    <tr>\n",
       "      <th>0</th>\n",
       "      <td>103282.38</td>\n",
       "      <td>101173.929112</td>\n",
       "      <td>2108.450888</td>\n",
       "    </tr>\n",
       "    <tr>\n",
       "      <th>1</th>\n",
       "      <td>144259.40</td>\n",
       "      <td>133503.979045</td>\n",
       "      <td>10755.420955</td>\n",
       "    </tr>\n",
       "    <tr>\n",
       "      <th>2</th>\n",
       "      <td>146121.95</td>\n",
       "      <td>132672.287753</td>\n",
       "      <td>13449.662247</td>\n",
       "    </tr>\n",
       "    <tr>\n",
       "      <th>3</th>\n",
       "      <td>77798.83</td>\n",
       "      <td>72860.882041</td>\n",
       "      <td>4937.947959</td>\n",
       "    </tr>\n",
       "    <tr>\n",
       "      <th>4</th>\n",
       "      <td>191050.39</td>\n",
       "      <td>178540.806994</td>\n",
       "      <td>12509.583006</td>\n",
       "    </tr>\n",
       "  </tbody>\n",
       "</table>\n",
       "</div>"
      ],
      "text/plain": [
       "   profitReal  profitPrevisto       Residuo\n",
       "0   103282.38   101173.929112   2108.450888\n",
       "1   144259.40   133503.979045  10755.420955\n",
       "2   146121.95   132672.287753  13449.662247\n",
       "3    77798.83    72860.882041   4937.947959\n",
       "4   191050.39   178540.806994  12509.583006"
      ]
     },
     "execution_count": 100,
     "metadata": {},
     "output_type": "execute_result"
    }
   ],
   "source": [
    "previsao_y['Residuo'] = previsao_y['profitReal'] - previsao_y['profitPrevisto']\n",
    "previsao_y"
   ]
  },
  {
   "cell_type": "markdown",
   "id": "10a09983-0d41-45be-bad2-03bb3763b536",
   "metadata": {},
   "source": [
    "### (Extra) Cálculo dos resíduos adequados"
   ]
  },
  {
   "cell_type": "code",
   "execution_count": 154,
   "id": "dff45e35-0fc0-4200-88fc-aecb903317d5",
   "metadata": {},
   "outputs": [],
   "source": [
    "prevY_treino_adj = previsao(y=yTrain_adj,\n",
    "                        fit=reg4fit_adj.predict(xTrainRed_adj),\n",
    "                        columns=['profitReal', 'profitPrevisto'],\n",
    "                        residuo=True)\n",
    "\n",
    "previsao_y_adj['Residuo'] = previsao_y_adj['profitReal'] - previsao_y_adj['profitPrevisto']"
   ]
  },
  {
   "cell_type": "markdown",
   "id": "aa7e2591-aeca-44df-8005-0e1cb20ddd9f",
   "metadata": {},
   "source": [
    "## 9.2. Distribuição dos resíduos\n",
    "### 9.2.1. Treinamento"
   ]
  },
  {
   "cell_type": "code",
   "execution_count": 85,
   "id": "44c83f08-9179-4a52-bcee-050ea99190c6",
   "metadata": {},
   "outputs": [
    {
     "data": {
      "image/png": "[encoded data removed]",
      "text/plain": [
       "<Figure size 720x360 with 1 Axes>"
      ]
     },
     "metadata": {
      "needs_background": "light"
     },
     "output_type": "display_data"
    }
   ],
   "source": [
    "histplot(data=prevY_treino,\n",
    "         x='Residuo', xlabel='Resíduo', ylabel='Quantidade',\n",
    "         title='Avaliação da normalidade dos resíduos de treinamento')"
   ]
  },
  {
   "cell_type": "markdown",
   "id": "f35f576d-82d4-48ae-8487-28a6131c975c",
   "metadata": {},
   "source": [
    "A falta de normalidade nos resíduos de treinamento não são tão preocupantes, pois a maioria se concentra em 0, existe uma certa queda suave ao afastar do 0."
   ]
  },
  {
   "cell_type": "code",
   "execution_count": 87,
   "id": "3a15d683-c6ce-4e8b-a1b0-385009ab3a6c",
   "metadata": {},
   "outputs": [
    {
     "name": "stdout",
     "output_type": "stream",
     "text": [
      "kStat: 0.511 \n",
      "Pvalue: 0.000\n"
     ]
    }
   ],
   "source": [
    "kStat, kPvalue = sp.stats.kstest(prevY_treino['Residuo'], 'norm')\n",
    "\n",
    "print(f'kStat: {kStat:.3f} \\n'\n",
    "      f'Pvalue: {kPvalue:.3f}')"
   ]
  },
  {
   "cell_type": "markdown",
   "id": "19aa14d9-ca64-4f6f-bb69-6f72217c2b96",
   "metadata": {},
   "source": [
    "Mas a normalidade não pode ser atendida. Podemos tentar ajustar o modelo para obter resultados mais normais."
   ]
  },
  {
   "cell_type": "markdown",
   "id": "25f3b052-f83c-4733-8b03-83ae4eaf98aa",
   "metadata": {},
   "source": [
    "#### (Extra) Treinamento adequado"
   ]
  },
  {
   "cell_type": "code",
   "execution_count": 155,
   "id": "0a2c88eb-1750-4b5b-a87f-5546c9768500",
   "metadata": {},
   "outputs": [
    {
     "data": {
      "image/png": "[encoded data removed]",
      "text/plain": [
       "<Figure size 720x360 with 1 Axes>"
      ]
     },
     "metadata": {
      "needs_background": "light"
     },
     "output_type": "display_data"
    }
   ],
   "source": [
    "histplot(data=prevY_treino_adj,\n",
    "         x='Residuo', xlabel='Resíduo Adequado', ylabel='Quantidade',\n",
    "         title='Avaliação da normalidade dos resíduos de treinamento adequados')"
   ]
  },
  {
   "cell_type": "code",
   "execution_count": 156,
   "id": "5d2d8236-78bf-4484-8f6c-3c65f3f92abc",
   "metadata": {},
   "outputs": [
    {
     "name": "stdout",
     "output_type": "stream",
     "text": [
      "kStat: 0.523 \n",
      "Pvalue: 0.000\n"
     ]
    }
   ],
   "source": [
    "kStat, kPvalue = sp.stats.kstest(prevY_treino_adj['Residuo'], 'norm')\n",
    "\n",
    "print(f'kStat: {kStat:.3f} \\n'\n",
    "      f'Pvalue: {kPvalue:.3f}')"
   ]
  },
  {
   "cell_type": "markdown",
   "id": "4cf5ea48-2831-40d9-8ad7-2d2943ebdc2d",
   "metadata": {},
   "source": [
    "### 9.2.2. Treinamento com log da resposta"
   ]
  },
  {
   "cell_type": "code",
   "execution_count": 89,
   "id": "2f35eb5b-3eed-46f4-bf5c-6eb16554145b",
   "metadata": {},
   "outputs": [],
   "source": [
    "reg5fit = fit_model(y=np.log(yTrain),\n",
    "                    x=xTrainRed)"
   ]
  },
  {
   "cell_type": "code",
   "execution_count": 103,
   "id": "153fbbc4-e319-4924-83fa-ac03b417c324",
   "metadata": {},
   "outputs": [],
   "source": [
    "prevLogY_treino = previsao(y=np.log(yTrain),\n",
    "                           fit=reg5fit.predict(xTrainRed),\n",
    "                           columns=['profitLogReal', 'profitLogPrevisto'],\n",
    "                           residuo=True)"
   ]
  },
  {
   "cell_type": "code",
   "execution_count": 101,
   "id": "c7a63ad6-7b89-404b-8057-18350febd111",
   "metadata": {},
   "outputs": [
    {
     "data": {
      "image/png": "[encoded data removed]",
      "text/plain": [
       "<Figure size 720x360 with 1 Axes>"
      ]
     },
     "metadata": {
      "needs_background": "light"
     },
     "output_type": "display_data"
    }
   ],
   "source": [
    "histplot(data=prevLogY_treino,\n",
    "         x='Residuo', xlabel='Resíduo', ylabel='Quantidade',\n",
    "         title='Avaliação da normalidade dos resíduos do logaritmo do treinamento')"
   ]
  },
  {
   "cell_type": "code",
   "execution_count": 102,
   "id": "6aa9a78c-1b7b-4603-bcd3-0d378202e11d",
   "metadata": {},
   "outputs": [
    {
     "name": "stdout",
     "output_type": "stream",
     "text": [
      "kStat: 0.410 \n",
      "Pvalue: 0.000\n"
     ]
    }
   ],
   "source": [
    "kStat, kPvalue = sp.stats.kstest(prevLogY_treino['Residuo'], 'norm')\n",
    "\n",
    "print(f'kStat: {kStat:.3f} \\n'\n",
    "      f'Pvalue: {kPvalue:.3f}')"
   ]
  },
  {
   "cell_type": "markdown",
   "id": "1320516d-70d0-4e25-a6c4-76a1e6783d92",
   "metadata": {},
   "source": [
    "Não vale a pena utilizar o log da resposta"
   ]
  },
  {
   "cell_type": "markdown",
   "id": "48e5a8e7-9d84-4528-ad3a-beaf1047f922",
   "metadata": {},
   "source": [
    "### 9.2.3. Teste"
   ]
  },
  {
   "cell_type": "code",
   "execution_count": null,
   "id": "7ae30bbf-a46f-4c8d-a955-fc77ea17c06b",
   "metadata": {},
   "outputs": [
    {
     "data": {
      "image/png": "[encoded data removed]",
      "text/plain": [
       "<Figure size 720x360 with 1 Axes>"
      ]
     },
     "metadata": {
      "needs_background": "light"
     },
     "output_type": "display_data"
    }
   ],
   "source": [
    "histplot(data=previsao_y,\n",
    "         x='Residuo', xlabel='Resíduo', ylabel='Quantidade',\n",
    "         title='Avaliação da normalidade dos resíduos de teste')"
   ]
  },
  {
   "cell_type": "code",
   "execution_count": 88,
   "id": "f3ba4297-f5fe-46b2-b875-e46a4d83a9ec",
   "metadata": {},
   "outputs": [
    {
     "name": "stdout",
     "output_type": "stream",
     "text": [
      "kStat: 1.000 \n",
      "Pvalue: 0.000\n"
     ]
    }
   ],
   "source": [
    "kStat, kPvalue = sp.stats.kstest(previsao_y['Residuo'], 'norm')\n",
    "\n",
    "print(f'kStat: {kStat:.3f} \\n'\n",
    "      f'Pvalue: {kPvalue:.3f}')"
   ]
  },
  {
   "cell_type": "markdown",
   "id": "a7c01159-fd84-4d4d-a1eb-b34f865a8ca8",
   "metadata": {},
   "source": [
    "#### (Extra) Teste adequado"
   ]
  },
  {
   "cell_type": "code",
   "execution_count": 157,
   "id": "4e98fa57-62dc-482d-99e0-20fefc83350f",
   "metadata": {},
   "outputs": [
    {
     "data": {
      "image/png": "[encoded data removed]",
      "text/plain": [
       "<Figure size 720x360 with 1 Axes>"
      ]
     },
     "metadata": {
      "needs_background": "light"
     },
     "output_type": "display_data"
    }
   ],
   "source": [
    "histplot(data=previsao_y_adj,\n",
    "         x='Residuo', xlabel='Resíduo Adequado', ylabel='Quantidade',\n",
    "         title='Avaliação da normalidade dos resíduos de teste adequado')"
   ]
  },
  {
   "cell_type": "code",
   "execution_count": 158,
   "id": "8e654ee8-ed8a-4ac2-b158-5e7716198a4d",
   "metadata": {},
   "outputs": [
    {
     "name": "stdout",
     "output_type": "stream",
     "text": [
      "kStat: 1.000 \n",
      "Pvalue: 0.000\n"
     ]
    }
   ],
   "source": [
    "kStat, kPvalue = sp.stats.kstest(previsao_y_adj['Residuo'], 'norm')\n",
    "\n",
    "print(f'kStat: {kStat:.3f} \\n'\n",
    "      f'Pvalue: {kPvalue:.3f}')"
   ]
  },
  {
   "cell_type": "markdown",
   "id": "ecf24f88-6136-4419-9585-19a2f11fcc1f",
   "metadata": {},
   "source": [
    "## 9.3. Homocedasticidade"
   ]
  },
  {
   "cell_type": "code",
   "execution_count": 111,
   "id": "88f9f6e1-8730-4f69-aca0-ba1a35924e23",
   "metadata": {},
   "outputs": [
    {
     "data": {
      "image/png": "[encoded data removed]",
      "text/plain": [
       "<Figure size 720x360 with 1 Axes>"
      ]
     },
     "metadata": {
      "needs_background": "light"
     },
     "output_type": "display_data"
    }
   ],
   "source": [
    "plt.figure(figsize=(10, 5))\n",
    "\n",
    "sns.scatterplot(data=prevY_treino,\n",
    "                x='profitPrevisto',\n",
    "                y='Residuo')\n",
    "\n",
    "plt.title('Avaliação da homocedasticidade da previsão de treino')\n",
    "plt.xlabel('Profit Previsto')\n",
    "plt.ylabel('Resíduo')\n",
    "\n",
    "plt.show()"
   ]
  },
  {
   "cell_type": "markdown",
   "id": "26f4a4a1-0ef3-4a27-892a-a1184c38d4be",
   "metadata": {},
   "source": [
    "## (Extra) Homocedasticidade do modelo adequado"
   ]
  },
  {
   "cell_type": "code",
   "execution_count": 159,
   "id": "38fac1de-ea3b-4400-a2e0-d583ab42bf00",
   "metadata": {},
   "outputs": [
    {
     "data": {
      "image/png": "[encoded data removed]",
      "text/plain": [
       "<Figure size 720x360 with 1 Axes>"
      ]
     },
     "metadata": {
      "needs_background": "light"
     },
     "output_type": "display_data"
    }
   ],
   "source": [
    "plt.figure(figsize=(10, 5))\n",
    "\n",
    "sns.scatterplot(data=prevY_treino_adj,\n",
    "                x='profitPrevisto',\n",
    "                y='Residuo')\n",
    "\n",
    "plt.title('Avaliação da homocedasticidade da previsão de treino adequada')\n",
    "plt.xlabel('Profit Previsto Adequado')\n",
    "plt.ylabel('Resíduo Adequado')\n",
    "\n",
    "plt.show()"
   ]
  },
  {
   "cell_type": "code",
   "execution_count": null,
   "id": "adf23c2e-c61b-40a2-874c-b73eee95c25c",
   "metadata": {},
   "outputs": [],
   "source": []
  }
 ],
 "metadata": {
  "kernelspec": {
   "display_name": "Python 3 (ipykernel)",
   "language": "python",
   "name": "python3"
  },
  "language_info": {
   "codemirror_mode": {
    "name": "ipython",
    "version": 3
   },
   "file_extension": ".py",
   "mimetype": "text/x-python",
   "name": "python",
   "nbconvert_exporter": "python",
   "pygments_lexer": "ipython3",
   "version": "3.9.7"
  },
  "toc-autonumbering": false,
  "toc-showcode": false,
  "toc-showmarkdowntxt": false,
  "widgets": {
   "application/vnd.jupyter.widget-state+json": {
    "state": {},
    "version_major": 2,
    "version_minor": 0
   }
  }
 },
 "nbformat": 4,
 "nbformat_minor": 5
}
