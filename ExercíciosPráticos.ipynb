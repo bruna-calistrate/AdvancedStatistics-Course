{
 "cells": [
  {
   "cell_type": "markdown",
   "id": "92fa8c1a-f007-414c-91c5-9af73ae301a4",
   "metadata": {},
   "source": [
    "# Contextualização\n",
    "Robert é um Investidor Anjo e pretende fechar negócio com algumas startups dos Estados Unidos. Ele pretende fazer uma pesquisa entre 50 startups selecionadas e, para isso, irá precisar de uma análise estatística dessas empresas para tomar sua decisão.\n",
    "\n",
    "Você foi contratado por Robert como Consultor de Ciência de Dados para realizar essa análise entre as 50 startups. Através de seus conhecimentos de estatística, faça o tratamento de dados necessário da base dessas empresas e monte um modelo de regressão que auxilie na tomada de decisão do investidor.\n",
    "\n",
    "**Dataset**: https://www.kaggle.com/datasets/karthickveerakumar/startup-logistic-regression"
   ]
  },
  {
   "cell_type": "markdown",
   "id": "9b88e6e0-e050-4920-acf2-6fe9367239cc",
   "metadata": {},
   "source": [
    "# Carregamento de bibliotecas e Funções"
   ]
  },
  {
   "cell_type": "code",
   "execution_count": 2,
   "id": "aadc2b73-be37-4995-b127-cd32694e4ae0",
   "metadata": {},
   "outputs": [],
   "source": [
    "import numpy as np\n",
    "import pandas as pd\n",
    "import matplotlib.pyplot as plt\n",
    "import seaborn as sns\n",
    "import scipy as sp\n",
    "import statsmodels.api as sm\n",
    "import patsy as pt\n",
    "from sklearn import metrics\n",
    "from sklearn.model_selection import train_test_split\n",
    "from statsmodels.stats.outliers_influence import variance_inflation_factor\n",
    "from sklearn.linear_model import Ridge"
   ]
  },
  {
   "cell_type": "code",
   "execution_count": 7,
   "id": "eba9e9cb-59e8-4c17-915d-ccace8e4d6c2",
   "metadata": {},
   "outputs": [],
   "source": [
    "def desc_null(df):\n",
    "  des = df.describe(include='all', \n",
    "                    datetime_is_numeric=True).T\n",
    "  des['nullCount'] = df.shape[0] - des['count']\n",
    "  des['null%'] = (des['nullCount'] / df.shape[0]) * 100\n",
    "  return des"
   ]
  },
  {
   "cell_type": "code",
   "execution_count": 63,
   "id": "bdc76fde-4fb3-423f-94a1-2f5257fca708",
   "metadata": {},
   "outputs": [],
   "source": [
    "def histplot(data, title, xlabel, ylabel, x=None, y=None, bins=10):\n",
    "    import matplotlib.pyplot as plt\n",
    "    import seaborn as sns\n",
    "    \n",
    "    plt.figure(figsize=(10,5))\n",
    "    \n",
    "    sns.histplot(data=data, x=x, y=y, bins=bins)\n",
    "    \n",
    "    plt.title(title)\n",
    "    plt.xlabel(xlabel)\n",
    "    plt.ylabel(ylabel)\n",
    "    \n",
    "    return plt.show()"
   ]
  },
  {
   "cell_type": "code",
   "execution_count": 39,
   "id": "cc4510b9-d006-4b91-9305-1bc29819f13a",
   "metadata": {},
   "outputs": [],
   "source": [
    "def corrplot(data):\n",
    "    import matplotlib.pyplot as plt\n",
    "    import seaborn as sns\n",
    "    \n",
    "    plt.figure(figsize= (10, 7))\n",
    "\n",
    "    sns.heatmap(data = data.corr(), \n",
    "                cmap = sns.diverging_palette(230, 20, as_cmap=True), \n",
    "                vmin = -1, \n",
    "                vmax = 1,\n",
    "                annot = True)\n",
    "\n",
    "    return plt.show()"
   ]
  },
  {
   "cell_type": "markdown",
   "id": "1fc52b87-6f39-4fe1-8f3c-8233af26d043",
   "metadata": {},
   "source": [
    "# Carregamento dos dados\n",
    "\n",
    "* **R&D Spend**: Gastos com pesquisa e desenvolvimento pela startup (USD)\n",
    "    * Range: 0,00 - 165.349,20\n",
    "* **Administration**: Gastos administrativos pela startup (USD)\n",
    "    * Range: 51.283,14 - 182.645,56\n",
    "* **Marketing Spend**: Gastos com marketing pela startup (USD)\n",
    "    * Range: 0,00 - 471.784,10\n",
    "* **State**: Estado de origem da startup\n",
    "    * 3 valores únicos: New York (17), California (17), Florida (16)\n",
    "* **Profit**: Lucros da statup\n",
    "    * Range: 14.681,40 - 192.261,83"
   ]
  },
  {
   "cell_type": "code",
   "execution_count": 43,
   "id": "cb7b24d5-7da1-490b-96ba-ad8ca96c03f6",
   "metadata": {},
   "outputs": [],
   "source": [
    "df = pd.read_csv('https://raw.githubusercontent.com/bruna-calistrate/'\n",
    "                 'AdvancedStatistics-Course/main/data/50_Startups.csv')"
   ]
  },
  {
   "cell_type": "code",
   "execution_count": 44,
   "id": "f99c932b-220a-45ef-920f-2410ad1f5b2a",
   "metadata": {},
   "outputs": [
    {
     "data": {
      "text/html": [
       "<div>\n",
       "<style scoped>\n",
       "    .dataframe tbody tr th:only-of-type {\n",
       "        vertical-align: middle;\n",
       "    }\n",
       "\n",
       "    .dataframe tbody tr th {\n",
       "        vertical-align: top;\n",
       "    }\n",
       "\n",
       "    .dataframe thead th {\n",
       "        text-align: right;\n",
       "    }\n",
       "</style>\n",
       "<table border=\"1\" class=\"dataframe\">\n",
       "  <thead>\n",
       "    <tr style=\"text-align: right;\">\n",
       "      <th></th>\n",
       "      <th>R&amp;D Spend</th>\n",
       "      <th>Administration</th>\n",
       "      <th>Marketing Spend</th>\n",
       "      <th>State</th>\n",
       "      <th>Profit</th>\n",
       "    </tr>\n",
       "  </thead>\n",
       "  <tbody>\n",
       "    <tr>\n",
       "      <th>0</th>\n",
       "      <td>165349.20</td>\n",
       "      <td>136897.80</td>\n",
       "      <td>471784.10</td>\n",
       "      <td>New York</td>\n",
       "      <td>192261.83</td>\n",
       "    </tr>\n",
       "    <tr>\n",
       "      <th>1</th>\n",
       "      <td>162597.70</td>\n",
       "      <td>151377.59</td>\n",
       "      <td>443898.53</td>\n",
       "      <td>California</td>\n",
       "      <td>191792.06</td>\n",
       "    </tr>\n",
       "    <tr>\n",
       "      <th>2</th>\n",
       "      <td>153441.51</td>\n",
       "      <td>101145.55</td>\n",
       "      <td>407934.54</td>\n",
       "      <td>Florida</td>\n",
       "      <td>191050.39</td>\n",
       "    </tr>\n",
       "    <tr>\n",
       "      <th>3</th>\n",
       "      <td>144372.41</td>\n",
       "      <td>118671.85</td>\n",
       "      <td>383199.62</td>\n",
       "      <td>New York</td>\n",
       "      <td>182901.99</td>\n",
       "    </tr>\n",
       "    <tr>\n",
       "      <th>4</th>\n",
       "      <td>142107.34</td>\n",
       "      <td>91391.77</td>\n",
       "      <td>366168.42</td>\n",
       "      <td>Florida</td>\n",
       "      <td>166187.94</td>\n",
       "    </tr>\n",
       "  </tbody>\n",
       "</table>\n",
       "</div>"
      ],
      "text/plain": [
       "   R&D Spend  Administration  Marketing Spend       State     Profit\n",
       "0  165349.20       136897.80        471784.10    New York  192261.83\n",
       "1  162597.70       151377.59        443898.53  California  191792.06\n",
       "2  153441.51       101145.55        407934.54     Florida  191050.39\n",
       "3  144372.41       118671.85        383199.62    New York  182901.99\n",
       "4  142107.34        91391.77        366168.42     Florida  166187.94"
      ]
     },
     "execution_count": 44,
     "metadata": {},
     "output_type": "execute_result"
    }
   ],
   "source": [
    "df.head()"
   ]
  },
  {
   "cell_type": "code",
   "execution_count": 6,
   "id": "768a550b-bef4-4e2a-97aa-ce5141558b5a",
   "metadata": {},
   "outputs": [
    {
     "name": "stdout",
     "output_type": "stream",
     "text": [
      "<class 'pandas.core.frame.DataFrame'>\n",
      "RangeIndex: 50 entries, 0 to 49\n",
      "Data columns (total 5 columns):\n",
      " #   Column           Non-Null Count  Dtype  \n",
      "---  ------           --------------  -----  \n",
      " 0   R&D Spend        50 non-null     float64\n",
      " 1   Administration   50 non-null     float64\n",
      " 2   Marketing Spend  50 non-null     float64\n",
      " 3   State            50 non-null     object \n",
      " 4   Profit           50 non-null     float64\n",
      "dtypes: float64(4), object(1)\n",
      "memory usage: 2.1+ KB\n"
     ]
    }
   ],
   "source": [
    "df.info()"
   ]
  },
  {
   "cell_type": "code",
   "execution_count": 11,
   "id": "f56e9f20-6e89-4235-be8f-faceabc864ba",
   "metadata": {},
   "outputs": [
    {
     "data": {
      "text/html": [
       "<div>\n",
       "<style scoped>\n",
       "    .dataframe tbody tr th:only-of-type {\n",
       "        vertical-align: middle;\n",
       "    }\n",
       "\n",
       "    .dataframe tbody tr th {\n",
       "        vertical-align: top;\n",
       "    }\n",
       "\n",
       "    .dataframe thead th {\n",
       "        text-align: right;\n",
       "    }\n",
       "</style>\n",
       "<table border=\"1\" class=\"dataframe\">\n",
       "  <thead>\n",
       "    <tr style=\"text-align: right;\">\n",
       "      <th></th>\n",
       "      <th>count</th>\n",
       "      <th>unique</th>\n",
       "      <th>top</th>\n",
       "      <th>freq</th>\n",
       "      <th>mean</th>\n",
       "      <th>std</th>\n",
       "      <th>min</th>\n",
       "      <th>25%</th>\n",
       "      <th>50%</th>\n",
       "      <th>75%</th>\n",
       "      <th>max</th>\n",
       "      <th>nullCount</th>\n",
       "      <th>null%</th>\n",
       "    </tr>\n",
       "  </thead>\n",
       "  <tbody>\n",
       "    <tr>\n",
       "      <th>R&amp;D Spend</th>\n",
       "      <td>50.0</td>\n",
       "      <td>NaN</td>\n",
       "      <td>NaN</td>\n",
       "      <td>NaN</td>\n",
       "      <td>73721.6156</td>\n",
       "      <td>45902.256482</td>\n",
       "      <td>0.0</td>\n",
       "      <td>39936.37</td>\n",
       "      <td>73051.08</td>\n",
       "      <td>101602.8</td>\n",
       "      <td>165349.2</td>\n",
       "      <td>0.0</td>\n",
       "      <td>0.0</td>\n",
       "    </tr>\n",
       "    <tr>\n",
       "      <th>Administration</th>\n",
       "      <td>50.0</td>\n",
       "      <td>NaN</td>\n",
       "      <td>NaN</td>\n",
       "      <td>NaN</td>\n",
       "      <td>121344.6396</td>\n",
       "      <td>28017.802755</td>\n",
       "      <td>51283.14</td>\n",
       "      <td>103730.875</td>\n",
       "      <td>122699.795</td>\n",
       "      <td>144842.18</td>\n",
       "      <td>182645.56</td>\n",
       "      <td>0.0</td>\n",
       "      <td>0.0</td>\n",
       "    </tr>\n",
       "    <tr>\n",
       "      <th>Marketing Spend</th>\n",
       "      <td>50.0</td>\n",
       "      <td>NaN</td>\n",
       "      <td>NaN</td>\n",
       "      <td>NaN</td>\n",
       "      <td>211025.0978</td>\n",
       "      <td>122290.310726</td>\n",
       "      <td>0.0</td>\n",
       "      <td>129300.1325</td>\n",
       "      <td>212716.24</td>\n",
       "      <td>299469.085</td>\n",
       "      <td>471784.1</td>\n",
       "      <td>0.0</td>\n",
       "      <td>0.0</td>\n",
       "    </tr>\n",
       "    <tr>\n",
       "      <th>State</th>\n",
       "      <td>50</td>\n",
       "      <td>3</td>\n",
       "      <td>New York</td>\n",
       "      <td>17</td>\n",
       "      <td>NaN</td>\n",
       "      <td>NaN</td>\n",
       "      <td>NaN</td>\n",
       "      <td>NaN</td>\n",
       "      <td>NaN</td>\n",
       "      <td>NaN</td>\n",
       "      <td>NaN</td>\n",
       "      <td>0</td>\n",
       "      <td>0.0</td>\n",
       "    </tr>\n",
       "    <tr>\n",
       "      <th>Profit</th>\n",
       "      <td>50.0</td>\n",
       "      <td>NaN</td>\n",
       "      <td>NaN</td>\n",
       "      <td>NaN</td>\n",
       "      <td>112012.6392</td>\n",
       "      <td>40306.180338</td>\n",
       "      <td>14681.4</td>\n",
       "      <td>90138.9025</td>\n",
       "      <td>107978.19</td>\n",
       "      <td>139765.9775</td>\n",
       "      <td>192261.83</td>\n",
       "      <td>0.0</td>\n",
       "      <td>0.0</td>\n",
       "    </tr>\n",
       "  </tbody>\n",
       "</table>\n",
       "</div>"
      ],
      "text/plain": [
       "                count unique       top freq         mean            std  \\\n",
       "R&D Spend        50.0    NaN       NaN  NaN   73721.6156   45902.256482   \n",
       "Administration   50.0    NaN       NaN  NaN  121344.6396   28017.802755   \n",
       "Marketing Spend  50.0    NaN       NaN  NaN  211025.0978  122290.310726   \n",
       "State              50      3  New York   17          NaN            NaN   \n",
       "Profit           50.0    NaN       NaN  NaN  112012.6392   40306.180338   \n",
       "\n",
       "                      min          25%         50%          75%        max  \\\n",
       "R&D Spend             0.0     39936.37    73051.08     101602.8   165349.2   \n",
       "Administration   51283.14   103730.875  122699.795    144842.18  182645.56   \n",
       "Marketing Spend       0.0  129300.1325   212716.24   299469.085   471784.1   \n",
       "State                 NaN          NaN         NaN          NaN        NaN   \n",
       "Profit            14681.4   90138.9025   107978.19  139765.9775  192261.83   \n",
       "\n",
       "                nullCount null%  \n",
       "R&D Spend             0.0   0.0  \n",
       "Administration        0.0   0.0  \n",
       "Marketing Spend       0.0   0.0  \n",
       "State                   0   0.0  \n",
       "Profit                0.0   0.0  "
      ]
     },
     "execution_count": 11,
     "metadata": {},
     "output_type": "execute_result"
    }
   ],
   "source": [
    "desc_null(df)"
   ]
  },
  {
   "cell_type": "code",
   "execution_count": 13,
   "id": "f45ff73a-5408-4672-aa53-bb8bfaa55d35",
   "metadata": {},
   "outputs": [
    {
     "data": {
      "text/plain": [
       "New York      17\n",
       "California    17\n",
       "Florida       16\n",
       "Name: State, dtype: int64"
      ]
     },
     "execution_count": 13,
     "metadata": {},
     "output_type": "execute_result"
    }
   ],
   "source": [
    "df['State'].value_counts()"
   ]
  },
  {
   "cell_type": "markdown",
   "id": "b0c4f574-a2be-492e-97c2-8874bdc1d723",
   "metadata": {},
   "source": [
    "# Análise Exploratória dos dados\n",
    "\n",
    "Traga os dados estatísticos descritivos apresentados na base para cada propriedade.\n",
    "\n",
    "* Plote histogramas para analisar a distribuição em cada uma das propriedades. \n",
    "    * Plote gráficos de barras que demonstrem a distribuição dos estados. \n",
    "    * Plote também, gráficos de correlação para cada uma das propriedades.\n",
    "* Crie um gráfico box-plot que traga o lucro das startups por estado."
   ]
  },
  {
   "cell_type": "markdown",
   "id": "4ad157c5-37ea-4915-894a-0cc86a93d713",
   "metadata": {},
   "source": [
    "## Distribuição \n",
    "### R&D Spend"
   ]
  },
  {
   "cell_type": "code",
   "execution_count": 64,
   "id": "c0e53f30-1624-4bed-b9d6-c9ccf2f65df5",
   "metadata": {},
   "outputs": [
    {
     "data": {
      "image/png": "[encoded data removed]",
      "text/plain": [
       "<Figure size 720x360 with 1 Axes>"
      ]
     },
     "metadata": {
      "needs_background": "light"
     },
     "output_type": "display_data"
    }
   ],
   "source": [
    "histplot(data=df, \n",
    "         x='R&D Spend', \n",
    "         title='Gastos com Pesquisa e Desenvolvimento', \n",
    "         xlabel='USD',\n",
    "         ylabel='Frequência')"
   ]
  },
  {
   "cell_type": "markdown",
   "id": "4def9458-14e9-4b32-a7bf-cc358ee62479",
   "metadata": {},
   "source": [
    "### Administration"
   ]
  },
  {
   "cell_type": "code",
   "execution_count": 65,
   "id": "b7ed4f3a-3321-4645-b513-4a18c161f109",
   "metadata": {},
   "outputs": [
    {
     "data": {
      "image/png": "[encoded data removed]",
      "text/plain": [
       "<Figure size 720x360 with 1 Axes>"
      ]
     },
     "metadata": {
      "needs_background": "light"
     },
     "output_type": "display_data"
    }
   ],
   "source": [
    "histplot(data=df, \n",
    "         x='Administration', \n",
    "         title='Gastos Administrativos', \n",
    "         xlabel='USD',\n",
    "         ylabel='Frequência')"
   ]
  },
  {
   "cell_type": "markdown",
   "id": "13124ff5-26cf-4879-913b-d14c376e48ee",
   "metadata": {},
   "source": [
    "### Marketing Spend"
   ]
  },
  {
   "cell_type": "code",
   "execution_count": 66,
   "id": "ea806535-7694-401c-b61b-199062b9149c",
   "metadata": {},
   "outputs": [
    {
     "data": {
      "image/png": "[encoded data removed]",
      "text/plain": [
       "<Figure size 720x360 with 1 Axes>"
      ]
     },
     "metadata": {
      "needs_background": "light"
     },
     "output_type": "display_data"
    }
   ],
   "source": [
    "histplot(data=df, \n",
    "         x='Marketing Spend', \n",
    "         title='Gastos com Marketing', \n",
    "         xlabel='USD',\n",
    "         ylabel='Frequência')"
   ]
  },
  {
   "cell_type": "markdown",
   "id": "38b99637-6006-4cfb-ae25-b4784f408ba5",
   "metadata": {},
   "source": [
    "### Profit"
   ]
  },
  {
   "cell_type": "code",
   "execution_count": 67,
   "id": "f0a9b8d6-33da-4c88-94f7-9ecf53ac01d2",
   "metadata": {},
   "outputs": [
    {
     "data": {
      "image/png": "[encoded data removed]",
      "text/plain": [
       "<Figure size 720x360 with 1 Axes>"
      ]
     },
     "metadata": {
      "needs_background": "light"
     },
     "output_type": "display_data"
    }
   ],
   "source": [
    "histplot(data=df, \n",
    "         x='Profit', \n",
    "         title='Lucro das statups', \n",
    "         xlabel='USD',\n",
    "         ylabel='Frequência')"
   ]
  },
  {
   "cell_type": "markdown",
   "id": "0c2f5c6a-8ce3-4520-93c2-21f87677f028",
   "metadata": {},
   "source": [
    "### State"
   ]
  },
  {
   "cell_type": "code",
   "execution_count": 68,
   "id": "4d8ba0eb-1ad0-4113-ad4b-fc1254a9d33c",
   "metadata": {},
   "outputs": [
    {
     "data": {
      "image/png": "[encoded data removed]",
      "text/plain": [
       "<Figure size 720x360 with 1 Axes>"
      ]
     },
     "metadata": {
      "needs_background": "light"
     },
     "output_type": "display_data"
    }
   ],
   "source": [
    "histplot(data=df, \n",
    "         y='State', bins=3,\n",
    "         title='Distribuição dos estados de origem', \n",
    "         xlabel='Frequência',\n",
    "         ylabel='Estados')"
   ]
  },
  {
   "cell_type": "markdown",
   "id": "5ef16cae-ffb4-4485-8321-d084ed797cb9",
   "metadata": {},
   "source": [
    "## Correlação\n",
    "\n",
    "Existe uma correlação positiva muito alta entre:\n",
    "* **R&D Spend** e **Profit** de 0,97\n",
    "* **Marketing Spend** e **Profit** de 0,75"
   ]
  },
  {
   "cell_type": "code",
   "execution_count": 40,
   "id": "5e94eade-3045-4bc0-9ebc-c537f0bacdd9",
   "metadata": {},
   "outputs": [
    {
     "data": {
      "image/png": "[encoded data removed]",
      "text/plain": [
       "<Figure size 720x504 with 2 Axes>"
      ]
     },
     "metadata": {
      "needs_background": "light"
     },
     "output_type": "display_data"
    }
   ],
   "source": [
    "corrplot(df)"
   ]
  },
  {
   "cell_type": "markdown",
   "id": "335a4a89-fbe2-40f9-bbb7-6719a952475f",
   "metadata": {},
   "source": [
    "## Box-plot"
   ]
  },
  {
   "cell_type": "code",
   "execution_count": 31,
   "id": "2a1fefc3-fe31-4043-9da0-2debc873a77e",
   "metadata": {},
   "outputs": [
    {
     "data": {
      "image/png": "[encoded data removed]",
      "text/plain": [
       "<Figure size 720x360 with 1 Axes>"
      ]
     },
     "metadata": {
      "needs_background": "light"
     },
     "output_type": "display_data"
    }
   ],
   "source": [
    "plt.figure(figsize=(10,5))\n",
    "\n",
    "sns.boxplot(data=df,\n",
    "            x='Profit',\n",
    "            y='State',\n",
    "            palette='Paired')\n",
    "\n",
    "plt.title('Distribuição do lucro por estado')\n",
    "plt.xlabel('Lucro (USD)')\n",
    "plt.ylabel('Estados')\n",
    "plt.show()"
   ]
  },
  {
   "cell_type": "markdown",
   "id": "35238c5f-20f7-4d6d-9a42-21356da52b5f",
   "metadata": {},
   "source": [
    "# Pré-Processamento de Dados\n",
    "\n",
    "* Separar as variáveis em contínuas, categóricas e resposta;\n",
    "* Realize o pré-tratamento das variáveis;\n",
    "* Aplique o escalonamento das variáveis contínuas, dummyficação das variáveis categóricas e avalia se a resposta precisa de tratamento"
   ]
  },
  {
   "cell_type": "code",
   "execution_count": 54,
   "id": "a26b96ed-4e9e-46d2-af60-bb6a31f01f26",
   "metadata": {},
   "outputs": [],
   "source": [
    "resp = ['Profit']\n",
    "num = list(df.select_dtypes(include=[np.number]).drop(columns=resp))\n",
    "cat = list(df.select_dtypes(exclude=[np.number]))"
   ]
  },
  {
   "cell_type": "markdown",
   "id": "f906bbdf-9788-4572-a542-76e07e111bc6",
   "metadata": {},
   "source": [
    "## One-Hot Encoding"
   ]
  },
  {
   "cell_type": "code",
   "execution_count": 56,
   "id": "dc17a52c-e4f7-42be-8ee1-9bdc3d8b48d7",
   "metadata": {},
   "outputs": [
    {
     "data": {
      "text/html": [
       "<div>\n",
       "<style scoped>\n",
       "    .dataframe tbody tr th:only-of-type {\n",
       "        vertical-align: middle;\n",
       "    }\n",
       "\n",
       "    .dataframe tbody tr th {\n",
       "        vertical-align: top;\n",
       "    }\n",
       "\n",
       "    .dataframe thead th {\n",
       "        text-align: right;\n",
       "    }\n",
       "</style>\n",
       "<table border=\"1\" class=\"dataframe\">\n",
       "  <thead>\n",
       "    <tr style=\"text-align: right;\">\n",
       "      <th></th>\n",
       "      <th>State_Florida</th>\n",
       "      <th>State_New York</th>\n",
       "    </tr>\n",
       "  </thead>\n",
       "  <tbody>\n",
       "    <tr>\n",
       "      <th>0</th>\n",
       "      <td>0</td>\n",
       "      <td>1</td>\n",
       "    </tr>\n",
       "    <tr>\n",
       "      <th>1</th>\n",
       "      <td>0</td>\n",
       "      <td>0</td>\n",
       "    </tr>\n",
       "    <tr>\n",
       "      <th>2</th>\n",
       "      <td>1</td>\n",
       "      <td>0</td>\n",
       "    </tr>\n",
       "    <tr>\n",
       "      <th>3</th>\n",
       "      <td>0</td>\n",
       "      <td>1</td>\n",
       "    </tr>\n",
       "    <tr>\n",
       "      <th>4</th>\n",
       "      <td>1</td>\n",
       "      <td>0</td>\n",
       "    </tr>\n",
       "  </tbody>\n",
       "</table>\n",
       "</div>"
      ],
      "text/plain": [
       "   State_Florida  State_New York\n",
       "0              0               1\n",
       "1              0               0\n",
       "2              1               0\n",
       "3              0               1\n",
       "4              1               0"
      ]
     },
     "execution_count": 56,
     "metadata": {},
     "output_type": "execute_result"
    }
   ],
   "source": [
    "dfCat = pd.get_dummies(df[cat],\n",
    "                       columns=cat, \n",
    "                       drop_first=True)\n",
    "dfCat.head()"
   ]
  },
  {
   "cell_type": "markdown",
   "id": "d961eb01-47a2-41b5-a981-19df06873d9d",
   "metadata": {},
   "source": [
    "## Escalonamento das variáveis contínuas"
   ]
  },
  {
   "cell_type": "code",
   "execution_count": 60,
   "id": "cd022edb-5f44-45af-b150-d2676e6ee39a",
   "metadata": {},
   "outputs": [
    {
     "name": "stdout",
     "output_type": "stream",
     "text": [
      "R&D Spend - stats = 0.960, p = 0.000\n",
      "Administration - stats = 1.000, p = 0.000\n",
      "Marketing Spend - stats = 0.940, p = 0.000\n"
     ]
    }
   ],
   "source": [
    "for n in num:\n",
    "    normKol = sp.stats.kstest(df[n], cdf='norm')\n",
    "    print(f'{n} - stats = {normKol.statistic:.3f}, p = {normKol.pvalue:.3f}')"
   ]
  },
  {
   "cell_type": "code",
   "execution_count": null,
   "id": "d9005e93-3fa6-4827-bffc-7c66301a0ea5",
   "metadata": {},
   "outputs": [],
   "source": []
  },
  {
   "cell_type": "markdown",
   "id": "0622bd87-6831-4594-92ac-f086057a81c2",
   "metadata": {},
   "source": [
    "## Avaliação da variável resposta - **Profit**"
   ]
  },
  {
   "cell_type": "code",
   "execution_count": null,
   "id": "962cdf3f-e9e8-4e4c-a501-a845cc94ebef",
   "metadata": {},
   "outputs": [],
   "source": []
  }
 ],
 "metadata": {
  "kernelspec": {
   "display_name": "Python 3 (ipykernel)",
   "language": "python",
   "name": "python3"
  },
  "language_info": {
   "codemirror_mode": {
    "name": "ipython",
    "version": 3
   },
   "file_extension": ".py",
   "mimetype": "text/x-python",
   "name": "python",
   "nbconvert_exporter": "python",
   "pygments_lexer": "ipython3",
   "version": "3.9.7"
  }
 },
 "nbformat": 4,
 "nbformat_minor": 5
}
