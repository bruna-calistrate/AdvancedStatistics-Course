{
 "cells": [
  {
   "cell_type": "markdown",
   "id": "92fa8c1a-f007-414c-91c5-9af73ae301a4",
   "metadata": {},
   "source": [
    "# 1. Contextualização\n",
    "Robert é um Investidor Anjo e pretende fechar negócio com algumas startups dos Estados Unidos. Ele pretende fazer uma pesquisa entre 50 startups selecionadas e, para isso, irá precisar de uma análise estatística dessas empresas para tomar sua decisão.\n",
    "\n",
    "Você foi contratado por Robert como Consultor de Ciência de Dados para realizar essa análise entre as 50 startups. Através de seus conhecimentos de estatística, faça o tratamento de dados necessário da base dessas empresas e monte um modelo de regressão que auxilie na tomada de decisão do investidor.\n",
    "\n",
    "**Dataset**: https://www.kaggle.com/datasets/karthickveerakumar/startup-logistic-regression"
   ]
  },
  {
   "cell_type": "markdown",
   "id": "9b88e6e0-e050-4920-acf2-6fe9367239cc",
   "metadata": {},
   "source": [
    "# 2. Carregamento de bibliotecas e Funções"
   ]
  },
  {
   "cell_type": "code",
   "execution_count": 1,
   "id": "aadc2b73-be37-4995-b127-cd32694e4ae0",
   "metadata": {},
   "outputs": [],
   "source": [
    "import matplotlib.pyplot as plt\n",
    "import numpy as np\n",
    "import pandas as pd\n",
    "import patsy as pt\n",
    "import scipy as sp\n",
    "import seaborn as sns\n",
    "import statsmodels.api as sm\n",
    "from sklearn import metrics\n",
    "from sklearn.linear_model import Ridge\n",
    "from sklearn.model_selection import train_test_split\n",
    "from statsmodels.stats.outliers_influence import variance_inflation_factor"
   ]
  },
  {
   "cell_type": "code",
   "execution_count": 2,
   "id": "eba9e9cb-59e8-4c17-915d-ccace8e4d6c2",
   "metadata": {},
   "outputs": [],
   "source": [
    "def desc_null(df):\n",
    "    des = df.describe(include=\"all\", datetime_is_numeric=True).T\n",
    "    des[\"nullCount\"] = df.shape[0] - des[\"count\"]\n",
    "    des[\"null%\"] = (des[\"nullCount\"] / df.shape[0]) * 100\n",
    "    return des"
   ]
  },
  {
   "cell_type": "code",
   "execution_count": 3,
   "id": "bdc76fde-4fb3-423f-94a1-2f5257fca708",
   "metadata": {},
   "outputs": [],
   "source": [
    "def histplot(\n",
    "    data, title=None, xlabel=None, ylabel=None, x=None, y=None, figsize=(10, 5), bins=10\n",
    "):\n",
    "    import matplotlib.pyplot as plt\n",
    "    import seaborn as sns\n",
    "\n",
    "    plt.figure(figsize=figsize)\n",
    "\n",
    "    sns.histplot(data=data, x=x, y=y, bins=bins)\n",
    "\n",
    "    plt.title(title)\n",
    "    plt.xlabel(xlabel)\n",
    "    plt.ylabel(ylabel)\n",
    "\n",
    "    return plt.show()"
   ]
  },
  {
   "cell_type": "code",
   "execution_count": 4,
   "id": "cc4510b9-d006-4b91-9305-1bc29819f13a",
   "metadata": {},
   "outputs": [],
   "source": [
    "def corrplot(data):\n",
    "    import matplotlib.pyplot as plt\n",
    "    import seaborn as sns\n",
    "\n",
    "    plt.figure(figsize=(10, 7))\n",
    "\n",
    "    sns.heatmap(\n",
    "        data=data.corr(),\n",
    "        cmap=sns.diverging_palette(230, 20, as_cmap=True),\n",
    "        vmin=-1,\n",
    "        vmax=1,\n",
    "        annot=True,\n",
    "    )\n",
    "\n",
    "    return plt.show()"
   ]
  },
  {
   "cell_type": "code",
   "execution_count": 5,
   "id": "9ad65fa9-9601-4e38-aa3f-c184b497da97",
   "metadata": {},
   "outputs": [],
   "source": [
    "def feat_scale(x):\n",
    "    import numpy as np\n",
    "\n",
    "    # Calcular a média da variável\n",
    "    mean = np.mean(x, axis=0)\n",
    "\n",
    "    # Calcular o desvio padrão amostral da variável\n",
    "    sigma = np.std(x, axis=0, ddof=1)\n",
    "\n",
    "    # Realizar o escalonamento\n",
    "    xnorm = (x - mean) / sigma\n",
    "\n",
    "    return xnorm"
   ]
  },
  {
   "cell_type": "markdown",
   "id": "1fc52b87-6f39-4fe1-8f3c-8233af26d043",
   "metadata": {},
   "source": [
    "# 3. Carregamento dos dados\n",
    "\n",
    "* **R&D Spend**: Gastos com pesquisa e desenvolvimento pela startup (USD)\n",
    "    * Range: 0,00 - 165.349,20\n",
    "* **Administration**: Gastos administrativos pela startup (USD)\n",
    "    * Range: 51.283,14 - 182.645,56\n",
    "* **Marketing Spend**: Gastos com marketing pela startup (USD)\n",
    "    * Range: 0,00 - 471.784,10\n",
    "* **State**: Estado de origem da startup\n",
    "    * 3 valores únicos: New York (17), California (17), Florida (16)\n",
    "* **Profit**: Lucros da statup\n",
    "    * Range: 14.681,40 - 192.261,83"
   ]
  },
  {
   "cell_type": "code",
   "execution_count": 6,
   "id": "cb7b24d5-7da1-490b-96ba-ad8ca96c03f6",
   "metadata": {},
   "outputs": [],
   "source": [
    "df = pd.read_csv(\n",
    "    \"https://raw.githubusercontent.com/bruna-calistrate/\"\n",
    "    \"AdvancedStatistics-Course/main/data/50_Startups.csv\"\n",
    ")"
   ]
  },
  {
   "cell_type": "code",
   "execution_count": 7,
   "id": "f99c932b-220a-45ef-920f-2410ad1f5b2a",
   "metadata": {},
   "outputs": [
    {
     "data": {
      "text/html": [
       "<div>\n",
       "<style scoped>\n",
       "    .dataframe tbody tr th:only-of-type {\n",
       "        vertical-align: middle;\n",
       "    }\n",
       "\n",
       "    .dataframe tbody tr th {\n",
       "        vertical-align: top;\n",
       "    }\n",
       "\n",
       "    .dataframe thead th {\n",
       "        text-align: right;\n",
       "    }\n",
       "</style>\n",
       "<table border=\"1\" class=\"dataframe\">\n",
       "  <thead>\n",
       "    <tr style=\"text-align: right;\">\n",
       "      <th></th>\n",
       "      <th>R&amp;D Spend</th>\n",
       "      <th>Administration</th>\n",
       "      <th>Marketing Spend</th>\n",
       "      <th>State</th>\n",
       "      <th>Profit</th>\n",
       "    </tr>\n",
       "  </thead>\n",
       "  <tbody>\n",
       "    <tr>\n",
       "      <th>0</th>\n",
       "      <td>165349.20</td>\n",
       "      <td>136897.80</td>\n",
       "      <td>471784.10</td>\n",
       "      <td>New York</td>\n",
       "      <td>192261.83</td>\n",
       "    </tr>\n",
       "    <tr>\n",
       "      <th>1</th>\n",
       "      <td>162597.70</td>\n",
       "      <td>151377.59</td>\n",
       "      <td>443898.53</td>\n",
       "      <td>California</td>\n",
       "      <td>191792.06</td>\n",
       "    </tr>\n",
       "    <tr>\n",
       "      <th>2</th>\n",
       "      <td>153441.51</td>\n",
       "      <td>101145.55</td>\n",
       "      <td>407934.54</td>\n",
       "      <td>Florida</td>\n",
       "      <td>191050.39</td>\n",
       "    </tr>\n",
       "    <tr>\n",
       "      <th>3</th>\n",
       "      <td>144372.41</td>\n",
       "      <td>118671.85</td>\n",
       "      <td>383199.62</td>\n",
       "      <td>New York</td>\n",
       "      <td>182901.99</td>\n",
       "    </tr>\n",
       "    <tr>\n",
       "      <th>4</th>\n",
       "      <td>142107.34</td>\n",
       "      <td>91391.77</td>\n",
       "      <td>366168.42</td>\n",
       "      <td>Florida</td>\n",
       "      <td>166187.94</td>\n",
       "    </tr>\n",
       "  </tbody>\n",
       "</table>\n",
       "</div>"
      ],
      "text/plain": [
       "   R&D Spend  Administration  Marketing Spend       State     Profit\n",
       "0  165349.20       136897.80        471784.10    New York  192261.83\n",
       "1  162597.70       151377.59        443898.53  California  191792.06\n",
       "2  153441.51       101145.55        407934.54     Florida  191050.39\n",
       "3  144372.41       118671.85        383199.62    New York  182901.99\n",
       "4  142107.34        91391.77        366168.42     Florida  166187.94"
      ]
     },
     "execution_count": 7,
     "metadata": {},
     "output_type": "execute_result"
    }
   ],
   "source": [
    "df.head()"
   ]
  },
  {
   "cell_type": "code",
   "execution_count": 8,
   "id": "768a550b-bef4-4e2a-97aa-ce5141558b5a",
   "metadata": {},
   "outputs": [
    {
     "name": "stdout",
     "output_type": "stream",
     "text": [
      "<class 'pandas.core.frame.DataFrame'>\n",
      "RangeIndex: 50 entries, 0 to 49\n",
      "Data columns (total 5 columns):\n",
      " #   Column           Non-Null Count  Dtype  \n",
      "---  ------           --------------  -----  \n",
      " 0   R&D Spend        50 non-null     float64\n",
      " 1   Administration   50 non-null     float64\n",
      " 2   Marketing Spend  50 non-null     float64\n",
      " 3   State            50 non-null     object \n",
      " 4   Profit           50 non-null     float64\n",
      "dtypes: float64(4), object(1)\n",
      "memory usage: 2.1+ KB\n"
     ]
    }
   ],
   "source": [
    "df.info()"
   ]
  },
  {
   "cell_type": "code",
   "execution_count": 9,
   "id": "f56e9f20-6e89-4235-be8f-faceabc864ba",
   "metadata": {},
   "outputs": [
    {
     "data": {
      "text/html": [
       "<div>\n",
       "<style scoped>\n",
       "    .dataframe tbody tr th:only-of-type {\n",
       "        vertical-align: middle;\n",
       "    }\n",
       "\n",
       "    .dataframe tbody tr th {\n",
       "        vertical-align: top;\n",
       "    }\n",
       "\n",
       "    .dataframe thead th {\n",
       "        text-align: right;\n",
       "    }\n",
       "</style>\n",
       "<table border=\"1\" class=\"dataframe\">\n",
       "  <thead>\n",
       "    <tr style=\"text-align: right;\">\n",
       "      <th></th>\n",
       "      <th>count</th>\n",
       "      <th>unique</th>\n",
       "      <th>top</th>\n",
       "      <th>freq</th>\n",
       "      <th>mean</th>\n",
       "      <th>std</th>\n",
       "      <th>min</th>\n",
       "      <th>25%</th>\n",
       "      <th>50%</th>\n",
       "      <th>75%</th>\n",
       "      <th>max</th>\n",
       "      <th>nullCount</th>\n",
       "      <th>null%</th>\n",
       "    </tr>\n",
       "  </thead>\n",
       "  <tbody>\n",
       "    <tr>\n",
       "      <th>R&amp;D Spend</th>\n",
       "      <td>50.0</td>\n",
       "      <td>NaN</td>\n",
       "      <td>NaN</td>\n",
       "      <td>NaN</td>\n",
       "      <td>73721.6156</td>\n",
       "      <td>45902.256482</td>\n",
       "      <td>0.0</td>\n",
       "      <td>39936.37</td>\n",
       "      <td>73051.08</td>\n",
       "      <td>101602.8</td>\n",
       "      <td>165349.2</td>\n",
       "      <td>0.0</td>\n",
       "      <td>0.0</td>\n",
       "    </tr>\n",
       "    <tr>\n",
       "      <th>Administration</th>\n",
       "      <td>50.0</td>\n",
       "      <td>NaN</td>\n",
       "      <td>NaN</td>\n",
       "      <td>NaN</td>\n",
       "      <td>121344.6396</td>\n",
       "      <td>28017.802755</td>\n",
       "      <td>51283.14</td>\n",
       "      <td>103730.875</td>\n",
       "      <td>122699.795</td>\n",
       "      <td>144842.18</td>\n",
       "      <td>182645.56</td>\n",
       "      <td>0.0</td>\n",
       "      <td>0.0</td>\n",
       "    </tr>\n",
       "    <tr>\n",
       "      <th>Marketing Spend</th>\n",
       "      <td>50.0</td>\n",
       "      <td>NaN</td>\n",
       "      <td>NaN</td>\n",
       "      <td>NaN</td>\n",
       "      <td>211025.0978</td>\n",
       "      <td>122290.310726</td>\n",
       "      <td>0.0</td>\n",
       "      <td>129300.1325</td>\n",
       "      <td>212716.24</td>\n",
       "      <td>299469.085</td>\n",
       "      <td>471784.1</td>\n",
       "      <td>0.0</td>\n",
       "      <td>0.0</td>\n",
       "    </tr>\n",
       "    <tr>\n",
       "      <th>State</th>\n",
       "      <td>50</td>\n",
       "      <td>3</td>\n",
       "      <td>New York</td>\n",
       "      <td>17</td>\n",
       "      <td>NaN</td>\n",
       "      <td>NaN</td>\n",
       "      <td>NaN</td>\n",
       "      <td>NaN</td>\n",
       "      <td>NaN</td>\n",
       "      <td>NaN</td>\n",
       "      <td>NaN</td>\n",
       "      <td>0</td>\n",
       "      <td>0.0</td>\n",
       "    </tr>\n",
       "    <tr>\n",
       "      <th>Profit</th>\n",
       "      <td>50.0</td>\n",
       "      <td>NaN</td>\n",
       "      <td>NaN</td>\n",
       "      <td>NaN</td>\n",
       "      <td>112012.6392</td>\n",
       "      <td>40306.180338</td>\n",
       "      <td>14681.4</td>\n",
       "      <td>90138.9025</td>\n",
       "      <td>107978.19</td>\n",
       "      <td>139765.9775</td>\n",
       "      <td>192261.83</td>\n",
       "      <td>0.0</td>\n",
       "      <td>0.0</td>\n",
       "    </tr>\n",
       "  </tbody>\n",
       "</table>\n",
       "</div>"
      ],
      "text/plain": [
       "                count unique       top freq         mean            std  \\\n",
       "R&D Spend        50.0    NaN       NaN  NaN   73721.6156   45902.256482   \n",
       "Administration   50.0    NaN       NaN  NaN  121344.6396   28017.802755   \n",
       "Marketing Spend  50.0    NaN       NaN  NaN  211025.0978  122290.310726   \n",
       "State              50      3  New York   17          NaN            NaN   \n",
       "Profit           50.0    NaN       NaN  NaN  112012.6392   40306.180338   \n",
       "\n",
       "                      min          25%         50%          75%        max  \\\n",
       "R&D Spend             0.0     39936.37    73051.08     101602.8   165349.2   \n",
       "Administration   51283.14   103730.875  122699.795    144842.18  182645.56   \n",
       "Marketing Spend       0.0  129300.1325   212716.24   299469.085   471784.1   \n",
       "State                 NaN          NaN         NaN          NaN        NaN   \n",
       "Profit            14681.4   90138.9025   107978.19  139765.9775  192261.83   \n",
       "\n",
       "                nullCount null%  \n",
       "R&D Spend             0.0   0.0  \n",
       "Administration        0.0   0.0  \n",
       "Marketing Spend       0.0   0.0  \n",
       "State                   0   0.0  \n",
       "Profit                0.0   0.0  "
      ]
     },
     "execution_count": 9,
     "metadata": {},
     "output_type": "execute_result"
    }
   ],
   "source": [
    "desc_null(df)"
   ]
  },
  {
   "cell_type": "code",
   "execution_count": 10,
   "id": "f45ff73a-5408-4672-aa53-bb8bfaa55d35",
   "metadata": {},
   "outputs": [
    {
     "data": {
      "text/plain": [
       "New York      17\n",
       "California    17\n",
       "Florida       16\n",
       "Name: State, dtype: int64"
      ]
     },
     "execution_count": 10,
     "metadata": {},
     "output_type": "execute_result"
    }
   ],
   "source": [
    "df[\"State\"].value_counts()"
   ]
  },
  {
   "cell_type": "markdown",
   "id": "b0c4f574-a2be-492e-97c2-8874bdc1d723",
   "metadata": {},
   "source": [
    "# 4. Análise Exploratória dos dados\n",
    "\n",
    "Traga os dados estatísticos descritivos apresentados na base para cada propriedade.\n",
    "\n",
    "* Plote histogramas para analisar a distribuição em cada uma das propriedades. \n",
    "    * Plote gráficos de barras que demonstrem a distribuição dos estados. \n",
    "    * Plote também, gráficos de correlação para cada uma das propriedades.\n",
    "* Crie um gráfico box-plot que traga o lucro das startups por estado."
   ]
  },
  {
   "cell_type": "markdown",
   "id": "4ad157c5-37ea-4915-894a-0cc86a93d713",
   "metadata": {},
   "source": [
    "## 4.1. Distribuição "
   ]
  },
  {
   "cell_type": "code",
   "execution_count": 11,
   "id": "9c5e9a86-3ac7-4f85-b285-a8498d40b406",
   "metadata": {},
   "outputs": [
    {
     "data": {
      "image/png": "[encoded data removed]",
      "text/plain": [
       "<Figure size 1800x720 with 6 Axes>"
      ]
     },
     "metadata": {
      "needs_background": "light"
     },
     "output_type": "display_data"
    }
   ],
   "source": [
    "fig, axes = plt.subplots(nrows=2, ncols=3, figsize=(25, 10))\n",
    "\n",
    "c = 0\n",
    "for i in range(2):\n",
    "    for j in range(3):\n",
    "        if i == 1 and j == 2:\n",
    "            sns.boxplot(data=df, y=\"Profit\", x=\"State\", ax=axes[i, j])\n",
    "        else:\n",
    "            sns.histplot(\n",
    "                data=df,\n",
    "                x=[\"R&D Spend\", \"Administration\", \"Marketing Spend\", \"Profit\", \"State\"][\n",
    "                    c\n",
    "                ],\n",
    "                ax=axes[i, j],\n",
    "                bins=10,\n",
    "            ).set_ylabel(\"Frequência\")\n",
    "            c += 1\n",
    "\n",
    "plt.show()"
   ]
  },
  {
   "cell_type": "markdown",
   "id": "5ef16cae-ffb4-4485-8321-d084ed797cb9",
   "metadata": {},
   "source": [
    "## 4.2. Correlação\n",
    "\n",
    "Existe uma correlação positiva muito alta entre:\n",
    "* **R&D Spend** e **Profit** de 0,97\n",
    "* **Marketing Spend** e **Profit** de 0,75"
   ]
  },
  {
   "cell_type": "code",
   "execution_count": 12,
   "id": "5e94eade-3045-4bc0-9ebc-c537f0bacdd9",
   "metadata": {},
   "outputs": [
    {
     "data": {
      "image/png": "[encoded data removed]",
      "text/plain": [
       "<Figure size 720x504 with 2 Axes>"
      ]
     },
     "metadata": {
      "needs_background": "light"
     },
     "output_type": "display_data"
    }
   ],
   "source": [
    "corrplot(df)"
   ]
  },
  {
   "cell_type": "code",
   "execution_count": 13,
   "id": "33e3422e-2aa3-454a-8d4d-f373091db174",
   "metadata": {},
   "outputs": [
    {
     "data": {
      "text/plain": [
       "<seaborn.axisgrid.PairGrid at 0x24cde2c68e0>"
      ]
     },
     "execution_count": 13,
     "metadata": {},
     "output_type": "execute_result"
    },
    {
     "data": {
      "image/png": "[encoded data removed]",
      "text/plain": [
       "<Figure size 720x720 with 20 Axes>"
      ]
     },
     "metadata": {
      "needs_background": "light"
     },
     "output_type": "display_data"
    }
   ],
   "source": [
    "sns.pairplot(df)"
   ]
  },
  {
   "cell_type": "markdown",
   "id": "35238c5f-20f7-4d6d-9a42-21356da52b5f",
   "metadata": {},
   "source": [
    "# 5. Pré-Processamento de Dados\n",
    "\n",
    "* Separar as variáveis em contínuas, categóricas e resposta;\n",
    "* Realize o pré-tratamento das variáveis;\n",
    "* Aplique o escalonamento das variáveis contínuas, dummyficação das variáveis categóricas e avalia se a resposta precisa de tratamento"
   ]
  },
  {
   "cell_type": "markdown",
   "id": "5491170a-477c-4905-b78a-1df2092adc9a",
   "metadata": {},
   "source": [
    "## 5.1. Separação das variáveis"
   ]
  },
  {
   "cell_type": "code",
   "execution_count": 14,
   "id": "a26b96ed-4e9e-46d2-af60-bb6a31f01f26",
   "metadata": {},
   "outputs": [],
   "source": [
    "resp = df[\"Profit\"]\n",
    "num = list(df.select_dtypes(include=[np.number]).drop(columns=\"Profit\"))\n",
    "cat = list(df.select_dtypes(exclude=[np.number]))"
   ]
  },
  {
   "cell_type": "markdown",
   "id": "0622bd87-6831-4594-92ac-f086057a81c2",
   "metadata": {},
   "source": [
    "## 5.2. Transformação da resposta - **Profit**\n",
    "\n",
    "Ela precisa chegar o mais próximo de uma distribuição normal para ser utilizada no modelo\n",
    "\n",
    "### 5.2.1. Teste de normalidade"
   ]
  },
  {
   "cell_type": "code",
   "execution_count": 15,
   "id": "27edf647-25b8-4839-a343-c0773e7c9f9e",
   "metadata": {},
   "outputs": [
    {
     "data": {
      "image/png": "[encoded data removed]",
      "text/plain": [
       "<Figure size 504x360 with 1 Axes>"
      ]
     },
     "metadata": {
      "needs_background": "light"
     },
     "output_type": "display_data"
    }
   ],
   "source": [
    "histplot(data=resp, figsize=(7, 5), title=\"Profit\")"
   ]
  },
  {
   "cell_type": "code",
   "execution_count": 16,
   "id": "d9005e93-3fa6-4827-bffc-7c66301a0ea5",
   "metadata": {},
   "outputs": [
    {
     "name": "stdout",
     "output_type": "stream",
     "text": [
      "Stat: 1.0 - P Value: 0.0\n"
     ]
    }
   ],
   "source": [
    "kStat, kPvalue = sp.stats.kstest(resp, cdf=\"norm\")\n",
    "\n",
    "print(f\"Stat: {kStat} - P Value: {kPvalue}\")"
   ]
  },
  {
   "cell_type": "code",
   "execution_count": 17,
   "id": "22da4a20-d882-4afa-8bdc-d6ef170316f4",
   "metadata": {},
   "outputs": [
    {
     "data": {
      "image/png": "[encoded data removed]",
      "text/plain": [
       "<Figure size 504x360 with 1 Axes>"
      ]
     },
     "metadata": {
      "needs_background": "light"
     },
     "output_type": "display_data"
    }
   ],
   "source": [
    "histplot(data=np.log(resp), figsize=(7, 5), title=\"log Profit\")"
   ]
  },
  {
   "cell_type": "code",
   "execution_count": 18,
   "id": "7bffef69-68e0-42d7-ab90-7b8c5575744a",
   "metadata": {},
   "outputs": [
    {
     "name": "stdout",
     "output_type": "stream",
     "text": [
      "Stat: 1.0 - P Value: 0.0\n"
     ]
    }
   ],
   "source": [
    "kStat, kPvalue = sp.stats.kstest(np.log(resp), cdf=\"norm\")\n",
    "\n",
    "print(f\"Stat: {kStat} - P Value: {kPvalue}\")"
   ]
  },
  {
   "cell_type": "markdown",
   "id": "c0110f3c-62b7-4e41-af95-62eff5c7e6ae",
   "metadata": {},
   "source": [
    "Como não foi possível normalizar mais a resposta, seguir com a distribuição atual."
   ]
  },
  {
   "cell_type": "markdown",
   "id": "d961eb01-47a2-41b5-a981-19df06873d9d",
   "metadata": {},
   "source": [
    "## 5.3. Escalonamento das variáveis contínuas"
   ]
  },
  {
   "cell_type": "code",
   "execution_count": 19,
   "id": "cd022edb-5f44-45af-b150-d2676e6ee39a",
   "metadata": {},
   "outputs": [
    {
     "name": "stdout",
     "output_type": "stream",
     "text": [
      "R&D Spend - stats = 0.960, p = 0.000\n",
      "Administration - stats = 1.000, p = 0.000\n",
      "Marketing Spend - stats = 0.940, p = 0.000\n"
     ]
    }
   ],
   "source": [
    "for n in num:\n",
    "    nStats, nPvalue = sp.stats.kstest(df[n], cdf=\"norm\")\n",
    "    print(f\"{n} - stats = {nStats:.3f}, p = {nPvalue:.3f}\")"
   ]
  },
  {
   "cell_type": "code",
   "execution_count": 20,
   "id": "803489d9-8d84-4af5-a29a-520531e78d74",
   "metadata": {},
   "outputs": [],
   "source": [
    "dfNum = feat_scale(df[num])"
   ]
  },
  {
   "cell_type": "code",
   "execution_count": 21,
   "id": "60dfe210-848c-47a6-a807-8c3a103cdeb3",
   "metadata": {},
   "outputs": [
    {
     "name": "stdout",
     "output_type": "stream",
     "text": [
      "R&D Spend - stats = 0.080, p = 0.885\n",
      "Administration - stats = 0.077, p = 0.904\n",
      "Marketing Spend - stats = 0.084, p = 0.841\n"
     ]
    }
   ],
   "source": [
    "for n in num:\n",
    "    nStats, nPvalue = sp.stats.kstest(dfNum[n], cdf=\"norm\")\n",
    "    print(f\"{n} - stats = {nStats:.3f}, p = {nPvalue:.3f}\")"
   ]
  },
  {
   "cell_type": "code",
   "execution_count": 22,
   "id": "d354dab0-206c-45e1-8e66-bb8882a1257d",
   "metadata": {},
   "outputs": [
    {
     "data": {
      "image/png": "[encoded data removed]",
      "text/plain": [
       "<Figure size 1440x360 with 3 Axes>"
      ]
     },
     "metadata": {
      "needs_background": "light"
     },
     "output_type": "display_data"
    }
   ],
   "source": [
    "fig, axes = plt.subplots(ncols=3, figsize=(20, 5))\n",
    "\n",
    "for j, n in zip(range(3), num):\n",
    "    sns.histplot(data=dfNum, x=n, ax=axes[j], bins=10).set_ylabel(\"Frequência\")\n",
    "\n",
    "plt.show()"
   ]
  },
  {
   "cell_type": "markdown",
   "id": "f906bbdf-9788-4572-a542-76e07e111bc6",
   "metadata": {},
   "source": [
    "## 5.4. One-Hot Encoding das variáveis categóricas"
   ]
  },
  {
   "cell_type": "code",
   "execution_count": 43,
   "id": "dc17a52c-e4f7-42be-8ee1-9bdc3d8b48d7",
   "metadata": {},
   "outputs": [
    {
     "data": {
      "text/html": [
       "<div>\n",
       "<style scoped>\n",
       "    .dataframe tbody tr th:only-of-type {\n",
       "        vertical-align: middle;\n",
       "    }\n",
       "\n",
       "    .dataframe tbody tr th {\n",
       "        vertical-align: top;\n",
       "    }\n",
       "\n",
       "    .dataframe thead th {\n",
       "        text-align: right;\n",
       "    }\n",
       "</style>\n",
       "<table border=\"1\" class=\"dataframe\">\n",
       "  <thead>\n",
       "    <tr style=\"text-align: right;\">\n",
       "      <th></th>\n",
       "      <th>State_California</th>\n",
       "      <th>State_Florida</th>\n",
       "      <th>State_New York</th>\n",
       "    </tr>\n",
       "  </thead>\n",
       "  <tbody>\n",
       "    <tr>\n",
       "      <th>0</th>\n",
       "      <td>0</td>\n",
       "      <td>0</td>\n",
       "      <td>1</td>\n",
       "    </tr>\n",
       "    <tr>\n",
       "      <th>1</th>\n",
       "      <td>1</td>\n",
       "      <td>0</td>\n",
       "      <td>0</td>\n",
       "    </tr>\n",
       "    <tr>\n",
       "      <th>2</th>\n",
       "      <td>0</td>\n",
       "      <td>1</td>\n",
       "      <td>0</td>\n",
       "    </tr>\n",
       "    <tr>\n",
       "      <th>3</th>\n",
       "      <td>0</td>\n",
       "      <td>0</td>\n",
       "      <td>1</td>\n",
       "    </tr>\n",
       "    <tr>\n",
       "      <th>4</th>\n",
       "      <td>0</td>\n",
       "      <td>1</td>\n",
       "      <td>0</td>\n",
       "    </tr>\n",
       "  </tbody>\n",
       "</table>\n",
       "</div>"
      ],
      "text/plain": [
       "   State_California  State_Florida  State_New York\n",
       "0                 0              0               1\n",
       "1                 1              0               0\n",
       "2                 0              1               0\n",
       "3                 0              0               1\n",
       "4                 0              1               0"
      ]
     },
     "execution_count": 43,
     "metadata": {},
     "output_type": "execute_result"
    }
   ],
   "source": [
    "dfCat = pd.get_dummies(df[cat], columns=cat)\n",
    "dfCat.head()"
   ]
  },
  {
   "cell_type": "markdown",
   "id": "0d2cda6c-b98f-4999-9cac-0591f19c5cb6",
   "metadata": {},
   "source": [
    "## 5.5. Unificação dos dataframes criados no pré-tratamento"
   ]
  },
  {
   "cell_type": "code",
   "execution_count": 44,
   "id": "bfd32616-39c7-4060-9f7f-7e4174859a93",
   "metadata": {},
   "outputs": [
    {
     "data": {
      "text/html": [
       "<div>\n",
       "<style scoped>\n",
       "    .dataframe tbody tr th:only-of-type {\n",
       "        vertical-align: middle;\n",
       "    }\n",
       "\n",
       "    .dataframe tbody tr th {\n",
       "        vertical-align: top;\n",
       "    }\n",
       "\n",
       "    .dataframe thead th {\n",
       "        text-align: right;\n",
       "    }\n",
       "</style>\n",
       "<table border=\"1\" class=\"dataframe\">\n",
       "  <thead>\n",
       "    <tr style=\"text-align: right;\">\n",
       "      <th></th>\n",
       "      <th>R&amp;D Spend</th>\n",
       "      <th>Administration</th>\n",
       "      <th>Marketing Spend</th>\n",
       "      <th>State_California</th>\n",
       "      <th>State_Florida</th>\n",
       "      <th>State_New York</th>\n",
       "      <th>Profit</th>\n",
       "    </tr>\n",
       "  </thead>\n",
       "  <tbody>\n",
       "    <tr>\n",
       "      <th>0</th>\n",
       "      <td>1.996146</td>\n",
       "      <td>0.555117</td>\n",
       "      <td>2.132295</td>\n",
       "      <td>0</td>\n",
       "      <td>0</td>\n",
       "      <td>1</td>\n",
       "      <td>192261.83</td>\n",
       "    </tr>\n",
       "    <tr>\n",
       "      <th>1</th>\n",
       "      <td>1.936203</td>\n",
       "      <td>1.071924</td>\n",
       "      <td>1.904267</td>\n",
       "      <td>1</td>\n",
       "      <td>0</td>\n",
       "      <td>0</td>\n",
       "      <td>191792.06</td>\n",
       "    </tr>\n",
       "    <tr>\n",
       "      <th>2</th>\n",
       "      <td>1.736731</td>\n",
       "      <td>-0.720938</td>\n",
       "      <td>1.610180</td>\n",
       "      <td>0</td>\n",
       "      <td>1</td>\n",
       "      <td>0</td>\n",
       "      <td>191050.39</td>\n",
       "    </tr>\n",
       "    <tr>\n",
       "      <th>3</th>\n",
       "      <td>1.539157</td>\n",
       "      <td>-0.095396</td>\n",
       "      <td>1.407916</td>\n",
       "      <td>0</td>\n",
       "      <td>0</td>\n",
       "      <td>1</td>\n",
       "      <td>182901.99</td>\n",
       "    </tr>\n",
       "    <tr>\n",
       "      <th>4</th>\n",
       "      <td>1.489812</td>\n",
       "      <td>-1.069066</td>\n",
       "      <td>1.268648</td>\n",
       "      <td>0</td>\n",
       "      <td>1</td>\n",
       "      <td>0</td>\n",
       "      <td>166187.94</td>\n",
       "    </tr>\n",
       "  </tbody>\n",
       "</table>\n",
       "</div>"
      ],
      "text/plain": [
       "   R&D Spend  Administration  Marketing Spend  State_California  \\\n",
       "0   1.996146        0.555117         2.132295                 0   \n",
       "1   1.936203        1.071924         1.904267                 1   \n",
       "2   1.736731       -0.720938         1.610180                 0   \n",
       "3   1.539157       -0.095396         1.407916                 0   \n",
       "4   1.489812       -1.069066         1.268648                 0   \n",
       "\n",
       "   State_Florida  State_New York     Profit  \n",
       "0              0               1  192261.83  \n",
       "1              0               0  191792.06  \n",
       "2              1               0  191050.39  \n",
       "3              0               1  182901.99  \n",
       "4              1               0  166187.94  "
      ]
     },
     "execution_count": 44,
     "metadata": {},
     "output_type": "execute_result"
    }
   ],
   "source": [
    "dfFinal = pd.concat([dfNum, dfCat, resp], axis=1)\n",
    "\n",
    "dfFinal.head()"
   ]
  },
  {
   "cell_type": "markdown",
   "id": "5da05fa5-5ef6-4248-b2b5-a385ba0c8a64",
   "metadata": {},
   "source": [
    "# 6. Ajuste do modelo de regressão\n"
   ]
  },
  {
   "cell_type": "code",
   "execution_count": 45,
   "id": "956011fa-0c44-4091-8468-94cd85d47748",
   "metadata": {},
   "outputs": [
    {
     "name": "stdout",
     "output_type": "stream",
     "text": [
      "<class 'pandas.core.frame.DataFrame'>\n",
      "RangeIndex: 50 entries, 0 to 49\n",
      "Data columns (total 7 columns):\n",
      " #   Column            Non-Null Count  Dtype  \n",
      "---  ------            --------------  -----  \n",
      " 0   R&D Spend         50 non-null     float64\n",
      " 1   Administration    50 non-null     float64\n",
      " 2   Marketing Spend   50 non-null     float64\n",
      " 3   State_California  50 non-null     uint8  \n",
      " 4   State_Florida     50 non-null     uint8  \n",
      " 5   State_New York    50 non-null     uint8  \n",
      " 6   Profit            50 non-null     float64\n",
      "dtypes: float64(4), uint8(3)\n",
      "memory usage: 1.8 KB\n"
     ]
    }
   ],
   "source": [
    "dfFinal.info()"
   ]
  },
  {
   "cell_type": "markdown",
   "id": "72e5f533-bf75-41db-9acf-04ec19604336",
   "metadata": {},
   "source": [
    "## 6.1. Renomear as colunas\n",
    "\n",
    "Ajuste para desenvolver o modelo, não podem haver espaços"
   ]
  },
  {
   "cell_type": "code",
   "execution_count": 46,
   "id": "3c826d23-f8e7-4688-bb11-c60a49e11bd4",
   "metadata": {},
   "outputs": [
    {
     "data": {
      "text/html": [
       "<div>\n",
       "<style scoped>\n",
       "    .dataframe tbody tr th:only-of-type {\n",
       "        vertical-align: middle;\n",
       "    }\n",
       "\n",
       "    .dataframe tbody tr th {\n",
       "        vertical-align: top;\n",
       "    }\n",
       "\n",
       "    .dataframe thead th {\n",
       "        text-align: right;\n",
       "    }\n",
       "</style>\n",
       "<table border=\"1\" class=\"dataframe\">\n",
       "  <thead>\n",
       "    <tr style=\"text-align: right;\">\n",
       "      <th></th>\n",
       "      <th>rd_spend</th>\n",
       "      <th>admin_spend</th>\n",
       "      <th>mkt_spend</th>\n",
       "      <th>ca</th>\n",
       "      <th>fl</th>\n",
       "      <th>ny</th>\n",
       "      <th>Profit</th>\n",
       "    </tr>\n",
       "  </thead>\n",
       "  <tbody>\n",
       "    <tr>\n",
       "      <th>0</th>\n",
       "      <td>1.996146</td>\n",
       "      <td>0.555117</td>\n",
       "      <td>2.132295</td>\n",
       "      <td>0</td>\n",
       "      <td>0</td>\n",
       "      <td>1</td>\n",
       "      <td>192261.83</td>\n",
       "    </tr>\n",
       "    <tr>\n",
       "      <th>1</th>\n",
       "      <td>1.936203</td>\n",
       "      <td>1.071924</td>\n",
       "      <td>1.904267</td>\n",
       "      <td>1</td>\n",
       "      <td>0</td>\n",
       "      <td>0</td>\n",
       "      <td>191792.06</td>\n",
       "    </tr>\n",
       "    <tr>\n",
       "      <th>2</th>\n",
       "      <td>1.736731</td>\n",
       "      <td>-0.720938</td>\n",
       "      <td>1.610180</td>\n",
       "      <td>0</td>\n",
       "      <td>1</td>\n",
       "      <td>0</td>\n",
       "      <td>191050.39</td>\n",
       "    </tr>\n",
       "    <tr>\n",
       "      <th>3</th>\n",
       "      <td>1.539157</td>\n",
       "      <td>-0.095396</td>\n",
       "      <td>1.407916</td>\n",
       "      <td>0</td>\n",
       "      <td>0</td>\n",
       "      <td>1</td>\n",
       "      <td>182901.99</td>\n",
       "    </tr>\n",
       "    <tr>\n",
       "      <th>4</th>\n",
       "      <td>1.489812</td>\n",
       "      <td>-1.069066</td>\n",
       "      <td>1.268648</td>\n",
       "      <td>0</td>\n",
       "      <td>1</td>\n",
       "      <td>0</td>\n",
       "      <td>166187.94</td>\n",
       "    </tr>\n",
       "  </tbody>\n",
       "</table>\n",
       "</div>"
      ],
      "text/plain": [
       "   rd_spend  admin_spend  mkt_spend  ca  fl  ny     Profit\n",
       "0  1.996146     0.555117   2.132295   0   0   1  192261.83\n",
       "1  1.936203     1.071924   1.904267   1   0   0  191792.06\n",
       "2  1.736731    -0.720938   1.610180   0   1   0  191050.39\n",
       "3  1.539157    -0.095396   1.407916   0   0   1  182901.99\n",
       "4  1.489812    -1.069066   1.268648   0   1   0  166187.94"
      ]
     },
     "execution_count": 46,
     "metadata": {},
     "output_type": "execute_result"
    }
   ],
   "source": [
    "dfFull = dfFinal.copy()\n",
    "\n",
    "dfFull.rename(\n",
    "    columns={\n",
    "        \"R&D Spend\": \"rd_spend\",\n",
    "        \"Administration\": \"admin_spend\",\n",
    "        \"Marketing Spend\": \"mkt_spend\",\n",
    "        \"State_Florida\": \"fl\",\n",
    "        \"State_New York\": \"ny\",\n",
    "        \"State_California\": \"ca\",\n",
    "    },\n",
    "    inplace=True,\n",
    ")\n",
    "\n",
    "dfFull.head()"
   ]
  },
  {
   "cell_type": "markdown",
   "id": "a6142aa9-c886-42ce-8a15-687dee73e923",
   "metadata": {
    "tags": []
   },
   "source": [
    "## 6.2. Método mínimos quadrados (ordinary least squares)"
   ]
  },
  {
   "cell_type": "markdown",
   "id": "28adf90e-42cf-47de-94e9-bb6e1ca3c378",
   "metadata": {},
   "source": [
    "### 6.2.1. Função para escrever a fórmula"
   ]
  },
  {
   "cell_type": "code",
   "execution_count": 27,
   "id": "4d705860-a2ea-4245-aafa-9bcaf3b0ab4b",
   "metadata": {},
   "outputs": [],
   "source": [
    "def ols_formula(df, dependent_var, *excluded_rows):\n",
    "\n",
    "    # Listar o nome das colunas do dataframe\n",
    "    cols = list(df.columns)\n",
    "\n",
    "    # Remover a variável dependente\n",
    "    cols.remove(dependent_var)\n",
    "\n",
    "    # Remover as variáveis excluídas\n",
    "    for col in excluded_rows:\n",
    "        cols.remove(col)\n",
    "\n",
    "    # Retornar a fórmula\n",
    "    return dependent_var + \" ~ \" + \" + \".join(cols)"
   ]
  },
  {
   "cell_type": "markdown",
   "id": "45eda0d9-e4bb-4e0e-8d0c-abdfb62f4e0d",
   "metadata": {},
   "source": [
    "### 6.2.2. Matriz do modelo"
   ]
  },
  {
   "cell_type": "code",
   "execution_count": 47,
   "id": "3f46e829-aa07-4ae6-9959-058eb4bfd02b",
   "metadata": {},
   "outputs": [],
   "source": [
    "y, x = pt.dmatrices(ols_formula(dfFull, \"Profit\"), data=dfFull, return_type=\"dataframe\")"
   ]
  },
  {
   "cell_type": "markdown",
   "id": "bc45d7ac-79f7-4bb8-9812-0300dd4d854e",
   "metadata": {},
   "source": [
    "### 6.2.3. Ajuste da matriz"
   ]
  },
  {
   "cell_type": "code",
   "execution_count": 48,
   "id": "fc5d3b8e-f095-46d8-9ac0-5ecd4f16fdb0",
   "metadata": {},
   "outputs": [],
   "source": [
    "reg = sm.OLS(y, x)\n",
    "\n",
    "regfit = reg.fit()"
   ]
  },
  {
   "cell_type": "code",
   "execution_count": 49,
   "id": "b1eba21d-1e32-48b0-9b9c-50405eb1a0d7",
   "metadata": {},
   "outputs": [
    {
     "data": {
      "text/html": [
       "<table class=\"simpletable\">\n",
       "<caption>OLS Regression Results</caption>\n",
       "<tr>\n",
       "  <th>Dep. Variable:</th>         <td>Profit</td>      <th>  R-squared:         </th> <td>   0.951</td>\n",
       "</tr>\n",
       "<tr>\n",
       "  <th>Model:</th>                   <td>OLS</td>       <th>  Adj. R-squared:    </th> <td>   0.945</td>\n",
       "</tr>\n",
       "<tr>\n",
       "  <th>Method:</th>             <td>Least Squares</td>  <th>  F-statistic:       </th> <td>   169.9</td>\n",
       "</tr>\n",
       "<tr>\n",
       "  <th>Date:</th>             <td>Thu, 05 May 2022</td> <th>  Prob (F-statistic):</th> <td>1.34e-27</td>\n",
       "</tr>\n",
       "<tr>\n",
       "  <th>Time:</th>                 <td>09:53:53</td>     <th>  Log-Likelihood:    </th> <td> -525.38</td>\n",
       "</tr>\n",
       "<tr>\n",
       "  <th>No. Observations:</th>      <td>    50</td>      <th>  AIC:               </th> <td>   1063.</td>\n",
       "</tr>\n",
       "<tr>\n",
       "  <th>Df Residuals:</th>          <td>    44</td>      <th>  BIC:               </th> <td>   1074.</td>\n",
       "</tr>\n",
       "<tr>\n",
       "  <th>Df Model:</th>              <td>     5</td>      <th>                     </th>     <td> </td>   \n",
       "</tr>\n",
       "<tr>\n",
       "  <th>Covariance Type:</th>      <td>nonrobust</td>    <th>                     </th>     <td> </td>   \n",
       "</tr>\n",
       "</table>\n",
       "<table class=\"simpletable\">\n",
       "<tr>\n",
       "       <td></td>          <th>coef</th>     <th>std err</th>      <th>t</th>      <th>P>|t|</th>  <th>[0.025</th>    <th>0.975]</th>  \n",
       "</tr>\n",
       "<tr>\n",
       "  <th>Intercept</th>   <td> 8.401e+04</td> <td> 1001.609</td> <td>   83.877</td> <td> 0.000</td> <td>  8.2e+04</td> <td>  8.6e+04</td>\n",
       "</tr>\n",
       "<tr>\n",
       "  <th>rd_spend</th>    <td>   3.7e+04</td> <td> 2130.184</td> <td>   17.369</td> <td> 0.000</td> <td> 3.27e+04</td> <td> 4.13e+04</td>\n",
       "</tr>\n",
       "<tr>\n",
       "  <th>admin_spend</th> <td> -756.6017</td> <td> 1463.413</td> <td>   -0.517</td> <td> 0.608</td> <td>-3705.917</td> <td> 2192.714</td>\n",
       "</tr>\n",
       "<tr>\n",
       "  <th>mkt_spend</th>   <td> 3299.3756</td> <td> 2096.320</td> <td>    1.574</td> <td> 0.123</td> <td> -925.479</td> <td> 7524.231</td>\n",
       "</tr>\n",
       "<tr>\n",
       "  <th>ca</th>          <td> 2.795e+04</td> <td> 1932.496</td> <td>   14.464</td> <td> 0.000</td> <td> 2.41e+04</td> <td> 3.18e+04</td>\n",
       "</tr>\n",
       "<tr>\n",
       "  <th>fl</th>          <td> 2.815e+04</td> <td> 1993.572</td> <td>   14.121</td> <td> 0.000</td> <td> 2.41e+04</td> <td> 3.22e+04</td>\n",
       "</tr>\n",
       "<tr>\n",
       "  <th>ny</th>          <td> 2.791e+04</td> <td> 1913.989</td> <td>   14.582</td> <td> 0.000</td> <td> 2.41e+04</td> <td> 3.18e+04</td>\n",
       "</tr>\n",
       "</table>\n",
       "<table class=\"simpletable\">\n",
       "<tr>\n",
       "  <th>Omnibus:</th>       <td>14.782</td> <th>  Durbin-Watson:     </th> <td>   1.283</td>\n",
       "</tr>\n",
       "<tr>\n",
       "  <th>Prob(Omnibus):</th> <td> 0.001</td> <th>  Jarque-Bera (JB):  </th> <td>  21.266</td>\n",
       "</tr>\n",
       "<tr>\n",
       "  <th>Skew:</th>          <td>-0.948</td> <th>  Prob(JB):          </th> <td>2.41e-05</td>\n",
       "</tr>\n",
       "<tr>\n",
       "  <th>Kurtosis:</th>      <td> 5.572</td> <th>  Cond. No.          </th> <td>1.96e+16</td>\n",
       "</tr>\n",
       "</table><br/><br/>Notes:<br/>[1] Standard Errors assume that the covariance matrix of the errors is correctly specified.<br/>[2] The smallest eigenvalue is 2.26e-31. This might indicate that there are<br/>strong multicollinearity problems or that the design matrix is singular."
      ],
      "text/plain": [
       "<class 'statsmodels.iolib.summary.Summary'>\n",
       "\"\"\"\n",
       "                            OLS Regression Results                            \n",
       "==============================================================================\n",
       "Dep. Variable:                 Profit   R-squared:                       0.951\n",
       "Model:                            OLS   Adj. R-squared:                  0.945\n",
       "Method:                 Least Squares   F-statistic:                     169.9\n",
       "Date:                Thu, 05 May 2022   Prob (F-statistic):           1.34e-27\n",
       "Time:                        09:53:53   Log-Likelihood:                -525.38\n",
       "No. Observations:                  50   AIC:                             1063.\n",
       "Df Residuals:                      44   BIC:                             1074.\n",
       "Df Model:                           5                                         \n",
       "Covariance Type:            nonrobust                                         \n",
       "===============================================================================\n",
       "                  coef    std err          t      P>|t|      [0.025      0.975]\n",
       "-------------------------------------------------------------------------------\n",
       "Intercept    8.401e+04   1001.609     83.877      0.000     8.2e+04     8.6e+04\n",
       "rd_spend       3.7e+04   2130.184     17.369      0.000    3.27e+04    4.13e+04\n",
       "admin_spend  -756.6017   1463.413     -0.517      0.608   -3705.917    2192.714\n",
       "mkt_spend    3299.3756   2096.320      1.574      0.123    -925.479    7524.231\n",
       "ca           2.795e+04   1932.496     14.464      0.000    2.41e+04    3.18e+04\n",
       "fl           2.815e+04   1993.572     14.121      0.000    2.41e+04    3.22e+04\n",
       "ny           2.791e+04   1913.989     14.582      0.000    2.41e+04    3.18e+04\n",
       "==============================================================================\n",
       "Omnibus:                       14.782   Durbin-Watson:                   1.283\n",
       "Prob(Omnibus):                  0.001   Jarque-Bera (JB):               21.266\n",
       "Skew:                          -0.948   Prob(JB):                     2.41e-05\n",
       "Kurtosis:                       5.572   Cond. No.                     1.96e+16\n",
       "==============================================================================\n",
       "\n",
       "Notes:\n",
       "[1] Standard Errors assume that the covariance matrix of the errors is correctly specified.\n",
       "[2] The smallest eigenvalue is 2.26e-31. This might indicate that there are\n",
       "strong multicollinearity problems or that the design matrix is singular.\n",
       "\"\"\""
      ]
     },
     "execution_count": 49,
     "metadata": {},
     "output_type": "execute_result"
    }
   ],
   "source": [
    "regfit.summary()"
   ]
  },
  {
   "cell_type": "markdown",
   "id": "ae688e53-c04e-4fa9-84cf-542dfd956c05",
   "metadata": {},
   "source": [
    "## 6.3. Método Gradiente Descendente\n",
    "Apresenta framework de trabalho mais genérico, entender a relação entre as respostas e os preditores\n"
   ]
  },
  {
   "cell_type": "markdown",
   "id": "44e265a1-6c48-4aa0-a2ed-1861be58b7b1",
   "metadata": {},
   "source": [
    "### 6.3.1. Função perda\n",
    "* Previsão da resposta\n",
    "* Calcular os erros de previsão\n",
    "* Calcular o quadrado dos erros\n",
    "* Calcular a perda"
   ]
  },
  {
   "cell_type": "code",
   "execution_count": 31,
   "id": "4b4e3c8f-70ed-4c9b-a03a-f02e9843d86a",
   "metadata": {},
   "outputs": [],
   "source": [
    "def funcao_perda(x, y, beta):\n",
    "    import numpy as np\n",
    "\n",
    "    \"\"\"\n",
    "    x é a matriz com os regressores \n",
    "    y é a série com a resposta\n",
    "    beta é a série dos parâmetros\n",
    "    \"\"\"\n",
    "    m, n = x.shape\n",
    "\n",
    "    # Previsão da resposta: produto escalar entre os vetores de parâmetros e o dataframe com os regressores\n",
    "    pred = x.dot(beta)\n",
    "\n",
    "    # Calcular os erros de previsão: é a diferença entre o valor real da variável y e o valor previsto pelo modelo\n",
    "    res = np.subtract(pred, y.squeeze())\n",
    "\n",
    "    # Calcular o quadrado dos erros\n",
    "    sqrRes = np.square(res)\n",
    "\n",
    "    # Calcular a perda\n",
    "    perda = 1 / (2 * m) * np.sum(sqrRes)\n",
    "\n",
    "    return perda"
   ]
  },
  {
   "cell_type": "markdown",
   "id": "4c1574c5-8e5a-4568-99aa-6c067b9c09f9",
   "metadata": {},
   "source": [
    "### 6.3.2. Função gradiente descendente"
   ]
  },
  {
   "cell_type": "code",
   "execution_count": 32,
   "id": "8bfe481f-ceaf-464a-a07e-a2f8f3eba903",
   "metadata": {},
   "outputs": [],
   "source": [
    "def grad_des(x, y, beta, alpha, itera):\n",
    "    import numpy as np\n",
    "\n",
    "    \"\"\"\n",
    "    x é a matriz dos regressores\n",
    "    y é a série da resposta\n",
    "    beta é a série dos valores iniciais dos parâmetros\n",
    "    alpha é a taxa de aprendizagem (escalar), determina o quanto o algoritmo vai caminhar em direção ao novo beta\n",
    "    itera é o número de iterações do algoritmo\n",
    "    \n",
    "    Resultados\n",
    "    \n",
    "    beta é a série com os valores finais dos parâmetros\n",
    "    hperda é a série histórica das perdas\n",
    "    \"\"\"\n",
    "    m, n = x.shape\n",
    "\n",
    "    # Inicializa a série do histórico de perdas: ajuda a encontrar os melhores valores de alpha para alcançar uma melhor convergência\n",
    "    hPerda = np.zeros(itera)\n",
    "\n",
    "    for i in range(itera):\n",
    "\n",
    "        # Calcula as previsões com os valores atuais dos parâmetros\n",
    "        pred = x.dot(beta)\n",
    "\n",
    "        # Calcula os resíduos de previsão: previsão - resposta\n",
    "        res = np.subtract(pred, y.squeeze())\n",
    "\n",
    "        # Calcula o incremento/decremento valor dos betas - derivada parcial da função perda:\n",
    "        # quanto maior o alpha, maior o passo que o algoritmo dará para o próximo beta\n",
    "        sumDelta = (alpha / m) * x.transpose().dot(res)\n",
    "\n",
    "        # Atualizar os valores dos betas do modelo\n",
    "        beta = beta - sumDelta\n",
    "\n",
    "        # Calcula a nova perda com os novos valores dos betas\n",
    "        hPerda[i] = funcao_perda(x, y, beta)\n",
    "\n",
    "    return beta, hPerda"
   ]
  },
  {
   "cell_type": "markdown",
   "id": "4875eb7b-f607-457f-9f5a-7d0cfe081894",
   "metadata": {},
   "source": [
    "### 6.3.3. Aplicação do algoritmo\n",
    "* Configure o algoritmo\n",
    "* Aplique o algoritmo\n",
    "* Estude a convergência\n",
    "\n",
    "Lembrando que o df x não contempla a feature resposta '**Profit**'"
   ]
  },
  {
   "cell_type": "code",
   "execution_count": 50,
   "id": "d273a19a-e0d5-46f0-8cff-7993029ecde8",
   "metadata": {},
   "outputs": [],
   "source": [
    "# Salva o tamanho do df x com os regressores - incluindo intercept\n",
    "m, n = x.shape\n",
    "\n",
    "# Inicializa a série de betas\n",
    "beta = np.zeros(n)\n",
    "\n",
    "# Quantidade de iterações\n",
    "itera = 1000\n",
    "\n",
    "# Taxa de aprendizagem, quanto maior o valor, mais rápida é a taxa\n",
    "alpha = 0.3"
   ]
  },
  {
   "cell_type": "code",
   "execution_count": 51,
   "id": "3ee1b536-bded-41e7-9426-9ec588ebbb57",
   "metadata": {},
   "outputs": [
    {
     "data": {
      "text/html": [
       "<div>\n",
       "<style scoped>\n",
       "    .dataframe tbody tr th:only-of-type {\n",
       "        vertical-align: middle;\n",
       "    }\n",
       "\n",
       "    .dataframe tbody tr th {\n",
       "        vertical-align: top;\n",
       "    }\n",
       "\n",
       "    .dataframe thead th {\n",
       "        text-align: right;\n",
       "    }\n",
       "</style>\n",
       "<table border=\"1\" class=\"dataframe\">\n",
       "  <thead>\n",
       "    <tr style=\"text-align: right;\">\n",
       "      <th></th>\n",
       "      <th>Intercept</th>\n",
       "      <th>rd_spend</th>\n",
       "      <th>admin_spend</th>\n",
       "      <th>mkt_spend</th>\n",
       "      <th>ca</th>\n",
       "      <th>fl</th>\n",
       "      <th>ny</th>\n",
       "    </tr>\n",
       "  </thead>\n",
       "  <tbody>\n",
       "    <tr>\n",
       "      <th>0</th>\n",
       "      <td>1.0</td>\n",
       "      <td>1.996146</td>\n",
       "      <td>0.555117</td>\n",
       "      <td>2.132295</td>\n",
       "      <td>0.0</td>\n",
       "      <td>0.0</td>\n",
       "      <td>1.0</td>\n",
       "    </tr>\n",
       "    <tr>\n",
       "      <th>1</th>\n",
       "      <td>1.0</td>\n",
       "      <td>1.936203</td>\n",
       "      <td>1.071924</td>\n",
       "      <td>1.904267</td>\n",
       "      <td>1.0</td>\n",
       "      <td>0.0</td>\n",
       "      <td>0.0</td>\n",
       "    </tr>\n",
       "    <tr>\n",
       "      <th>2</th>\n",
       "      <td>1.0</td>\n",
       "      <td>1.736731</td>\n",
       "      <td>-0.720938</td>\n",
       "      <td>1.610180</td>\n",
       "      <td>0.0</td>\n",
       "      <td>1.0</td>\n",
       "      <td>0.0</td>\n",
       "    </tr>\n",
       "    <tr>\n",
       "      <th>3</th>\n",
       "      <td>1.0</td>\n",
       "      <td>1.539157</td>\n",
       "      <td>-0.095396</td>\n",
       "      <td>1.407916</td>\n",
       "      <td>0.0</td>\n",
       "      <td>0.0</td>\n",
       "      <td>1.0</td>\n",
       "    </tr>\n",
       "    <tr>\n",
       "      <th>4</th>\n",
       "      <td>1.0</td>\n",
       "      <td>1.489812</td>\n",
       "      <td>-1.069066</td>\n",
       "      <td>1.268648</td>\n",
       "      <td>0.0</td>\n",
       "      <td>1.0</td>\n",
       "      <td>0.0</td>\n",
       "    </tr>\n",
       "  </tbody>\n",
       "</table>\n",
       "</div>"
      ],
      "text/plain": [
       "   Intercept  rd_spend  admin_spend  mkt_spend   ca   fl   ny\n",
       "0        1.0  1.996146     0.555117   2.132295  0.0  0.0  1.0\n",
       "1        1.0  1.936203     1.071924   1.904267  1.0  0.0  0.0\n",
       "2        1.0  1.736731    -0.720938   1.610180  0.0  1.0  0.0\n",
       "3        1.0  1.539157    -0.095396   1.407916  0.0  0.0  1.0\n",
       "4        1.0  1.489812    -1.069066   1.268648  0.0  1.0  0.0"
      ]
     },
     "execution_count": 51,
     "metadata": {},
     "output_type": "execute_result"
    }
   ],
   "source": [
    "x.head()"
   ]
  },
  {
   "cell_type": "code",
   "execution_count": 52,
   "id": "2c63927a-f7e0-4939-be9b-06aa469956fb",
   "metadata": {},
   "outputs": [
    {
     "data": {
      "text/plain": [
       "array([0., 0., 0., 0., 0., 0., 0.])"
      ]
     },
     "execution_count": 52,
     "metadata": {},
     "output_type": "execute_result"
    }
   ],
   "source": [
    "beta"
   ]
  },
  {
   "cell_type": "code",
   "execution_count": 53,
   "id": "9637504a-1640-4114-9be6-6ace3e6a3b79",
   "metadata": {},
   "outputs": [],
   "source": [
    "beta, hPerda = grad_des(x=x, y=y, beta=beta, alpha=alpha, itera=itera)"
   ]
  },
  {
   "cell_type": "code",
   "execution_count": 54,
   "id": "d8991fcf-39dd-4328-9b9a-3626fddb73e9",
   "metadata": {},
   "outputs": [
    {
     "data": {
      "text/plain": [
       "Intercept      84011.676723\n",
       "rd_spend       36998.279697\n",
       "admin_spend     -756.601699\n",
       "mkt_spend       3299.375589\n",
       "ca             27951.591650\n",
       "fl             28150.380443\n",
       "ny             27909.704631\n",
       "dtype: float64"
      ]
     },
     "execution_count": 54,
     "metadata": {},
     "output_type": "execute_result"
    }
   ],
   "source": [
    "beta"
   ]
  },
  {
   "cell_type": "markdown",
   "id": "c2706147-ec62-43bf-9d74-93bef8eca6b1",
   "metadata": {},
   "source": [
    "### 6.3.4. Estudo de convergência"
   ]
  },
  {
   "cell_type": "code",
   "execution_count": 55,
   "id": "75608bd9-788d-463a-9f2c-c487fc861a29",
   "metadata": {},
   "outputs": [
    {
     "data": {
      "image/png": "[encoded data removed]",
      "text/plain": [
       "<Figure size 504x360 with 1 Axes>"
      ]
     },
     "metadata": {
      "needs_background": "light"
     },
     "output_type": "display_data"
    }
   ],
   "source": [
    "plt.figure(figsize=(7, 5))\n",
    "\n",
    "sns.lineplot(x=range(1, itera + 1), y=hPerda)\n",
    "\n",
    "plt.xlabel(\"Iterações\")\n",
    "plt.ylabel(\"Erro quadrado médio\")\n",
    "plt.title(\"Histórico de perdas\")\n",
    "\n",
    "plt.show()"
   ]
  },
  {
   "cell_type": "markdown",
   "id": "63d5e9b6-596d-49e0-a0fa-b26ed6afa6d3",
   "metadata": {},
   "source": [
    "# 7. Significância estatística\n",
    "* Crie um sumário e analise os dados de significância estatística do modelo;\n",
    "* Reajuste do modelo e criação de matriz\n",
    "* Reajuste o sumário e traga as informações fundamentasi a serem analisadas"
   ]
  },
  {
   "cell_type": "markdown",
   "id": "931a89a8-cbfd-43bd-8152-71cceaa96978",
   "metadata": {},
   "source": [
    "## 7.1. Sumário do modelo"
   ]
  },
  {
   "cell_type": "code",
   "execution_count": 56,
   "id": "77603499-c750-4d7e-bcb0-19da67e47411",
   "metadata": {},
   "outputs": [
    {
     "name": "stdout",
     "output_type": "stream",
     "text": [
      "                            OLS Regression Results                            \n",
      "==============================================================================\n",
      "Dep. Variable:                 Profit   R-squared:                       0.951\n",
      "Model:                            OLS   Adj. R-squared:                  0.945\n",
      "Method:                 Least Squares   F-statistic:                     169.9\n",
      "Date:                Thu, 05 May 2022   Prob (F-statistic):           1.34e-27\n",
      "Time:                        09:54:20   Log-Likelihood:                -525.38\n",
      "No. Observations:                  50   AIC:                             1063.\n",
      "Df Residuals:                      44   BIC:                             1074.\n",
      "Df Model:                           5                                         \n",
      "Covariance Type:            nonrobust                                         \n",
      "===============================================================================\n",
      "                  coef    std err          t      P>|t|      [0.025      0.975]\n",
      "-------------------------------------------------------------------------------\n",
      "Intercept    8.401e+04   1001.609     83.877      0.000     8.2e+04     8.6e+04\n",
      "rd_spend       3.7e+04   2130.184     17.369      0.000    3.27e+04    4.13e+04\n",
      "admin_spend  -756.6017   1463.413     -0.517      0.608   -3705.917    2192.714\n",
      "mkt_spend    3299.3756   2096.320      1.574      0.123    -925.479    7524.231\n",
      "ca           2.795e+04   1932.496     14.464      0.000    2.41e+04    3.18e+04\n",
      "fl           2.815e+04   1993.572     14.121      0.000    2.41e+04    3.22e+04\n",
      "ny           2.791e+04   1913.989     14.582      0.000    2.41e+04    3.18e+04\n",
      "==============================================================================\n",
      "Omnibus:                       14.782   Durbin-Watson:                   1.283\n",
      "Prob(Omnibus):                  0.001   Jarque-Bera (JB):               21.266\n",
      "Skew:                          -0.948   Prob(JB):                     2.41e-05\n",
      "Kurtosis:                       5.572   Cond. No.                     1.96e+16\n",
      "==============================================================================\n",
      "\n",
      "Notes:\n",
      "[1] Standard Errors assume that the covariance matrix of the errors is correctly specified.\n",
      "[2] The smallest eigenvalue is 2.26e-31. This might indicate that there are\n",
      "strong multicollinearity problems or that the design matrix is singular.\n"
     ]
    }
   ],
   "source": [
    "print(regfit.summary())"
   ]
  },
  {
   "cell_type": "markdown",
   "id": "402c2b3e-748e-49e2-a75e-e98a82de837e",
   "metadata": {},
   "source": [
    "## 7.2. Reajuste do modelo\n",
    "\n",
    "Retirando a variável **adm** por ser pouco representativa"
   ]
  },
  {
   "cell_type": "markdown",
   "id": "ca82b04e-36f6-42d5-a472-198ca8e296e6",
   "metadata": {},
   "source": [
    "### 7.2.1. Nova matriz do modelo"
   ]
  },
  {
   "cell_type": "code",
   "execution_count": 60,
   "id": "474c6e48-0e7d-4183-9cba-c5f69dc9828c",
   "metadata": {},
   "outputs": [],
   "source": [
    "y, xRed = pt.dmatrices(\n",
    "    ols_formula(dfFull, \"Profit\", \"admin_spend\"), data=dfFull, return_type=\"dataframe\"\n",
    ")"
   ]
  },
  {
   "cell_type": "markdown",
   "id": "f798e1ed-e5c4-4f44-9831-ed8eb54ed681",
   "metadata": {},
   "source": [
    "### 7.2.2. Ajuste da matriz\n",
    "Ao remover um fator não significativo do modelo, para ajuste melhor."
   ]
  },
  {
   "cell_type": "code",
   "execution_count": 62,
   "id": "8219fafd-b57b-4913-8fc6-489cc8e189d7",
   "metadata": {},
   "outputs": [],
   "source": [
    "reg2 = sm.OLS(y, xRed)\n",
    "reg2fit = reg2.fit()"
   ]
  },
  {
   "cell_type": "code",
   "execution_count": 64,
   "id": "ec143f2a-62d8-4ad4-a9b7-d33a95bbb91c",
   "metadata": {},
   "outputs": [
    {
     "name": "stdout",
     "output_type": "stream",
     "text": [
      "                            OLS Regression Results                            \n",
      "==============================================================================\n",
      "Dep. Variable:                 Profit   R-squared:                       0.950\n",
      "Model:                            OLS   Adj. R-squared:                  0.946\n",
      "Method:                 Least Squares   F-statistic:                     215.8\n",
      "Date:                Thu, 05 May 2022   Prob (F-statistic):           9.72e-29\n",
      "Time:                        10:13:11   Log-Likelihood:                -525.53\n",
      "No. Observations:                  50   AIC:                             1061.\n",
      "Df Residuals:                      45   BIC:                             1071.\n",
      "Df Model:                           4                                         \n",
      "Covariance Type:            nonrobust                                         \n",
      "==============================================================================\n",
      "                 coef    std err          t      P>|t|      [0.025      0.975]\n",
      "------------------------------------------------------------------------------\n",
      "Intercept   8.401e+04    993.420     84.567      0.000     8.2e+04     8.6e+04\n",
      "rd_spend    3.657e+04   1948.322     18.771      0.000    3.26e+04    4.05e+04\n",
      "mkt_spend   3638.2094   1974.965      1.842      0.072    -339.575    7615.993\n",
      "ca          2.796e+04   1916.569     14.590      0.000    2.41e+04    3.18e+04\n",
      "fl           2.81e+04   1975.275     14.228      0.000    2.41e+04    3.21e+04\n",
      "ny          2.794e+04   1897.221     14.729      0.000    2.41e+04    3.18e+04\n",
      "==============================================================================\n",
      "Omnibus:                       14.640   Durbin-Watson:                   1.257\n",
      "Prob(Omnibus):                  0.001   Jarque-Bera (JB):               21.037\n",
      "Skew:                          -0.938   Prob(JB):                     2.70e-05\n",
      "Kurtosis:                       5.565   Cond. No.                     2.52e+16\n",
      "==============================================================================\n",
      "\n",
      "Notes:\n",
      "[1] Standard Errors assume that the covariance matrix of the errors is correctly specified.\n",
      "[2] The smallest eigenvalue is 1.34e-31. This might indicate that there are\n",
      "strong multicollinearity problems or that the design matrix is singular.\n"
     ]
    }
   ],
   "source": [
    "print(reg2fit.summary())"
   ]
  },
  {
   "cell_type": "code",
   "execution_count": null,
   "id": "a225a39a-0c2b-4766-943b-934a46ea6004",
   "metadata": {},
   "outputs": [],
   "source": []
  }
 ],
 "metadata": {
  "kernelspec": {
   "display_name": "Python 3 (ipykernel)",
   "language": "python",
   "name": "python3"
  },
  "language_info": {
   "codemirror_mode": {
    "name": "ipython",
    "version": 3
   },
   "file_extension": ".py",
   "mimetype": "text/x-python",
   "name": "python",
   "nbconvert_exporter": "python",
   "pygments_lexer": "ipython3",
   "version": "3.9.7"
  },
  "toc-autonumbering": false,
  "toc-showcode": false,
  "toc-showmarkdowntxt": false,
  "widgets": {
   "application/vnd.jupyter.widget-state+json": {
    "state": {},
    "version_major": 2,
    "version_minor": 0
   }
  }
 },
 "nbformat": 4,
 "nbformat_minor": 5
}
